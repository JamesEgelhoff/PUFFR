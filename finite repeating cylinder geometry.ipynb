{
 "cells": [
  {
   "cell_type": "code",
   "execution_count": 1,
   "metadata": {},
   "outputs": [],
   "source": [
    "%matplotlib inline\n",
    "import numpy as np\n",
    "import openmc"
   ]
  },
  {
   "cell_type": "code",
   "execution_count": 373,
   "metadata": {
    "scrolled": false
   },
   "outputs": [
    {
     "name": "stdout",
     "output_type": "stream",
     "text": [
      "Material\n",
      "\tID             =\t1\n",
      "\tName           =\tAm242m\n",
      "\tTemperature    =\tNone\n",
      "\tDensity        =\t13.6 [g/cm3]\n",
      "\tS(a,b) Tables  \n",
      "\tNuclides       \n",
      "\tAm242_m1       =\t1            [ao]\n",
      "\n",
      "Material\n",
      "\tID             =\t11\n",
      "\tName           =\tAm242m less enriched\n",
      "\tTemperature    =\tNone\n",
      "\tDensity        =\t0.136 [g/cm3]\n",
      "\tS(a,b) Tables  \n",
      "\tNuclides       \n",
      "\tAm242_m1       =\t0.95         [ao]\n",
      "\tAm241          =\t0.05         [ao]\n",
      "\n",
      "Material\n",
      "\tID             =\t2\n",
      "\tName           =\tBeO\n",
      "\tTemperature    =\tNone\n",
      "\tDensity        =\t2.86 [g/cm3]\n",
      "\tS(a,b) Tables  \n",
      "\tNuclides       \n",
      "\tBe9            =\t0.5          [ao]\n",
      "\tO16            =\t0.5          [ao]\n",
      "\n",
      "Material\n",
      "\tID             =\t7\n",
      "\tName           =\tBe\n",
      "\tTemperature    =\tNone\n",
      "\tDensity        =\t1.85 [g/cm3]\n",
      "\tS(a,b) Tables  \n",
      "\tNuclides       \n",
      "\tBe9            =\t1.0          [ao]\n",
      "\n",
      "Material\n",
      "\tID             =\t10\n",
      "\tName           =\tH1\n",
      "\tTemperature    =\tNone\n",
      "\tDensity        =\t1e-06 [g/cm3]\n",
      "\tS(a,b) Tables  \n",
      "\tNuclides       \n",
      "\tH1             =\t1.0          [ao]\n",
      "\n"
     ]
    },
    {
     "name": "stderr",
     "output_type": "stream",
     "text": [
      "/home/james/anaconda3/lib/python3.6/site-packages/openmc/mixin.py:61: IDWarning: Another Material instance already exists with id=1.\n",
      "  warn(msg, IDWarning)\n",
      "/home/james/anaconda3/lib/python3.6/site-packages/openmc/mixin.py:61: IDWarning: Another Material instance already exists with id=11.\n",
      "  warn(msg, IDWarning)\n",
      "/home/james/anaconda3/lib/python3.6/site-packages/openmc/mixin.py:61: IDWarning: Another Material instance already exists with id=2.\n",
      "  warn(msg, IDWarning)\n",
      "/home/james/anaconda3/lib/python3.6/site-packages/openmc/mixin.py:61: IDWarning: Another Material instance already exists with id=7.\n",
      "  warn(msg, IDWarning)\n",
      "/home/james/anaconda3/lib/python3.6/site-packages/openmc/mixin.py:61: IDWarning: Another Material instance already exists with id=10.\n",
      "  warn(msg, IDWarning)\n"
     ]
    }
   ],
   "source": [
    "#create materials\n",
    "\n",
    "#fuel\n",
    "fuel = openmc.Material(1, \"Am242m\")\n",
    "fuel.add_nuclide('Am242_m1',1)\n",
    "fuel.set_density('g/cm3',13.6)\n",
    "print(fuel)\n",
    "\n",
    "#fuel (low density to simulate dispersed particles in aerogel)\n",
    "fuel2 = openmc.Material(11, \"Am242m less enriched\")\n",
    "fuel2.add_nuclide('Am242_m1', .95)\n",
    "fuel2.add_nuclide('Am241', .05)\n",
    "fuel2.set_density('g/cm3', .136)\n",
    "print(fuel2)\n",
    "\n",
    "#moderator\n",
    "BeO = openmc.Material(2, \"BeO\")\n",
    "BeO.add_nuclide(\"Be9\", .5)\n",
    "BeO.add_nuclide(\"O16\", .5)\n",
    "BeO.set_density(\"g/cm3\", 2.86)\n",
    "print(BeO)\n",
    "\n",
    "#Be moderator\n",
    "Be = openmc.Material(7, \"Be\")\n",
    "Be.add_nuclide(\"Be9\", 1.0)\n",
    "Be.set_density(\"g/cm3\", 1.85)\n",
    "print(Be)\n",
    "\n",
    "#\"vacuum\"\n",
    "vac = openmc.Material(10, \"H1\")\n",
    "vac.add_nuclide('H1',1.0)\n",
    "vac.set_density('g/cm3',0.000001)\n",
    "print(vac)\n",
    "\n",
    "#reflector\n",
    "#may add a reflector in the future. for now just BeO moderator"
   ]
  },
  {
   "cell_type": "code",
   "execution_count": 499,
   "metadata": {},
   "outputs": [],
   "source": [
    "# Outer radius of fuel\n",
    "fuel_outer = .5 #cm fuel outer radius\n",
    "fuel_thickness = .1\n",
    "fuel_inner = fuel_outer - fuel_thickness #inner radius for fuel layer\n",
    "\n",
    "# parameters for depth of various things\n",
    "fuel_depth = 60 #depth of fuel/moderator disk\n",
    "ref_depth = 10 #depth of top reflecting/moderating layer\n",
    "\n",
    "#edge length of hexagonal fuel cell\n",
    "mod_thickness = 1.5\n",
    "hex_dis = fuel_outer + mod_thickness\n",
    "edge = hex_dis * 2 / np.sqrt(3)\n",
    "\n",
    "#outer radius of fuel disk\n",
    "disk_outer = 30 # radius in cm\n",
    "\n",
    "mod_layers = 1"
   ]
  },
  {
   "cell_type": "code",
   "execution_count": 500,
   "metadata": {},
   "outputs": [
    {
     "name": "stderr",
     "output_type": "stream",
     "text": [
      "/home/james/anaconda3/lib/python3.6/site-packages/openmc/mixin.py:61: IDWarning: Another Cell instance already exists with id=1.\n",
      "  warn(msg, IDWarning)\n",
      "/home/james/anaconda3/lib/python3.6/site-packages/openmc/mixin.py:61: IDWarning: Another Cell instance already exists with id=2.\n",
      "  warn(msg, IDWarning)\n",
      "/home/james/anaconda3/lib/python3.6/site-packages/openmc/mixin.py:61: IDWarning: Another Cell instance already exists with id=4.\n",
      "  warn(msg, IDWarning)\n",
      "/home/james/anaconda3/lib/python3.6/site-packages/openmc/mixin.py:61: IDWarning: Another Cell instance already exists with id=6.\n",
      "  warn(msg, IDWarning)\n"
     ]
    }
   ],
   "source": [
    "#define a cell surface for a single fuel cylinder\n",
    "f_inner_surf = openmc.ZCylinder(R=fuel_inner, boundary_type=\"transmission\")\n",
    "f_outer_surf = openmc.ZCylinder(R=fuel_outer, boundary_type=\"transmission\")\n",
    "f_lower_surf = openmc.ZPlane(z0=0, boundary_type=\"vacuum\")\n",
    "f_upper_surf = openmc.ZPlane(z0=fuel_depth, boundary_type=\"transmission\")\n",
    "m_upper_surf = openmc.ZPlane(z0=fuel_depth+ref_depth, boundary_type=\"vacuum\")\n",
    "\n",
    "outer_bound = openmc.ZCylinder(R=disk_outer+2*hex_dis, boundary_type=\"vacuum\")\n",
    "\n",
    "hex_region = openmc.get_hexagonal_prism(edge_length=edge, orientation='x', boundary_type=\"transmission\")\n",
    "\n",
    "hex_mod = +f_upper_surf & -m_upper_surf & hex_region\n",
    "hex_edge = +f_lower_surf & -m_upper_surf & hex_region\n",
    "\n",
    "fuel_region = -f_outer_surf & +f_inner_surf & -f_upper_surf & +f_lower_surf\n",
    "mod_region = +f_outer_surf & -f_upper_surf & + f_lower_surf & hex_region | hex_mod\n",
    "vac_region = ~fuel_region&~mod_region\n",
    "\n",
    "#fill the fuel region\n",
    "f=openmc.Cell(1, 'fuel')\n",
    "f.fill=fuel2\n",
    "f.region=fuel_region\n",
    "\n",
    "#fill the moderator regions\n",
    "m = openmc.Cell(2, 'moderator region 1')\n",
    "m.fill=BeO\n",
    "m.region=mod_region\n",
    "\n",
    "medge = openmc.Cell(4, 'full plug hex')\n",
    "medge.fill = BeO\n",
    "medge.region = hex_edge\n",
    "\n",
    "v = openmc.Cell(6, 'vacuum')\n",
    "v.fill = vac\n",
    "v.region = vac_region"
   ]
  },
  {
   "cell_type": "code",
   "execution_count": 501,
   "metadata": {},
   "outputs": [
    {
     "data": {
      "image/png": "[encoded data removed]",
      "text/plain": [
       "<Figure size 432x288 with 1 Axes>"
      ]
     },
     "metadata": {
      "needs_background": "light"
     },
     "output_type": "display_data"
    }
   ],
   "source": [
    "#visualize the fuel geometry\n",
    "f_univ = openmc.Universe(cells=[f, m, v])\n",
    "f_univ.plot(width=(3*hex_dis, 3*hex_dis), origin = (0,0,fuel_depth/2), basis='xy')"
   ]
  },
  {
   "cell_type": "code",
   "execution_count": 502,
   "metadata": {
    "scrolled": true
   },
   "outputs": [
    {
     "data": {
      "image/png": "[encoded data removed]",
      "text/plain": [
       "<Figure size 432x288 with 1 Axes>"
      ]
     },
     "metadata": {
      "needs_background": "light"
     },
     "output_type": "display_data"
    }
   ],
   "source": [
    "f_univ.plot(width=(3*hex_dis, fuel_depth+ref_depth+2), origin = (0, 0, (fuel_depth+ref_depth)/2), basis='xz')"
   ]
  },
  {
   "cell_type": "code",
   "execution_count": 503,
   "metadata": {},
   "outputs": [],
   "source": [
    "edge_plug = openmc.Universe(cells=[medge])"
   ]
  },
  {
   "cell_type": "code",
   "execution_count": 504,
   "metadata": {},
   "outputs": [
    {
     "name": "stdout",
     "output_type": "stream",
     "text": [
      "7\n"
     ]
    },
    {
     "name": "stderr",
     "output_type": "stream",
     "text": [
      "/home/james/anaconda3/lib/python3.6/site-packages/openmc/mixin.py:61: IDWarning: Another Cell instance already exists with id=7.\n",
      "  warn(msg, IDWarning)\n"
     ]
    }
   ],
   "source": [
    "#define the outer universe\n",
    "out_reg = +f_lower_surf & -m_upper_surf & -outer_bound\n",
    "out = openmc.Cell(7, 'outer universe cell')\n",
    "out.region = out_reg\n",
    "out.fill = vac\n",
    "outer_uni = openmc.Universe(cells=[out])\n",
    "\n",
    "#create a hexagonal lattice geometry\n",
    "hexag = openmc.HexLattice()\n",
    "hexag.center = (0,0)\n",
    "hexag.pitch = [2*hex_dis]\n",
    "hexag.outer = outer_uni\n",
    "\n",
    "\n",
    "#construct the fuel cell specification\n",
    "#iterate the number of rings so to fill up disk cylinder\n",
    "rings = 0\n",
    "while 2*rings*2*hex_dis < 2*disk_outer:\n",
    "    rings=rings+1\n",
    "\n",
    "u = []\n",
    "print(rings-mod_layers)\n",
    "for i in range(rings,0,-1):\n",
    "    if i == 1:\n",
    "        num = 1\n",
    "    else:\n",
    "        num = (i-1)*6\n",
    "    fill = []\n",
    "    for j in range(0,num):\n",
    "        if i > rings-mod_layers:\n",
    "            fill.append(edge_plug)\n",
    "        else:\n",
    "            fill.append(f_univ)\n",
    "    u.append(fill)\n",
    "\n",
    "hexag.universes = u"
   ]
  },
  {
   "cell_type": "code",
   "execution_count": 505,
   "metadata": {},
   "outputs": [
    {
     "data": {
      "image/png": "[encoded data removed]",
      "text/plain": [
       "<Figure size 432x288 with 1 Axes>"
      ]
     },
     "metadata": {
      "needs_background": "light"
     },
     "output_type": "display_data"
    }
   ],
   "source": [
    "hex_cell = openmc.Cell(name='fuel disk')\n",
    "hex_cell.fill = hexag\n",
    "\n",
    "# Create final universe\n",
    "uni = openmc.Universe(name='uni')\n",
    "uni.add_cell(hex_cell)\n",
    "uni.region = -outer_bound & +f_lower_surf & -m_upper_surf\n",
    "\n",
    "\n",
    "uni.plot(width=(2.2*disk_outer, 2.2*disk_outer), origin = (0,0,(fuel_depth+ref_depth)/5), basis='xy', color_by='material')"
   ]
  },
  {
   "cell_type": "code",
   "execution_count": 506,
   "metadata": {
    "scrolled": true
   },
   "outputs": [
    {
     "data": {
      "image/png": "[encoded data removed]",
      "text/plain": [
       "<Figure size 432x288 with 1 Axes>"
      ]
     },
     "metadata": {
      "needs_background": "light"
     },
     "output_type": "display_data"
    }
   ],
   "source": [
    "#zoom in\n",
    "uni.plot(width=(5*hex_dis, 5*hex_dis), basis='xy', color_by='material')"
   ]
  },
  {
   "cell_type": "code",
   "execution_count": 507,
   "metadata": {},
   "outputs": [
    {
     "data": {
      "image/png": "[encoded data removed]",
      "text/plain": [
       "<Figure size 432x288 with 1 Axes>"
      ]
     },
     "metadata": {
      "needs_background": "light"
     },
     "output_type": "display_data"
    }
   ],
   "source": [
    "uni.plot(width=(2.2*disk_outer, 1.5*(fuel_depth+ref_depth)), origin=(0, .001, (fuel_depth+ref_depth)/2), basis='xz', color_by='material')"
   ]
  },
  {
   "cell_type": "code",
   "execution_count": 508,
   "metadata": {},
   "outputs": [],
   "source": [
    "#create root universe\n",
    "geom = openmc.Geometry()\n",
    "geom.root_universe = uni\n",
    "\n",
    "#configure statistics geometry\n",
    "#source = openmc.stats.Box((-20, -20, 0), (20, 20, fuel_depth))\n",
    "source = openmc.stats.Point((fuel_outer - fuel_thickness/2, 0, fuel_depth/2))\n",
    "src = openmc.Source(space=source)\n",
    "\n",
    "#export geometry\n",
    "geom.export_to_xml()"
   ]
  },
  {
   "cell_type": "code",
   "execution_count": 509,
   "metadata": {},
   "outputs": [],
   "source": [
    "#create materials & cross sections xmls\n",
    "mats = openmc.Materials()\n",
    "mats.cross_sections = '/home/james/nndc_hdf5/cross_sections.xml' #comment this out/replace if you need to\n",
    "mats.append(fuel)\n",
    "mats += [fuel2]\n",
    "mats += [BeO]\n",
    "mats += [Be]\n",
    "mats += [vac]\n",
    "\n",
    "#export materials\n",
    "mats.export_to_xml()"
   ]
  },
  {
   "cell_type": "code",
   "execution_count": 510,
   "metadata": {},
   "outputs": [],
   "source": [
    "settings = openmc.Settings()\n",
    "settings.particles = 1000\n",
    "settings.batches = 20\n",
    "settings.inactive = 10\n",
    "settings.source = src\n",
    "settings.export_to_xml()"
   ]
  },
  {
   "cell_type": "code",
   "execution_count": 511,
   "metadata": {},
   "outputs": [
    {
     "name": "stderr",
     "output_type": "stream",
     "text": [
      "/home/james/anaconda3/lib/python3.6/site-packages/openmc/mixin.py:61: IDWarning: Another Tally instance already exists with id=4.\n",
      "  warn(msg, IDWarning)\n"
     ]
    }
   ],
   "source": [
    "#configure tallies\n",
    "cell_filter = openmc.CellFilter(f)\n",
    "t = openmc.Tally(4)\n",
    "t.filters = [cell_filter]\n",
    "t.scores = ['fission']\n",
    "tallies = openmc.Tallies([t])\n",
    "\n",
    "#export tallies\n",
    "tallies.export_to_xml()"
   ]
  },
  {
   "cell_type": "code",
   "execution_count": 512,
   "metadata": {
    "scrolled": false
   },
   "outputs": [
    {
     "name": "stdout",
     "output_type": "stream",
     "text": [
      "openmc: Relink `/home/james/anaconda3/bin/../lib/./libgfortran.so.4' with `/lib/x86_64-linux-gnu/librt.so.1' for IFUNC symbol `clock_gettime'\n",
      "\n",
      "                               %%%%%%%%%%%%%%%\n",
      "                          %%%%%%%%%%%%%%%%%%%%%%%%\n",
      "                       %%%%%%%%%%%%%%%%%%%%%%%%%%%%%%\n",
      "                     %%%%%%%%%%%%%%%%%%%%%%%%%%%%%%%%%%\n",
      "                   %%%%%%%%%%%%%%%%%%%%%%%%%%%%%%%%%%%%%%\n",
      "                  %%%%%%%%%%%%%%%%%%%%%%%%%%%%%%%%%%%%%%%%\n",
      "                                   %%%%%%%%%%%%%%%%%%%%%%%%\n",
      "                                    %%%%%%%%%%%%%%%%%%%%%%%%\n",
      "                ###############      %%%%%%%%%%%%%%%%%%%%%%%%\n",
      "               ##################     %%%%%%%%%%%%%%%%%%%%%%%\n",
      "               ###################     %%%%%%%%%%%%%%%%%%%%%%%\n",
      "               ####################     %%%%%%%%%%%%%%%%%%%%%%\n",
      "               #####################     %%%%%%%%%%%%%%%%%%%%%\n",
      "               ######################     %%%%%%%%%%%%%%%%%%%%\n",
      "               #######################     %%%%%%%%%%%%%%%%%%\n",
      "                #######################     %%%%%%%%%%%%%%%%%\n",
      "                ######################     %%%%%%%%%%%%%%%%%\n",
      "                 ####################     %%%%%%%%%%%%%%%%%\n",
      "                   #################     %%%%%%%%%%%%%%%%%\n",
      "                    ###############     %%%%%%%%%%%%%%%%\n",
      "                      ############     %%%%%%%%%%%%%%%\n",
      "                         ########     %%%%%%%%%%%%%%\n",
      "                                     %%%%%%%%%%%\n",
      "\n",
      "                   | The OpenMC Monte Carlo Code\n",
      "         Copyright | 2011-2018 Massachusetts Institute of Technology\n",
      "           License | http://openmc.readthedocs.io/en/latest/license.html\n",
      "           Version | 0.10.0\n",
      "          Git SHA1 | 878abce958547f97279209d47c2c4a42fd310155\n",
      "         Date/Time | 2019-03-02 17:58:59\n",
      "    OpenMP Threads | 4\n",
      "\n",
      " Reading settings XML file...\n",
      " Reading cross sections XML file...\n",
      " Reading materials XML file...\n",
      " Reading geometry XML file...\n",
      " Building neighboring cells lists for each surface...\n",
      " Reading Am242_m1 from /home/james/nndc_hdf5/Am242_m1.h5\n",
      " Reading Be9 from /home/james/nndc_hdf5/Be9.h5\n",
      " Reading O16 from /home/james/nndc_hdf5/O16.h5\n",
      " Reading H1 from /home/james/nndc_hdf5/H1.h5\n",
      " Reading Am241 from /home/james/nndc_hdf5/Am241.h5\n",
      " Maximum neutron transport energy: 2.00000E+07 eV for Am242_m1\n",
      " Reading tallies XML file...\n",
      " Writing summary.h5 file...\n",
      " Initializing source particles...\n",
      "\n",
      " ====================>     K EIGENVALUE SIMULATION     <====================\n",
      "\n",
      "  Bat./Gen.      k            Average k         \n",
      "  =========   ========   ====================   \n",
      "        1/1    1.95401                       \n",
      "        2/1    1.17908                       \n",
      "        3/1    1.13089                       \n",
      "        4/1    1.03411                       \n",
      "        5/1    0.90618                       \n",
      "        6/1    1.03239                       \n",
      "        7/1    0.93294                       \n",
      "        8/1    0.99871                       \n",
      "        9/1    1.01115                       \n",
      "       10/1    1.10417                       \n",
      "       11/1    1.05447                       \n",
      "       12/1    0.97588    1.01518 +/- 0.03929\n",
      "       13/1    0.93495    0.98844 +/- 0.03507\n",
      "       14/1    1.01729    0.99565 +/- 0.02582\n",
      "       15/1    1.10748    1.01802 +/- 0.03001\n",
      "       16/1    1.01377    1.01731 +/- 0.02451\n",
      "       17/1    1.10345    1.02962 +/- 0.02410\n",
      "       18/1    1.20519    1.05156 +/- 0.03028\n",
      "       19/1    1.04976    1.05136 +/- 0.02671\n",
      "       20/1    1.07927    1.05415 +/- 0.02405\n",
      " Creating state point statepoint.20.h5...\n",
      "\n",
      " =======================>     TIMING STATISTICS     <=======================\n",
      "\n",
      " Total time for initialization     =  1.9991E-01 seconds\n",
      "   Reading cross sections          =  1.5101E-01 seconds\n",
      " Total time in simulation          =  2.2597E+00 seconds\n",
      "   Time in transport only          =  2.1610E+00 seconds\n",
      "   Time in inactive batches        =  9.6107E-01 seconds\n",
      "   Time in active batches          =  1.2986E+00 seconds\n",
      "   Time synchronizing fission bank =  6.3120E-04 seconds\n",
      "     Sampling source sites         =  4.7796E-04 seconds\n",
      "     SEND/RECV source sites        =  1.2775E-04 seconds\n",
      "   Time accumulating tallies       =  2.3205E-05 seconds\n",
      " Total time for finalization       =  1.9175E-04 seconds\n",
      " Total time elapsed                =  2.4634E+00 seconds\n",
      " Calculation Rate (inactive)       =  10405.1 neutrons/second\n",
      " Calculation Rate (active)         =  7700.34 neutrons/second\n",
      "\n",
      " ============================>     RESULTS     <============================\n",
      "\n",
      " k-effective (Collision)     =  1.03553 +/-  0.01321\n",
      " k-effective (Track-length)  =  1.05415 +/-  0.02405\n",
      " k-effective (Absorption)    =  1.03619 +/-  0.01201\n",
      " Combined k-effective        =  1.03729 +/-  0.01536\n",
      " Leakage Fraction            =  0.65620 +/-  0.00579\n",
      "\n"
     ]
    },
    {
     "data": {
      "text/plain": [
       "0"
      ]
     },
     "execution_count": 512,
     "metadata": {},
     "output_type": "execute_result"
    }
   ],
   "source": [
    "openmc.run()"
   ]
  },
  {
   "cell_type": "code",
   "execution_count": 513,
   "metadata": {},
   "outputs": [],
   "source": [
    "def rep_cyl_mass(rings, fuel_depth, fuel_outer, edge_length, ref_depth, mod_dens, mod_layers) :\n",
    "    \"\"\"\n",
    "    Calculates the mass of a repeating cylinder geometry\n",
    "    \n",
    "    Inputs:\n",
    "    Rings: number of rings of fuel/moderator hexagonal prisms\n",
    "    fuel_depth: height of the fuel/moderator section\n",
    "    fuel_outer: outer radius of fuel layer\n",
    "    edge_length: edge length of hexagonal prisms\n",
    "    ref_depth: height of moderator layer\n",
    "    mod_dens: density in g/cm3 of moderating material\n",
    "    \n",
    "    Outputs:\n",
    "    mass: mass of the engine in kg\n",
    "    \"\"\"\n",
    "    \n",
    "    mod_plugs = 0 #number of hexagonal prisms filled just with moderator\n",
    "    fuel_plugs = 1 #number of hexagonal prisms with moderator, fuel, & vacuum\n",
    "    for i in range(1, rings-mod_layers+1) : #determine number of hexagonal prisms with fuel\n",
    "        fuel_plugs += i*6\n",
    "    for i in range(rings-mod_layers+1, rings):\n",
    "        mod_plugs += i*6\n",
    "        \n",
    "    modV = (fuel_depth+ref_depth)*3*np.sqrt(3)*edge_length**2 / 2 #volume of a moderator plug\n",
    "    fuelV = (ref_depth*3*np.sqrt(3)*edge_length**2 / 2) + \\\n",
    "            fuel_depth*(3*np.sqrt(3)*edge_length**2 / 2 - np.pi*fuel_outer**2) #volume of a fuel plug\n",
    "    \n",
    "    #add up all of the masses, convert to kg\n",
    "    mass = mod_dens * (mod_plugs*modV + fuel_plugs*fuelV) / 1000\n",
    "    \n",
    "    return mass"
   ]
  },
  {
   "cell_type": "code",
   "execution_count": 514,
   "metadata": {},
   "outputs": [
    {
     "data": {
      "text/plain": [
       "446.03802400719985"
      ]
     },
     "execution_count": 514,
     "metadata": {},
     "output_type": "execute_result"
    }
   ],
   "source": [
    "rep_cyl_mass(rings, fuel_depth, fuel_outer, edge, ref_depth, 2.86, mod_layers)"
   ]
  },
  {
   "cell_type": "code",
   "execution_count": null,
   "metadata": {},
   "outputs": [],
   "source": []
  },
  {
   "cell_type": "code",
   "execution_count": null,
   "metadata": {},
   "outputs": [],
   "source": []
  }
 ],
 "metadata": {
  "kernelspec": {
   "display_name": "Python 3",
   "language": "python",
   "name": "python3"
  },
  "language_info": {
   "codemirror_mode": {
    "name": "ipython",
    "version": 3
   },
   "file_extension": ".py",
   "mimetype": "text/x-python",
   "name": "python",
   "nbconvert_exporter": "python",
   "pygments_lexer": "ipython3",
   "version": "3.6.6"
  }
 },
 "nbformat": 4,
 "nbformat_minor": 2
}
