{
 "cells": [
  {
   "cell_type": "code",
   "execution_count": 1,
   "metadata": {},
   "outputs": [],
   "source": [
    "%matplotlib inline\n",
    "import openmc"
   ]
  },
  {
   "cell_type": "code",
   "execution_count": 2,
   "metadata": {},
   "outputs": [
    {
     "name": "stdout",
     "output_type": "stream",
     "text": [
      "Material\n",
      "\tID             =\t1\n",
      "\tName           =\tAm242m\n",
      "\tTemperature    =\tNone\n",
      "\tDensity        =\t13.6 [g/cm3]\n",
      "\tS(a,b) Tables  \n",
      "\tNuclides       \n",
      "\tAm242_m1       =\t1            [ao]\n",
      "\n",
      "Material\n",
      "\tID             =\t2\n",
      "\tName           =\tBeO\n",
      "\tTemperature    =\tNone\n",
      "\tDensity        =\t2.86 [g/cm3]\n",
      "\tS(a,b) Tables  \n",
      "\tNuclides       \n",
      "\tBe9            =\t0.5          [ao]\n",
      "\tO16            =\t0.5          [ao]\n",
      "\n"
     ]
    }
   ],
   "source": [
    "#create materials\n",
    "\n",
    "#fuel\n",
    "Am = openmc.Material(1, \"Am242m\")\n",
    "Am.add_nuclide('Am242_m1',1)\n",
    "Am.set_density('g/cm3',13.6)\n",
    "print(Am)\n",
    "\n",
    "#moderator\n",
    "BeO = openmc.Material(2, \"BeO\")\n",
    "BeO.add_nuclide(\"Be9\", .5)\n",
    "BeO.add_nuclide(\"O16\", .5)\n",
    "BeO.set_density(\"g/cm3\", 2.86)\n",
    "print(BeO)"
   ]
  },
  {
   "cell_type": "code",
   "execution_count": 3,
   "metadata": {},
   "outputs": [],
   "source": [
    "#create materials & cross sections xmls\n",
    "mats = openmc.Materials()\n",
    "mats.cross_sections = '/home/james/nndc_hdf5/cross_sections.xml' #comment this out/replace if you need to\n",
    "mats.append(Am)\n",
    "mats += [BeO]\n",
    "\n",
    "#export materials\n",
    "mats.export_to_xml()"
   ]
  },
  {
   "cell_type": "code",
   "execution_count": 4,
   "metadata": {},
   "outputs": [
    {
     "data": {
      "image/png": "[encoded data removed]",
      "text/plain": [
       "<Figure size 432x288 with 1 Axes>"
      ]
     },
     "metadata": {
      "needs_background": "light"
     },
     "output_type": "display_data"
    }
   ],
   "source": [
    "#create 1D slab model\n",
    "\n",
    "fuel_width = .002 # .2 microns\n",
    "moder_width = 5 #cm\n",
    "\n",
    "#boundaries for the simulation\n",
    "z_0=openmc.ZPlane(z0=0, boundary_type=\"reflective\")\n",
    "z_f=openmc.ZPlane(z0=fuel_width)\n",
    "z_m=openmc.ZPlane(z0=fuel_width+moder_width, boundary_type=\"vacuum\")\n",
    "\n",
    "fuel_region= +z_0 & -z_f\n",
    "moderator_region= +z_f & -z_m\n",
    "vacuum_region= +z_m & -z_0\n",
    "\n",
    "#fill fuel region\n",
    "fuel=openmc.Cell(1,'fuel')\n",
    "fuel.fill=Am\n",
    "fuel.region=fuel_region\n",
    "\n",
    "#fill moderator region\n",
    "moderator=openmc.Cell(2,'moderator')\n",
    "moderator.fill=BeO\n",
    "moderator.region=moderator_region\n",
    "\n",
    "#fill vacuum region\n",
    "vacuum=openmc.Cell(3,'vacuum')\n",
    "vacuum.region=vacuum_region\n",
    "\n",
    "#visualize moderator fuel boundary\n",
    "universe = openmc.Universe(cells=[vacuum, fuel, moderator])\n",
    "universe.plot(width=(0.00001, 0.00001), basis='xz')"
   ]
  },
  {
   "cell_type": "code",
   "execution_count": 5,
   "metadata": {},
   "outputs": [],
   "source": [
    "#create root universe\n",
    "root = openmc.Universe(cells=(fuel, vacuum, moderator))\n",
    "geom = openmc.Geometry()\n",
    "geom.root_universe = root\n",
    "\n",
    "#configure statistics geometry\n",
    "source = openmc.stats.Box((0, 0, 0), (0, 0, fuel_width), only_fissionable=True)\n",
    "#source = openmc.stats.Point((0, 0, fuel_width/2))\n",
    "src = openmc.Source(space=source)\n",
    "\n",
    "#export geometry\n",
    "geom.export_to_xml()"
   ]
  },
  {
   "cell_type": "code",
   "execution_count": 6,
   "metadata": {},
   "outputs": [],
   "source": [
    "#more settings\n",
    "settings = openmc.Settings()\n",
    "settings.source = src\n",
    "settings.batches = 100\n",
    "settings.inactive = 10\n",
    "settings.particles = 1000\n",
    "\n",
    "#export settings\n",
    "settings.export_to_xml()"
   ]
  },
  {
   "cell_type": "code",
   "execution_count": 7,
   "metadata": {},
   "outputs": [],
   "source": [
    "#configure tallies\n",
    "cell_filter = openmc.CellFilter(fuel)\n",
    "t = openmc.Tally(3)\n",
    "t.filters = [cell_filter]\n",
    "t.scores = ['fission']\n",
    "tallies = openmc.Tallies([t])\n",
    "\n",
    "#export tallies\n",
    "tallies.export_to_xml()"
   ]
  },
  {
   "cell_type": "code",
   "execution_count": 8,
   "metadata": {},
   "outputs": [
    {
     "name": "stdout",
     "output_type": "stream",
     "text": [
      "openmc: Relink `/home/james/anaconda3/bin/../lib/./libgfortran.so.4' with `/lib/x86_64-linux-gnu/librt.so.1' for IFUNC symbol `clock_gettime'\n",
      "\n",
      "                               %%%%%%%%%%%%%%%\n",
      "                          %%%%%%%%%%%%%%%%%%%%%%%%\n",
      "                       %%%%%%%%%%%%%%%%%%%%%%%%%%%%%%\n",
      "                     %%%%%%%%%%%%%%%%%%%%%%%%%%%%%%%%%%\n",
      "                   %%%%%%%%%%%%%%%%%%%%%%%%%%%%%%%%%%%%%%\n",
      "                  %%%%%%%%%%%%%%%%%%%%%%%%%%%%%%%%%%%%%%%%\n",
      "                                   %%%%%%%%%%%%%%%%%%%%%%%%\n",
      "                                    %%%%%%%%%%%%%%%%%%%%%%%%\n",
      "                ###############      %%%%%%%%%%%%%%%%%%%%%%%%\n",
      "               ##################     %%%%%%%%%%%%%%%%%%%%%%%\n",
      "               ###################     %%%%%%%%%%%%%%%%%%%%%%%\n",
      "               ####################     %%%%%%%%%%%%%%%%%%%%%%\n",
      "               #####################     %%%%%%%%%%%%%%%%%%%%%\n",
      "               ######################     %%%%%%%%%%%%%%%%%%%%\n",
      "               #######################     %%%%%%%%%%%%%%%%%%\n",
      "                #######################     %%%%%%%%%%%%%%%%%\n",
      "                ######################     %%%%%%%%%%%%%%%%%\n",
      "                 ####################     %%%%%%%%%%%%%%%%%\n",
      "                   #################     %%%%%%%%%%%%%%%%%\n",
      "                    ###############     %%%%%%%%%%%%%%%%\n",
      "                      ############     %%%%%%%%%%%%%%%\n",
      "                         ########     %%%%%%%%%%%%%%\n",
      "                                     %%%%%%%%%%%\n",
      "\n",
      "                   | The OpenMC Monte Carlo Code\n",
      "         Copyright | 2011-2018 Massachusetts Institute of Technology\n",
      "           License | http://openmc.readthedocs.io/en/latest/license.html\n",
      "           Version | 0.10.0\n",
      "          Git SHA1 | 878abce958547f97279209d47c2c4a42fd310155\n",
      "         Date/Time | 2018-11-26 16:56:21\n",
      "    OpenMP Threads | 4\n",
      "\n",
      " Reading settings XML file...\n",
      " Reading cross sections XML file...\n",
      " Reading materials XML file...\n",
      " Reading geometry XML file...\n",
      " Building neighboring cells lists for each surface...\n",
      " Reading Am242_m1 from /home/james/nndc_hdf5/Am242_m1.h5\n",
      " Reading Be9 from /home/james/nndc_hdf5/Be9.h5\n",
      " Reading O16 from /home/james/nndc_hdf5/O16.h5\n",
      " Maximum neutron transport energy: 2.00000E+07 eV for Am242_m1\n",
      " Reading tallies XML file...\n",
      " Writing summary.h5 file...\n",
      " Initializing source particles...\n",
      "\n",
      " ====================>     K EIGENVALUE SIMULATION     <====================\n",
      "\n",
      "  Bat./Gen.      k            Average k         \n",
      "  =========   ========   ====================   \n",
      "        1/1    0.00203                       \n",
      "        2/1    0.00294                       \n",
      "        3/1    0.00175                       \n",
      "        4/1    0.00258                       \n",
      "        5/1    0.00385                       \n",
      "        6/1    0.00262                       \n",
      " WARNING: Maximum number of sites in fission bank reached. This can result in\n",
      "          irreproducible results using different numbers of processes/threads.\n",
      " WARNING: Maximum number of sites in fission bank reached. This can result in\n",
      "          irreproducible results using different numbers of processes/threads.\n",
      " WARNING: Maximum number of sites in fission bank reached. This can result in\n",
      "          irreproducible results using different numbers of processes/threads.\n",
      "        7/1    0.00243                       \n",
      "        8/1    0.00237                       \n",
      "        9/1    0.00362                       \n",
      "       10/1    0.00261                       \n",
      "       11/1    0.00167                       \n",
      "       12/1    0.00150    0.00158 +/- 0.00009\n",
      "       13/1    0.00308    0.00208 +/- 0.00050\n",
      "       14/1    0.00219    0.00211 +/- 0.00036\n",
      "       15/1    0.00198    0.00208 +/- 0.00028\n",
      "       16/1    0.00205    0.00208 +/- 0.00023\n",
      " WARNING: Maximum number of sites in fission bank reached. This can result in\n",
      "          irreproducible results using different numbers of processes/threads.\n",
      "       17/1    0.00171    0.00203 +/- 0.00020\n",
      "       18/1    0.00163    0.00198 +/- 0.00018\n",
      " WARNING: Maximum number of sites in fission bank reached. This can result in\n",
      "          irreproducible results using different numbers of processes/threads.\n",
      " WARNING: Maximum number of sites in fission bank reached. This can result in\n",
      "          irreproducible results using different numbers of processes/threads.\n",
      " WARNING: Maximum number of sites in fission bank reached. This can result in\n",
      "          irreproducible results using different numbers of processes/threads.\n",
      "       19/1    0.00321    0.00211 +/- 0.00021\n",
      " WARNING: Maximum number of sites in fission bank reached. This can result in\n",
      "          irreproducible results using different numbers of processes/threads.\n",
      "       20/1    0.00273    0.00217 +/- 0.00020\n",
      " WARNING: Maximum number of sites in fission bank reached. This can result in\n",
      "          irreproducible results using different numbers of processes/threads.\n",
      "       21/1    0.00295    0.00225 +/- 0.00019\n",
      "       22/1    0.00203    0.00223 +/- 0.00018\n",
      "       23/1    0.00202    0.00221 +/- 0.00016\n",
      "       24/1    0.00220    0.00221 +/- 0.00015\n",
      "       25/1    0.00182    0.00218 +/- 0.00014\n",
      "       26/1    0.00162    0.00215 +/- 0.00014\n",
      "       27/1    0.00176    0.00213 +/- 0.00013\n",
      " ERROR: No fission sites banked on processor 0\n",
      "STOP 1\n"
     ]
    },
    {
     "data": {
      "text/plain": [
       "1"
      ]
     },
     "execution_count": 8,
     "metadata": {},
     "output_type": "execute_result"
    }
   ],
   "source": [
    "# run it\n",
    "openmc.run()"
   ]
  },
  {
   "cell_type": "code",
   "execution_count": 9,
   "metadata": {},
   "outputs": [
    {
     "name": "stdout",
     "output_type": "stream",
     "text": [
      "\r\n",
      " ============================>     TALLY 1     <============================\r\n",
      "\r\n",
      " Cell 1\r\n",
      "   Am242_m1\r\n",
      "     Total Reaction Rate                  1.11889        +/- 2.84113E-03\r\n",
      "     Fission Rate                         0.285530       +/- 7.34006E-04\r\n",
      "     Absorption Rate                      0.300425       +/- 7.95715E-04\r\n",
      "     (n,gamma)                            1.50616E-02    +/- 8.50713E-05\r\n",
      "\r\n",
      " ============================>     TALLY 2     <============================\r\n",
      "\r\n",
      " Cell 1\r\n",
      "   Total Material\r\n",
      "     Flux                                 4.65008        +/- 1.12553E-02\r\n"
     ]
    }
   ],
   "source": [
    "#check the tallies\n",
    "!cat tallies.out"
   ]
  },
  {
   "cell_type": "code",
   "execution_count": null,
   "metadata": {},
   "outputs": [],
   "source": []
  }
 ],
 "metadata": {
  "kernelspec": {
   "display_name": "Python 3",
   "language": "python",
   "name": "python3"
  },
  "language_info": {
   "codemirror_mode": {
    "name": "ipython",
    "version": 3
   },
   "file_extension": ".py",
   "mimetype": "text/x-python",
   "name": "python",
   "nbconvert_exporter": "python",
   "pygments_lexer": "ipython3",
   "version": "3.6.6"
  }
 },
 "nbformat": 4,
 "nbformat_minor": 2
}
