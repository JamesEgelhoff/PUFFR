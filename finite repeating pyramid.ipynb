{
 "cells": [
  {
   "cell_type": "code",
   "execution_count": 1,
   "metadata": {},
   "outputs": [],
   "source": [
    "%matplotlib inline\n",
    "import numpy as np\n",
    "import openmc"
   ]
  },
  {
   "cell_type": "code",
   "execution_count": 2,
   "metadata": {
    "scrolled": false
   },
   "outputs": [
    {
     "name": "stdout",
     "output_type": "stream",
     "text": [
      "Material\n",
      "\tID             =\t1\n",
      "\tName           =\tAm242m\n",
      "\tTemperature    =\tNone\n",
      "\tDensity        =\t13.6 [g/cm3]\n",
      "\tS(a,b) Tables  \n",
      "\tNuclides       \n",
      "\tAm242_m1       =\t1            [ao]\n",
      "\n",
      "Material\n",
      "\tID             =\t11\n",
      "\tName           =\tAm242m less enriched\n",
      "\tTemperature    =\tNone\n",
      "\tDensity        =\t13.6 [g/cm3]\n",
      "\tS(a,b) Tables  \n",
      "\tNuclides       \n",
      "\tAm242_m1       =\t0.2          [ao]\n",
      "\tAm241          =\t0.8          [ao]\n",
      "\n",
      "Material\n",
      "\tID             =\t2\n",
      "\tName           =\tBeO\n",
      "\tTemperature    =\tNone\n",
      "\tDensity        =\t2.86 [g/cm3]\n",
      "\tS(a,b) Tables  \n",
      "\tNuclides       \n",
      "\tBe9            =\t0.5          [ao]\n",
      "\tO16            =\t0.5          [ao]\n",
      "\n",
      "Material\n",
      "\tID             =\t3\n",
      "\tName           =\tLiD\n",
      "\tTemperature    =\tNone\n",
      "\tDensity        =\t0.9238 [g/cm3]\n",
      "\tS(a,b) Tables  \n",
      "\tNuclides       \n",
      "\tLi7            =\t0.5          [ao]\n",
      "\tH2             =\t0.49         [ao]\n",
      "\tH1             =\t0.01         [ao]\n",
      "\n",
      "Material\n",
      "\tID             =\t5\n",
      "\tName           =\tZrD2\n",
      "\tTemperature    =\tNone\n",
      "\tDensity        =\t5.6 [g/cm3]\n",
      "\tS(a,b) Tables  \n",
      "\tNuclides       \n",
      "\tZr91           =\t0.33         [ao]\n",
      "\tH2             =\t0.66         [ao]\n",
      "\tH1             =\t0.01         [ao]\n",
      "\n",
      "Material\n",
      "\tID             =\t6\n",
      "\tName           =\tTiD2\n",
      "\tTemperature    =\tNone\n",
      "\tDensity        =\t3.76 [g/cm3]\n",
      "\tS(a,b) Tables  \n",
      "\tNuclides       \n",
      "\tTi46           =\t0.027225000000000003 [ao]\n",
      "\tTi47           =\t0.024551999999999997 [ao]\n",
      "\tTi48           =\t0.243276     [ao]\n",
      "\tTi49           =\t0.017853     [ao]\n",
      "\tTi50           =\t0.017094     [ao]\n",
      "\tH2             =\t0.66         [ao]\n",
      "\tH1             =\t0.01         [ao]\n",
      "\n",
      "Material\n",
      "\tID             =\t7\n",
      "\tName           =\tBe\n",
      "\tTemperature    =\tNone\n",
      "\tDensity        =\t1.85 [g/cm3]\n",
      "\tS(a,b) Tables  \n",
      "\tNuclides       \n",
      "\tBe9            =\t1.0          [ao]\n",
      "\n",
      "Material\n",
      "\tID             =\t10\n",
      "\tName           =\tH1\n",
      "\tTemperature    =\tNone\n",
      "\tDensity        =\t1e-06 [g/cm3]\n",
      "\tS(a,b) Tables  \n",
      "\tNuclides       \n",
      "\tH1             =\t1.0          [ao]\n",
      "\n"
     ]
    }
   ],
   "source": [
    "#create materials\n",
    "\n",
    "#fuel\n",
    "fuel = openmc.Material(1, \"Am242m\")\n",
    "fuel.add_nuclide('Am242_m1',1)\n",
    "fuel.set_density('g/cm3',13.6)\n",
    "print(fuel)\n",
    "\n",
    "#fuel with realistic enrichment\n",
    "fuel2 = openmc.Material(11, \"Am242m less enriched\")\n",
    "fuel2.add_nuclide('Am242_m1', .2)\n",
    "fuel2.add_nuclide('Am241', .8)\n",
    "fuel2.set_density('g/cm3', 13.6)\n",
    "print(fuel2)\n",
    "\n",
    "#moderator\n",
    "BeO = openmc.Material(2, \"BeO\")\n",
    "BeO.add_nuclide(\"Be9\", .5)\n",
    "BeO.add_nuclide(\"O16\", .5)\n",
    "BeO.set_density(\"g/cm3\", 2.86)\n",
    "print(BeO)\n",
    "\n",
    "#moderator2\n",
    "LiD = openmc.Material(3, \"LiD\")\n",
    "LiD.add_nuclide(\"Li7\", .5)\n",
    "LiD.add_nuclide(\"H2\", .49)\n",
    "LiD.add_nuclide(\"H1\", .01)\n",
    "LiD.set_density(\"g/cm3\", .9238)\n",
    "print(LiD)\n",
    "\n",
    "#graphite\n",
    "#gra = openmc.Material(4, \"C12\")\n",
    "#gra.add_nuclide(\"c_Graphite\", 1.0)\n",
    "#gra.set_density(\"g/cm3\", 2.266)\n",
    "#print(gra)\n",
    "\n",
    "#zirconium deuteride moderator\n",
    "ZrD2 = openmc.Material(5, \"ZrD2\")\n",
    "ZrD2.add_nuclide(\"Zr91\", .33)\n",
    "ZrD2.add_nuclide(\"H2\", .66)\n",
    "ZrD2.add_nuclide(\"H1\", .01)\n",
    "ZrD2.set_density(\"g/cm3\", 5.6)\n",
    "print(ZrD2)\n",
    "\n",
    "#titanium deuteride moderator\n",
    "TiD2 = openmc.Material(6, \"TiD2\")\n",
    "TiD2.add_element(\"Ti\", .33)\n",
    "TiD2.add_nuclide(\"H2\", .66)\n",
    "TiD2.add_nuclide(\"H1\", .01)\n",
    "TiD2.set_density('g/cm3', 3.76)\n",
    "print(TiD2)\n",
    "\n",
    "#Be moderator\n",
    "Be = openmc.Material(7, \"Be\")\n",
    "Be.add_nuclide(\"Be9\", 1.0)\n",
    "Be.set_density(\"g/cm3\", 1.85)\n",
    "print(Be)\n",
    "\n",
    "#cerium deuteride moderator\n",
    "CeD3 = openmc.Material(8, \"CeD3\")\n",
    "CeD3.add_element(\"Ce\", .25)\n",
    "CeD3.add_nuclide(\"H2\", .75)\n",
    "CeD3.set_density(\"g/cm3\", 5.565)\n",
    "\n",
    "#\"vacuum\"\n",
    "vac = openmc.Material(10, \"H1\")\n",
    "vac.add_nuclide('H1',1.0)\n",
    "vac.set_density('g/cm3',0.000001)\n",
    "print(vac)\n",
    "\n",
    "#reflector\n",
    "#may add a reflector in the future. for now just BeO moderator"
   ]
  },
  {
   "cell_type": "code",
   "execution_count": 13,
   "metadata": {},
   "outputs": [],
   "source": [
    "# Outer radius of fuel\n",
    "fuel_outer = np.sqrt(2) \n",
    "fuel_thickness = 1\n",
    "fuel_inner=fuel_outer-fuel_thickness\n",
    "\n",
    "# parameters for depth of various things\n",
    "ref_depth = 10 #depth of top reflecting/moderating layer\n"
   ]
  },
  {
   "cell_type": "code",
   "execution_count": 14,
   "metadata": {},
   "outputs": [],
   "source": [
    "#define a cell surface for a single fuel cylinder\n",
    "f_ps_1 = openmc.Plane(A=1,B=0,C=1/fuel_outer,D=1, boundary_type=\"vacuum\")\n",
    "f_ps_2 = openmc.Plane(A=-1,B=0,C=1/fuel_outer,D=1, boundary_type=\"vacuum\")\n",
    "f_ps_3 = openmc.Plane(A=0,B=1,C=1/fuel_outer,D=1, boundary_type=\"vacuum\")\n",
    "f_ps_4 = openmc.Plane(A=0,B=-1,C=1/fuel_outer,D=1, boundary_type=\"vacuum\")\n",
    "\n",
    "f_ps_5 = openmc.Plane(A=1,B=0,C=1/fuel_inner,D=1, boundary_type=\"transmission\")\n",
    "f_ps_6 = openmc.Plane(A=-1,B=0,C=1/fuel_inner,D=1, boundary_type=\"transmission\")\n",
    "f_ps_7 = openmc.Plane(A=0,B=1,C=1/fuel_inner,D=1, boundary_type=\"transmission\")\n",
    "f_ps_8 = openmc.Plane(A=0,B=-1,C=1/fuel_inner,D=1, boundary_type=\"transmission\")\n",
    "\n",
    "f_lower=openmc.ZPlane(z0=0)\n",
    "m_lower=openmc.ZPlane(z0=-1*ref_depth)\n",
    "m_1=openmc.XPlane(x0=1,boundary_type=\"vacuum\")\n",
    "m_2=openmc.XPlane(x0=-1,boundary_type=\"vacuum\")\n",
    "m_3=openmc.YPlane(y0=1,boundary_type=\"vacuum\")\n",
    "m_4=openmc.YPlane(y0=-1,boundary_type=\"vacuum\")\n",
    "\n",
    "#Root Universe\n",
    "min_x = openmc.XPlane(x0=-35, boundary_type='vacuum')\n",
    "max_x = openmc.XPlane(x0=+35, boundary_type='vacuum')\n",
    "min_y = openmc.YPlane(y0=-35, boundary_type='vacuum')\n",
    "max_y = openmc.YPlane(y0=+35, boundary_type='vacuum')\n",
    "\n",
    "fuel_region = -f_ps_1 & -f_ps_2 & -f_ps_3 & -f_ps_4 & +f_ps_5 & +f_ps_6 & +f_ps_7 & +f_ps_8\n",
    "mod_region = +m_lower & +m_2 & -m_1 & +m_4 & -m_3 & -f_ps_5 & -f_ps_6 & -f_ps_7 & -f_ps_8 \n",
    "#vac_region = ~fuel_region&~mod_region\n",
    "\n",
    "#fill the fuel region\n",
    "f=openmc.Cell(1, 'fuel')\n",
    "f.fill=fuel\n",
    "f.region=fuel_region\n",
    "\n",
    "#fill the moderator regions\n",
    "m = openmc.Cell(2, 'moderator region 1')\n",
    "m.fill=Be\n",
    "m.region=mod_region\n",
    "\n",
    "#v = openmc.Cell(3, 'vacuum')\n",
    "#v.fill = vac\n",
    "#v.region = vac_region"
   ]
  },
  {
   "cell_type": "code",
   "execution_count": 15,
   "metadata": {},
   "outputs": [
    {
     "data": {
      "image/png": "[encoded data removed]",
      "text/plain": [
       "<Figure size 432x288 with 1 Axes>"
      ]
     },
     "metadata": {
      "needs_background": "light"
     },
     "output_type": "display_data"
    }
   ],
   "source": [
    "#visualize the fuel geometry\n",
    "f_univ = openmc.Universe(cells=[f, m])\n",
    "f_univ.plot(width=(2*fuel_outer, fuel_outer+2), origin = (0,0,0), basis='xz')"
   ]
  },
  {
   "cell_type": "code",
   "execution_count": null,
   "metadata": {},
   "outputs": [],
   "source": []
  },
  {
   "cell_type": "code",
   "execution_count": 6,
   "metadata": {},
   "outputs": [],
   "source": [
    "\n",
    "\n",
    "# Create fuel assembly Lattice\n",
    "assembly = openmc.RectLattice(name='lat')\n",
    "assembly.pitch = (2, 2)\n",
    "assembly.lower_left = [-2 * 35. / 2.0] * 2\n",
    "assembly.universes = [[f_univ] * 35] * 35\n",
    "\n"
   ]
  },
  {
   "cell_type": "code",
   "execution_count": 7,
   "metadata": {},
   "outputs": [],
   "source": [
    "# Create root Cell\n",
    "root_cell = openmc.Cell(name='root cell', fill=assembly)\n",
    "\n",
    "# Add boundary planes\n",
    "root_cell.region = +min_x & -max_x & +min_y & -max_y & +m_lower & -f_lower\n",
    "\n",
    "# Create root Universe\n",
    "root_universe = openmc.Universe(name='root universe')\n",
    "root_universe.add_cell(root_cell)"
   ]
  },
  {
   "cell_type": "code",
   "execution_count": 18,
   "metadata": {
    "scrolled": true
   },
   "outputs": [
    {
     "data": {
      "image/png": "[encoded data removed]",
      "text/plain": [
       "<Figure size 432x288 with 1 Axes>"
      ]
     },
     "metadata": {
      "needs_background": "light"
     },
     "output_type": "display_data"
    }
   ],
   "source": [
    "\n",
    "root_universe.plot(width=(10,10), basis='xy')"
   ]
  },
  {
   "cell_type": "code",
   "execution_count": 19,
   "metadata": {},
   "outputs": [],
   "source": [
    "#create root universe\n",
    "geom = openmc.Geometry()\n",
    "geom.root_universe = root_universe\n",
    "\n",
    "#configure statistics geometry\n",
    "#source = openmc.stats.Box((-20, -20, 0), (20, 20, fuel_depth))\n",
    "source = openmc.stats.Point((fuel_outer, 0, 1))\n",
    "src = openmc.Source(space=source)\n",
    "\n",
    "#export geometry\n",
    "geom.export_to_xml()"
   ]
  },
  {
   "cell_type": "code",
   "execution_count": 20,
   "metadata": {},
   "outputs": [],
   "source": [
    "#create materials & cross sections xmls\n",
    "mats = openmc.Materials()\n",
    "mats.cross_sections = '/home/yichengz/nndc_hdf5/cross_sections.xml' #comment this out/replace if you need to\n",
    "mats.append(fuel)\n",
    "mats += [fuel2]\n",
    "mats += [BeO]\n",
    "mats += [LiD]\n",
    "#mats += [gra]\n",
    "mats += [ZrD2]\n",
    "mats += [TiD2]\n",
    "mats += [Be]\n",
    "mats += [CeD3]\n",
    "mats += [vac]\n",
    "\n",
    "#export materials\n",
    "mats.export_to_xml()"
   ]
  },
  {
   "cell_type": "code",
   "execution_count": 21,
   "metadata": {},
   "outputs": [],
   "source": [
    "settings = openmc.Settings()\n",
    "settings.particles = 1000\n",
    "settings.batches = 20\n",
    "settings.inactive = 10\n",
    "settings.source = src\n",
    "settings.export_to_xml()"
   ]
  },
  {
   "cell_type": "code",
   "execution_count": 22,
   "metadata": {},
   "outputs": [],
   "source": [
    "#configure tallies\n",
    "cell_filter = openmc.CellFilter(f)\n",
    "t = openmc.Tally(4)\n",
    "t.filters = [cell_filter]\n",
    "t.scores = ['fission']\n",
    "tallies = openmc.Tallies([t])\n",
    "\n",
    "#export tallies\n",
    "tallies.export_to_xml()"
   ]
  },
  {
   "cell_type": "code",
   "execution_count": 23,
   "metadata": {
    "scrolled": false
   },
   "outputs": [
    {
     "name": "stdout",
     "output_type": "stream",
     "text": [
      "openmc: Relink `/home/yichengz/anaconda3/bin/../lib/./libgfortran.so.4' with `/lib/x86_64-linux-gnu/librt.so.1' for IFUNC symbol `clock_gettime'\n",
      "\n",
      "                               %%%%%%%%%%%%%%%\n",
      "                          %%%%%%%%%%%%%%%%%%%%%%%%\n",
      "                       %%%%%%%%%%%%%%%%%%%%%%%%%%%%%%\n",
      "                     %%%%%%%%%%%%%%%%%%%%%%%%%%%%%%%%%%\n",
      "                   %%%%%%%%%%%%%%%%%%%%%%%%%%%%%%%%%%%%%%\n",
      "                  %%%%%%%%%%%%%%%%%%%%%%%%%%%%%%%%%%%%%%%%\n",
      "                                   %%%%%%%%%%%%%%%%%%%%%%%%\n",
      "                                    %%%%%%%%%%%%%%%%%%%%%%%%\n",
      "                ###############      %%%%%%%%%%%%%%%%%%%%%%%%\n",
      "               ##################     %%%%%%%%%%%%%%%%%%%%%%%\n",
      "               ###################     %%%%%%%%%%%%%%%%%%%%%%%\n",
      "               ####################     %%%%%%%%%%%%%%%%%%%%%%\n",
      "               #####################     %%%%%%%%%%%%%%%%%%%%%\n",
      "               ######################     %%%%%%%%%%%%%%%%%%%%\n",
      "               #######################     %%%%%%%%%%%%%%%%%%\n",
      "                #######################     %%%%%%%%%%%%%%%%%\n",
      "                ######################     %%%%%%%%%%%%%%%%%\n",
      "                 ####################     %%%%%%%%%%%%%%%%%\n",
      "                   #################     %%%%%%%%%%%%%%%%%\n",
      "                    ###############     %%%%%%%%%%%%%%%%\n",
      "                      ############     %%%%%%%%%%%%%%%\n",
      "                         ########     %%%%%%%%%%%%%%\n",
      "                                     %%%%%%%%%%%\n",
      "\n",
      "                   | The OpenMC Monte Carlo Code\n",
      "         Copyright | 2011-2018 Massachusetts Institute of Technology\n",
      "           License | http://openmc.readthedocs.io/en/latest/license.html\n",
      "           Version | 0.10.0\n",
      "          Git SHA1 | 878abce958547f97279209d47c2c4a42fd310155\n",
      "         Date/Time | 2019-02-18 18:10:39\n",
      "    OpenMP Threads | 8\n",
      "\n",
      " Reading settings XML file...\n",
      " Reading cross sections XML file...\n",
      " Reading materials XML file...\n",
      " Reading geometry XML file...\n",
      " Building neighboring cells lists for each surface...\n",
      " Reading Am242_m1 from /home/yichengz/nndc_hdf5/Am242_m1.h5\n",
      " Reading Be9 from /home/yichengz/nndc_hdf5/Be9.h5\n",
      " Reading O16 from /home/yichengz/nndc_hdf5/O16.h5\n",
      " Reading Li7 from /home/yichengz/nndc_hdf5/Li7.h5\n",
      " Reading H2 from /home/yichengz/nndc_hdf5/H2.h5\n",
      " Reading H1 from /home/yichengz/nndc_hdf5/H1.h5\n",
      " Reading Zr91 from /home/yichengz/nndc_hdf5/Zr91.h5\n",
      " Reading Ti46 from /home/yichengz/nndc_hdf5/Ti46.h5\n",
      " Reading Ti47 from /home/yichengz/nndc_hdf5/Ti47.h5\n",
      " Reading Ti48 from /home/yichengz/nndc_hdf5/Ti48.h5\n",
      " Reading Ti49 from /home/yichengz/nndc_hdf5/Ti49.h5\n",
      " Reading Ti50 from /home/yichengz/nndc_hdf5/Ti50.h5\n",
      " Reading Ce136 from /home/yichengz/nndc_hdf5/Ce136.h5\n",
      " Reading Ce138 from /home/yichengz/nndc_hdf5/Ce138.h5\n",
      " Reading Ce140 from /home/yichengz/nndc_hdf5/Ce140.h5\n",
      " Reading Ce142 from /home/yichengz/nndc_hdf5/Ce142.h5\n",
      " Reading Am241 from /home/yichengz/nndc_hdf5/Am241.h5\n",
      " Maximum neutron transport energy: 2.00000E+07 eV for Am242_m1\n",
      " Reading tallies XML file...\n",
      " Writing summary.h5 file...\n",
      " Initializing source particles...\n",
      " ERROR: More than 95% of external source sites sampled were rejected. Please\n",
      "        check your external source definition.\n",
      "STOP 1\n"
     ]
    },
    {
     "data": {
      "text/plain": [
       "1"
      ]
     },
     "execution_count": 23,
     "metadata": {},
     "output_type": "execute_result"
    }
   ],
   "source": [
    "openmc.run()"
   ]
  },
  {
   "cell_type": "code",
   "execution_count": null,
   "metadata": {},
   "outputs": [],
   "source": []
  },
  {
   "cell_type": "code",
   "execution_count": null,
   "metadata": {},
   "outputs": [],
   "source": []
  }
 ],
 "metadata": {
  "kernelspec": {
   "display_name": "Python 3",
   "language": "python",
   "name": "python3"
  },
  "language_info": {
   "codemirror_mode": {
    "name": "ipython",
    "version": 3
   },
   "file_extension": ".py",
   "mimetype": "text/x-python",
   "name": "python",
   "nbconvert_exporter": "python",
   "pygments_lexer": "ipython3",
   "version": "3.6.6"
  }
 },
 "nbformat": 4,
 "nbformat_minor": 2
}
