{
 "cells": [
  {
   "cell_type": "code",
   "execution_count": 2,
   "metadata": {},
   "outputs": [],
   "source": [
    "%matplotlib inline\n",
    "import numpy as np\n",
    "import openmc"
   ]
  },
  {
   "cell_type": "code",
   "execution_count": 3,
   "metadata": {
    "scrolled": false
   },
   "outputs": [
    {
     "name": "stdout",
     "output_type": "stream",
     "text": [
      "Material\n",
      "\tID             =\t1\n",
      "\tName           =\tAm242m\n",
      "\tTemperature    =\tNone\n",
      "\tDensity        =\t13.6 [g/cm3]\n",
      "\tS(a,b) Tables  \n",
      "\tNuclides       \n",
      "\tAm242_m1       =\t1            [ao]\n",
      "\n",
      "Material\n",
      "\tID             =\t11\n",
      "\tName           =\tAm242m less enriched\n",
      "\tTemperature    =\tNone\n",
      "\tDensity        =\t13.6 [g/cm3]\n",
      "\tS(a,b) Tables  \n",
      "\tNuclides       \n",
      "\tAm242_m1       =\t0.2          [ao]\n",
      "\tAm241          =\t0.8          [ao]\n",
      "\n",
      "Material\n",
      "\tID             =\t2\n",
      "\tName           =\tBeO\n",
      "\tTemperature    =\tNone\n",
      "\tDensity        =\t2.86 [g/cm3]\n",
      "\tS(a,b) Tables  \n",
      "\tNuclides       \n",
      "\tBe9            =\t0.5          [ao]\n",
      "\tO16            =\t0.5          [ao]\n",
      "\n",
      "Material\n",
      "\tID             =\t3\n",
      "\tName           =\tLiD\n",
      "\tTemperature    =\tNone\n",
      "\tDensity        =\t0.9238 [g/cm3]\n",
      "\tS(a,b) Tables  \n",
      "\tNuclides       \n",
      "\tLi7            =\t0.5          [ao]\n",
      "\tH2             =\t0.49         [ao]\n",
      "\tH1             =\t0.01         [ao]\n",
      "\n",
      "Material\n",
      "\tID             =\t5\n",
      "\tName           =\tZrD2\n",
      "\tTemperature    =\tNone\n",
      "\tDensity        =\t5.6 [g/cm3]\n",
      "\tS(a,b) Tables  \n",
      "\tNuclides       \n",
      "\tZr91           =\t0.33         [ao]\n",
      "\tH2             =\t0.66         [ao]\n",
      "\tH1             =\t0.01         [ao]\n",
      "\n",
      "Material\n",
      "\tID             =\t6\n",
      "\tName           =\tTiD2\n",
      "\tTemperature    =\tNone\n",
      "\tDensity        =\t3.76 [g/cm3]\n",
      "\tS(a,b) Tables  \n",
      "\tNuclides       \n",
      "\tTi48           =\t0.243276     [ao]\n",
      "\tTi47           =\t0.024551999999999997 [ao]\n",
      "\tTi50           =\t0.017094     [ao]\n",
      "\tTi46           =\t0.027225000000000003 [ao]\n",
      "\tTi49           =\t0.017853     [ao]\n",
      "\tH2             =\t0.66         [ao]\n",
      "\tH1             =\t0.01         [ao]\n",
      "\n",
      "Material\n",
      "\tID             =\t7\n",
      "\tName           =\tBe\n",
      "\tTemperature    =\tNone\n",
      "\tDensity        =\t1.85 [g/cm3]\n",
      "\tS(a,b) Tables  \n",
      "\tNuclides       \n",
      "\tBe9            =\t1.0          [ao]\n",
      "\n",
      "Material\n",
      "\tID             =\t10\n",
      "\tName           =\tH1\n",
      "\tTemperature    =\tNone\n",
      "\tDensity        =\t1e-06 [g/cm3]\n",
      "\tS(a,b) Tables  \n",
      "\tNuclides       \n",
      "\tH1             =\t1.0          [ao]\n",
      "\n"
     ]
    }
   ],
   "source": [
    "#create materials\n",
    "\n",
    "#fuel\n",
    "fuel = openmc.Material(1, \"Am242m\")\n",
    "fuel.add_nuclide('Am242_m1',1)\n",
    "fuel.set_density('g/cm3',13.6)\n",
    "print(fuel)\n",
    "\n",
    "#fuel with realistic enrichment\n",
    "fuel2 = openmc.Material(11, \"Am242m less enriched\")\n",
    "fuel2.add_nuclide('Am242_m1', .2)\n",
    "fuel2.add_nuclide('Am241', .8)\n",
    "fuel2.set_density('g/cm3', 13.6)\n",
    "print(fuel2)\n",
    "\n",
    "#moderator\n",
    "BeO = openmc.Material(2, \"BeO\")\n",
    "BeO.add_nuclide(\"Be9\", .5)\n",
    "BeO.add_nuclide(\"O16\", .5)\n",
    "BeO.set_density(\"g/cm3\", 2.86)\n",
    "print(BeO)\n",
    "\n",
    "#moderator2\n",
    "LiD = openmc.Material(3, \"LiD\")\n",
    "LiD.add_nuclide(\"Li7\", .5)\n",
    "LiD.add_nuclide(\"H2\", .49)\n",
    "LiD.add_nuclide(\"H1\", .01)\n",
    "LiD.set_density(\"g/cm3\", .9238)\n",
    "print(LiD)\n",
    "\n",
    "#graphite\n",
    "#gra = openmc.Material(4, \"C12\")\n",
    "#gra.add_nuclide(\"c_Graphite\", 1.0)\n",
    "#gra.set_density(\"g/cm3\", 2.266)\n",
    "#print(gra)\n",
    "\n",
    "#zirconium deuteride moderator\n",
    "ZrD2 = openmc.Material(5, \"ZrD2\")\n",
    "ZrD2.add_nuclide(\"Zr91\", .33)\n",
    "ZrD2.add_nuclide(\"H2\", .66)\n",
    "ZrD2.add_nuclide(\"H1\", .01)\n",
    "ZrD2.set_density(\"g/cm3\", 5.6)\n",
    "print(ZrD2)\n",
    "\n",
    "#titanium deuteride moderator\n",
    "TiD2 = openmc.Material(6, \"TiD2\")\n",
    "TiD2.add_element(\"Ti\", .33)\n",
    "TiD2.add_nuclide(\"H2\", .66)\n",
    "TiD2.add_nuclide(\"H1\", .01)\n",
    "TiD2.set_density('g/cm3', 3.76)\n",
    "print(TiD2)\n",
    "\n",
    "#Be moderator\n",
    "Be = openmc.Material(7, \"Be\")\n",
    "Be.add_nuclide(\"Be9\", 1.0)\n",
    "Be.set_density(\"g/cm3\", 1.85)\n",
    "print(Be)\n",
    "\n",
    "#cerium deuteride moderator\n",
    "CeD3 = openmc.Material(8, \"CeD3\")\n",
    "CeD3.add_element(\"Ce\", .25)\n",
    "CeD3.add_nuclide(\"H2\", .75)\n",
    "CeD3.set_density(\"g/cm3\", 5.565)\n",
    "\n",
    "#\"vacuum\"\n",
    "vac = openmc.Material(10, \"H1\")\n",
    "vac.add_nuclide('H1',1.0)\n",
    "vac.set_density('g/cm3',0.000001)\n",
    "print(vac)\n",
    "\n",
    "#reflector\n",
    "#may add a reflector in the future. for now just BeO moderator"
   ]
  },
  {
   "cell_type": "code",
   "execution_count": 4,
   "metadata": {},
   "outputs": [],
   "source": [
    "# Outer radius of fuel\n",
    "fuel_outer = 1 #1 cm fuel outer radius\n",
    "fuel_thickness = 1e-3\n",
    "fuel_inner = fuel_outer - fuel_thickness #inner radius for 2micron fuel layer\n",
    "\n",
    "# parameters for depth of various things\n",
    "fuel_depth = 30 #depth of fuel/moderator disk\n",
    "ref_depth = 5 #depth of top reflecting/moderating layer\n",
    "\n",
    "#edge length of hexagonal fuel cell\n",
    "mod_thickness = 3\n",
    "hex_dis = fuel_outer + mod_thickness\n",
    "edge = hex_dis * 2 / np.sqrt(3)\n",
    "\n",
    "#outer radius of fuel disk\n",
    "disk_outer = 70 # radius in cm"
   ]
  },
  {
   "cell_type": "code",
   "execution_count": 12,
   "metadata": {},
   "outputs": [],
   "source": [
    "#define a cell surface for a single fuel cylinder\n",
    "f_inner_surf = openmc.ZCone(z0=fuel_depth - fuel_thickness, R2=1,boundary_type=\"transmission\")\n",
    "f_outer_surf = openmc.ZCone(z0=fuel_depth, R2=1,boundary_type=\"transmission\")\n",
    "f_lower_surf = openmc.ZPlane(z0=0, boundary_type=\"vacuum\")\n",
    "f_upper_surf = openmc.ZPlane(z0=fuel_depth, boundary_type=\"transmission\")\n",
    "m_upper_surf = openmc.ZPlane(z0=fuel_depth+ref_depth, boundary_type=\"vacuum\")\n",
    "\n",
    "outer_bound = openmc.ZCylinder(R=disk_outer+2*hex_dis, boundary_type=\"vacuum\")\n",
    "\n",
    "hex_region = openmc.get_hexagonal_prism(edge_length=edge, orientation='x', boundary_type=\"transmission\")\n",
    "vac_pin = openmc.get_hexagonal_prism(edge_length=edge, orientation='x', boundary_type=\"vacuum\")\n",
    "\n",
    "hex_mod = +f_upper_surf & -m_upper_surf & hex_region\n",
    "hex_edge = +f_lower_surf & -m_upper_surf & hex_region\n",
    "\n",
    "fuel_region = +f_outer_surf & -f_inner_surf & -f_upper_surf & +f_lower_surf\n",
    "mod_region = +f_outer_surf & -f_upper_surf & + f_lower_surf & hex_region | hex_mod\n",
    "vac_region = ~fuel_region&~mod_region\n",
    "\n",
    "#fill the fuel region\n",
    "f=openmc.Cell(1, 'fuel')\n",
    "f.fill=fuel\n",
    "f.region=fuel_region\n",
    "\n",
    "#fill the moderator regions\n",
    "m = openmc.Cell(2, 'moderator region 1')\n",
    "m.fill=Be\n",
    "m.region=mod_region\n",
    "\n",
    "medge = openmc.Cell(4, 'full plug hex')\n",
    "medge.fill = Be\n",
    "medge.region = hex_edge\n",
    "\n",
    "v = openmc.Cell(5, 'vacuum')\n",
    "v.fill = vac\n",
    "v.region = vac_region"
   ]
  },
  {
   "cell_type": "code",
   "execution_count": 13,
   "metadata": {},
   "outputs": [
    {
     "ename": "KeyError",
     "evalue": "'r2'",
     "output_type": "error",
     "traceback": [
      "\u001b[0;31m---------------------------------------------------------------------------\u001b[0m",
      "\u001b[0;31mKeyError\u001b[0m                                  Traceback (most recent call last)",
      "\u001b[0;32m<ipython-input-13-1cc0a8abd96c>\u001b[0m in \u001b[0;36m<module>\u001b[0;34m\u001b[0m\n\u001b[1;32m      1\u001b[0m \u001b[0;31m#visualize the fuel geometry\u001b[0m\u001b[0;34m\u001b[0m\u001b[0;34m\u001b[0m\u001b[0m\n\u001b[1;32m      2\u001b[0m \u001b[0mf_univ\u001b[0m \u001b[0;34m=\u001b[0m \u001b[0mopenmc\u001b[0m\u001b[0;34m.\u001b[0m\u001b[0mUniverse\u001b[0m\u001b[0;34m(\u001b[0m\u001b[0mcells\u001b[0m\u001b[0;34m=\u001b[0m\u001b[0;34m[\u001b[0m\u001b[0mf\u001b[0m\u001b[0;34m,\u001b[0m \u001b[0mm\u001b[0m\u001b[0;34m,\u001b[0m \u001b[0mv\u001b[0m\u001b[0;34m]\u001b[0m\u001b[0;34m)\u001b[0m\u001b[0;34m\u001b[0m\u001b[0m\n\u001b[0;32m----> 3\u001b[0;31m \u001b[0mf_univ\u001b[0m\u001b[0;34m.\u001b[0m\u001b[0mplot\u001b[0m\u001b[0;34m(\u001b[0m\u001b[0mwidth\u001b[0m\u001b[0;34m=\u001b[0m\u001b[0;34m(\u001b[0m\u001b[0;36m3\u001b[0m\u001b[0;34m*\u001b[0m\u001b[0mhex_dis\u001b[0m\u001b[0;34m,\u001b[0m \u001b[0;36m3\u001b[0m\u001b[0;34m*\u001b[0m\u001b[0mhex_dis\u001b[0m\u001b[0;34m)\u001b[0m\u001b[0;34m,\u001b[0m \u001b[0morigin\u001b[0m \u001b[0;34m=\u001b[0m \u001b[0;34m(\u001b[0m\u001b[0;36m0\u001b[0m\u001b[0;34m,\u001b[0m\u001b[0;36m0\u001b[0m\u001b[0;34m,\u001b[0m\u001b[0mfuel_depth\u001b[0m\u001b[0;34m/\u001b[0m\u001b[0;36m2\u001b[0m\u001b[0;34m)\u001b[0m\u001b[0;34m,\u001b[0m \u001b[0mbasis\u001b[0m\u001b[0;34m=\u001b[0m\u001b[0;34m'xy'\u001b[0m\u001b[0;34m)\u001b[0m\u001b[0;34m\u001b[0m\u001b[0m\n\u001b[0m",
      "\u001b[0;32m~/anaconda3/lib/python3.6/site-packages/openmc/universe.py\u001b[0m in \u001b[0;36mplot\u001b[0;34m(self, origin, width, pixels, basis, color_by, colors, filename, seed, **kwargs)\u001b[0m\n\u001b[1;32m    278\u001b[0m             \u001b[0;32mfor\u001b[0m \u001b[0mj\u001b[0m\u001b[0;34m,\u001b[0m \u001b[0my\u001b[0m \u001b[0;32min\u001b[0m \u001b[0menumerate\u001b[0m\u001b[0;34m(\u001b[0m\u001b[0my_coords\u001b[0m\u001b[0;34m)\u001b[0m\u001b[0;34m:\u001b[0m\u001b[0;34m\u001b[0m\u001b[0m\n\u001b[1;32m    279\u001b[0m                 \u001b[0;32mif\u001b[0m \u001b[0mbasis\u001b[0m \u001b[0;34m==\u001b[0m \u001b[0;34m'xy'\u001b[0m\u001b[0;34m:\u001b[0m\u001b[0;34m\u001b[0m\u001b[0m\n\u001b[0;32m--> 280\u001b[0;31m                     \u001b[0mpath\u001b[0m \u001b[0;34m=\u001b[0m \u001b[0mself\u001b[0m\u001b[0;34m.\u001b[0m\u001b[0mfind\u001b[0m\u001b[0;34m(\u001b[0m\u001b[0;34m(\u001b[0m\u001b[0mx\u001b[0m\u001b[0;34m,\u001b[0m \u001b[0my\u001b[0m\u001b[0;34m,\u001b[0m \u001b[0morigin\u001b[0m\u001b[0;34m[\u001b[0m\u001b[0;36m2\u001b[0m\u001b[0;34m]\u001b[0m\u001b[0;34m)\u001b[0m\u001b[0;34m)\u001b[0m\u001b[0;34m\u001b[0m\u001b[0m\n\u001b[0m\u001b[1;32m    281\u001b[0m                 \u001b[0;32melif\u001b[0m \u001b[0mbasis\u001b[0m \u001b[0;34m==\u001b[0m \u001b[0;34m'yz'\u001b[0m\u001b[0;34m:\u001b[0m\u001b[0;34m\u001b[0m\u001b[0m\n\u001b[1;32m    282\u001b[0m                     \u001b[0mpath\u001b[0m \u001b[0;34m=\u001b[0m \u001b[0mself\u001b[0m\u001b[0;34m.\u001b[0m\u001b[0mfind\u001b[0m\u001b[0;34m(\u001b[0m\u001b[0;34m(\u001b[0m\u001b[0morigin\u001b[0m\u001b[0;34m[\u001b[0m\u001b[0;36m0\u001b[0m\u001b[0;34m]\u001b[0m\u001b[0;34m,\u001b[0m \u001b[0mx\u001b[0m\u001b[0;34m,\u001b[0m \u001b[0my\u001b[0m\u001b[0;34m)\u001b[0m\u001b[0;34m)\u001b[0m\u001b[0;34m\u001b[0m\u001b[0m\n",
      "\u001b[0;32m~/anaconda3/lib/python3.6/site-packages/openmc/universe.py\u001b[0m in \u001b[0;36mfind\u001b[0;34m(self, point)\u001b[0m\n\u001b[1;32m    173\u001b[0m         \u001b[0mp\u001b[0m \u001b[0;34m=\u001b[0m \u001b[0mnp\u001b[0m\u001b[0;34m.\u001b[0m\u001b[0masarray\u001b[0m\u001b[0;34m(\u001b[0m\u001b[0mpoint\u001b[0m\u001b[0;34m)\u001b[0m\u001b[0;34m\u001b[0m\u001b[0m\n\u001b[1;32m    174\u001b[0m         \u001b[0;32mfor\u001b[0m \u001b[0mcell\u001b[0m \u001b[0;32min\u001b[0m \u001b[0mself\u001b[0m\u001b[0;34m.\u001b[0m\u001b[0m_cells\u001b[0m\u001b[0;34m.\u001b[0m\u001b[0mvalues\u001b[0m\u001b[0;34m(\u001b[0m\u001b[0;34m)\u001b[0m\u001b[0;34m:\u001b[0m\u001b[0;34m\u001b[0m\u001b[0m\n\u001b[0;32m--> 175\u001b[0;31m             \u001b[0;32mif\u001b[0m \u001b[0mp\u001b[0m \u001b[0;32min\u001b[0m \u001b[0mcell\u001b[0m\u001b[0;34m:\u001b[0m\u001b[0;34m\u001b[0m\u001b[0m\n\u001b[0m\u001b[1;32m    176\u001b[0m                 \u001b[0;32mif\u001b[0m \u001b[0mcell\u001b[0m\u001b[0;34m.\u001b[0m\u001b[0mfill_type\u001b[0m \u001b[0;32min\u001b[0m \u001b[0;34m(\u001b[0m\u001b[0;34m'material'\u001b[0m\u001b[0;34m,\u001b[0m \u001b[0;34m'distribmat'\u001b[0m\u001b[0;34m,\u001b[0m \u001b[0;34m'void'\u001b[0m\u001b[0;34m)\u001b[0m\u001b[0;34m:\u001b[0m\u001b[0;34m\u001b[0m\u001b[0m\n\u001b[1;32m    177\u001b[0m                     \u001b[0;32mreturn\u001b[0m \u001b[0;34m[\u001b[0m\u001b[0mself\u001b[0m\u001b[0;34m,\u001b[0m \u001b[0mcell\u001b[0m\u001b[0;34m]\u001b[0m\u001b[0;34m\u001b[0m\u001b[0m\n",
      "\u001b[0;32m~/anaconda3/lib/python3.6/site-packages/openmc/cell.py\u001b[0m in \u001b[0;36m__contains__\u001b[0;34m(self, point)\u001b[0m\n\u001b[1;32m    107\u001b[0m             \u001b[0;32mreturn\u001b[0m \u001b[0;32mTrue\u001b[0m\u001b[0;34m\u001b[0m\u001b[0m\n\u001b[1;32m    108\u001b[0m         \u001b[0;32melse\u001b[0m\u001b[0;34m:\u001b[0m\u001b[0;34m\u001b[0m\u001b[0m\n\u001b[0;32m--> 109\u001b[0;31m             \u001b[0;32mreturn\u001b[0m \u001b[0mpoint\u001b[0m \u001b[0;32min\u001b[0m \u001b[0mself\u001b[0m\u001b[0;34m.\u001b[0m\u001b[0mregion\u001b[0m\u001b[0;34m\u001b[0m\u001b[0m\n\u001b[0m\u001b[1;32m    110\u001b[0m \u001b[0;34m\u001b[0m\u001b[0m\n\u001b[1;32m    111\u001b[0m     \u001b[0;32mdef\u001b[0m \u001b[0m__repr__\u001b[0m\u001b[0;34m(\u001b[0m\u001b[0mself\u001b[0m\u001b[0;34m)\u001b[0m\u001b[0;34m:\u001b[0m\u001b[0;34m\u001b[0m\u001b[0m\n",
      "\u001b[0;32m~/anaconda3/lib/python3.6/site-packages/openmc/region.py\u001b[0m in \u001b[0;36m__contains__\u001b[0;34m(self, point)\u001b[0m\n\u001b[1;32m    317\u001b[0m \u001b[0;34m\u001b[0m\u001b[0m\n\u001b[1;32m    318\u001b[0m         \"\"\"\n\u001b[0;32m--> 319\u001b[0;31m         \u001b[0;32mreturn\u001b[0m \u001b[0mall\u001b[0m\u001b[0;34m(\u001b[0m\u001b[0mpoint\u001b[0m \u001b[0;32min\u001b[0m \u001b[0mn\u001b[0m \u001b[0;32mfor\u001b[0m \u001b[0mn\u001b[0m \u001b[0;32min\u001b[0m \u001b[0mself\u001b[0m\u001b[0;34m)\u001b[0m\u001b[0;34m\u001b[0m\u001b[0m\n\u001b[0m\u001b[1;32m    320\u001b[0m \u001b[0;34m\u001b[0m\u001b[0m\n\u001b[1;32m    321\u001b[0m     \u001b[0;32mdef\u001b[0m \u001b[0m__str__\u001b[0m\u001b[0;34m(\u001b[0m\u001b[0mself\u001b[0m\u001b[0;34m)\u001b[0m\u001b[0;34m:\u001b[0m\u001b[0;34m\u001b[0m\u001b[0m\n",
      "\u001b[0;32m~/anaconda3/lib/python3.6/site-packages/openmc/region.py\u001b[0m in \u001b[0;36m<genexpr>\u001b[0;34m(.0)\u001b[0m\n\u001b[1;32m    317\u001b[0m \u001b[0;34m\u001b[0m\u001b[0m\n\u001b[1;32m    318\u001b[0m         \"\"\"\n\u001b[0;32m--> 319\u001b[0;31m         \u001b[0;32mreturn\u001b[0m \u001b[0mall\u001b[0m\u001b[0;34m(\u001b[0m\u001b[0mpoint\u001b[0m \u001b[0;32min\u001b[0m \u001b[0mn\u001b[0m \u001b[0;32mfor\u001b[0m \u001b[0mn\u001b[0m \u001b[0;32min\u001b[0m \u001b[0mself\u001b[0m\u001b[0;34m)\u001b[0m\u001b[0;34m\u001b[0m\u001b[0m\n\u001b[0m\u001b[1;32m    320\u001b[0m \u001b[0;34m\u001b[0m\u001b[0m\n\u001b[1;32m    321\u001b[0m     \u001b[0;32mdef\u001b[0m \u001b[0m__str__\u001b[0m\u001b[0;34m(\u001b[0m\u001b[0mself\u001b[0m\u001b[0;34m)\u001b[0m\u001b[0;34m:\u001b[0m\u001b[0;34m\u001b[0m\u001b[0m\n",
      "\u001b[0;32m~/anaconda3/lib/python3.6/site-packages/openmc/surface.py\u001b[0m in \u001b[0;36m__contains__\u001b[0;34m(self, point)\u001b[0m\n\u001b[1;32m   1865\u001b[0m         \"\"\"\n\u001b[1;32m   1866\u001b[0m \u001b[0;34m\u001b[0m\u001b[0m\n\u001b[0;32m-> 1867\u001b[0;31m         \u001b[0mval\u001b[0m \u001b[0;34m=\u001b[0m \u001b[0mself\u001b[0m\u001b[0;34m.\u001b[0m\u001b[0msurface\u001b[0m\u001b[0;34m.\u001b[0m\u001b[0mevaluate\u001b[0m\u001b[0;34m(\u001b[0m\u001b[0mpoint\u001b[0m\u001b[0;34m)\u001b[0m\u001b[0;34m\u001b[0m\u001b[0m\n\u001b[0m\u001b[1;32m   1868\u001b[0m         \u001b[0;32mreturn\u001b[0m \u001b[0mval\u001b[0m \u001b[0;34m>=\u001b[0m \u001b[0;36m0.\u001b[0m \u001b[0;32mif\u001b[0m \u001b[0mself\u001b[0m\u001b[0;34m.\u001b[0m\u001b[0mside\u001b[0m \u001b[0;34m==\u001b[0m \u001b[0;34m'+'\u001b[0m \u001b[0;32melse\u001b[0m \u001b[0mval\u001b[0m \u001b[0;34m<\u001b[0m \u001b[0;36m0.\u001b[0m\u001b[0;34m\u001b[0m\u001b[0m\n\u001b[1;32m   1869\u001b[0m \u001b[0;34m\u001b[0m\u001b[0m\n",
      "\u001b[0;32m~/anaconda3/lib/python3.6/site-packages/openmc/surface.py\u001b[0m in \u001b[0;36mevaluate\u001b[0;34m(self, point)\u001b[0m\n\u001b[1;32m   1625\u001b[0m         \u001b[0my\u001b[0m \u001b[0;34m=\u001b[0m \u001b[0mpoint\u001b[0m\u001b[0;34m[\u001b[0m\u001b[0;36m1\u001b[0m\u001b[0;34m]\u001b[0m \u001b[0;34m-\u001b[0m \u001b[0mself\u001b[0m\u001b[0;34m.\u001b[0m\u001b[0my0\u001b[0m\u001b[0;34m\u001b[0m\u001b[0m\n\u001b[1;32m   1626\u001b[0m         \u001b[0mz\u001b[0m \u001b[0;34m=\u001b[0m \u001b[0mpoint\u001b[0m\u001b[0;34m[\u001b[0m\u001b[0;36m2\u001b[0m\u001b[0;34m]\u001b[0m \u001b[0;34m-\u001b[0m \u001b[0mself\u001b[0m\u001b[0;34m.\u001b[0m\u001b[0mz0\u001b[0m\u001b[0;34m\u001b[0m\u001b[0m\n\u001b[0;32m-> 1627\u001b[0;31m         \u001b[0;32mreturn\u001b[0m \u001b[0mx\u001b[0m\u001b[0;34m**\u001b[0m\u001b[0;36m2\u001b[0m \u001b[0;34m+\u001b[0m \u001b[0my\u001b[0m\u001b[0;34m**\u001b[0m\u001b[0;36m2\u001b[0m \u001b[0;34m-\u001b[0m \u001b[0mself\u001b[0m\u001b[0;34m.\u001b[0m\u001b[0mr2\u001b[0m\u001b[0;34m*\u001b[0m\u001b[0mz\u001b[0m\u001b[0;34m**\u001b[0m\u001b[0;36m2\u001b[0m\u001b[0;34m\u001b[0m\u001b[0m\n\u001b[0m\u001b[1;32m   1628\u001b[0m \u001b[0;34m\u001b[0m\u001b[0m\n\u001b[1;32m   1629\u001b[0m \u001b[0;34m\u001b[0m\u001b[0m\n",
      "\u001b[0;32m~/anaconda3/lib/python3.6/site-packages/openmc/surface.py\u001b[0m in \u001b[0;36mr2\u001b[0;34m(self)\u001b[0m\n\u001b[1;32m   1377\u001b[0m     \u001b[0;34m@\u001b[0m\u001b[0mproperty\u001b[0m\u001b[0;34m\u001b[0m\u001b[0m\n\u001b[1;32m   1378\u001b[0m     \u001b[0;32mdef\u001b[0m \u001b[0mr2\u001b[0m\u001b[0;34m(\u001b[0m\u001b[0mself\u001b[0m\u001b[0;34m)\u001b[0m\u001b[0;34m:\u001b[0m\u001b[0;34m\u001b[0m\u001b[0m\n\u001b[0;32m-> 1379\u001b[0;31m         \u001b[0;32mreturn\u001b[0m \u001b[0mself\u001b[0m\u001b[0;34m.\u001b[0m\u001b[0mcoefficients\u001b[0m\u001b[0;34m[\u001b[0m\u001b[0;34m'r2'\u001b[0m\u001b[0;34m]\u001b[0m\u001b[0;34m\u001b[0m\u001b[0m\n\u001b[0m\u001b[1;32m   1380\u001b[0m \u001b[0;34m\u001b[0m\u001b[0m\n\u001b[1;32m   1381\u001b[0m     \u001b[0;34m@\u001b[0m\u001b[0mx0\u001b[0m\u001b[0;34m.\u001b[0m\u001b[0msetter\u001b[0m\u001b[0;34m\u001b[0m\u001b[0m\n",
      "\u001b[0;31mKeyError\u001b[0m: 'r2'"
     ]
    }
   ],
   "source": [
    "#visualize the fuel geometry\n",
    "f_univ = openmc.Universe(cells=[f, m, v])\n",
    "f_univ.plot(width=(3*hex_dis, 3*hex_dis), origin = (0,0,fuel_depth/2), basis='xy')"
   ]
  },
  {
   "cell_type": "code",
   "execution_count": 7,
   "metadata": {
    "scrolled": true
   },
   "outputs": [
    {
     "ename": "KeyError",
     "evalue": "'r2'",
     "output_type": "error",
     "traceback": [
      "\u001b[0;31m---------------------------------------------------------------------------\u001b[0m",
      "\u001b[0;31mKeyError\u001b[0m                                  Traceback (most recent call last)",
      "\u001b[0;32m<ipython-input-7-df389b6bc29c>\u001b[0m in \u001b[0;36m<module>\u001b[0;34m\u001b[0m\n\u001b[0;32m----> 1\u001b[0;31m \u001b[0mf_univ\u001b[0m\u001b[0;34m.\u001b[0m\u001b[0mplot\u001b[0m\u001b[0;34m(\u001b[0m\u001b[0mwidth\u001b[0m\u001b[0;34m=\u001b[0m\u001b[0;34m(\u001b[0m\u001b[0;36m3\u001b[0m\u001b[0;34m*\u001b[0m\u001b[0mhex_dis\u001b[0m\u001b[0;34m,\u001b[0m \u001b[0mfuel_depth\u001b[0m\u001b[0;34m+\u001b[0m\u001b[0mref_depth\u001b[0m\u001b[0;34m+\u001b[0m\u001b[0;36m2\u001b[0m\u001b[0;34m)\u001b[0m\u001b[0;34m,\u001b[0m \u001b[0morigin\u001b[0m \u001b[0;34m=\u001b[0m \u001b[0;34m(\u001b[0m\u001b[0;36m0\u001b[0m\u001b[0;34m,\u001b[0m \u001b[0;36m0\u001b[0m\u001b[0;34m,\u001b[0m \u001b[0;34m(\u001b[0m\u001b[0mfuel_depth\u001b[0m\u001b[0;34m+\u001b[0m\u001b[0mref_depth\u001b[0m\u001b[0;34m)\u001b[0m\u001b[0;34m/\u001b[0m\u001b[0;36m2\u001b[0m\u001b[0;34m)\u001b[0m\u001b[0;34m,\u001b[0m \u001b[0mbasis\u001b[0m\u001b[0;34m=\u001b[0m\u001b[0;34m'xz'\u001b[0m\u001b[0;34m)\u001b[0m\u001b[0;34m\u001b[0m\u001b[0m\n\u001b[0m",
      "\u001b[0;32m~/anaconda3/lib/python3.6/site-packages/openmc/universe.py\u001b[0m in \u001b[0;36mplot\u001b[0;34m(self, origin, width, pixels, basis, color_by, colors, filename, seed, **kwargs)\u001b[0m\n\u001b[1;32m    282\u001b[0m                     \u001b[0mpath\u001b[0m \u001b[0;34m=\u001b[0m \u001b[0mself\u001b[0m\u001b[0;34m.\u001b[0m\u001b[0mfind\u001b[0m\u001b[0;34m(\u001b[0m\u001b[0;34m(\u001b[0m\u001b[0morigin\u001b[0m\u001b[0;34m[\u001b[0m\u001b[0;36m0\u001b[0m\u001b[0;34m]\u001b[0m\u001b[0;34m,\u001b[0m \u001b[0mx\u001b[0m\u001b[0;34m,\u001b[0m \u001b[0my\u001b[0m\u001b[0;34m)\u001b[0m\u001b[0;34m)\u001b[0m\u001b[0;34m\u001b[0m\u001b[0m\n\u001b[1;32m    283\u001b[0m                 \u001b[0;32melif\u001b[0m \u001b[0mbasis\u001b[0m \u001b[0;34m==\u001b[0m \u001b[0;34m'xz'\u001b[0m\u001b[0;34m:\u001b[0m\u001b[0;34m\u001b[0m\u001b[0m\n\u001b[0;32m--> 284\u001b[0;31m                     \u001b[0mpath\u001b[0m \u001b[0;34m=\u001b[0m \u001b[0mself\u001b[0m\u001b[0;34m.\u001b[0m\u001b[0mfind\u001b[0m\u001b[0;34m(\u001b[0m\u001b[0;34m(\u001b[0m\u001b[0mx\u001b[0m\u001b[0;34m,\u001b[0m \u001b[0morigin\u001b[0m\u001b[0;34m[\u001b[0m\u001b[0;36m1\u001b[0m\u001b[0;34m]\u001b[0m\u001b[0;34m,\u001b[0m \u001b[0my\u001b[0m\u001b[0;34m)\u001b[0m\u001b[0;34m)\u001b[0m\u001b[0;34m\u001b[0m\u001b[0m\n\u001b[0m\u001b[1;32m    285\u001b[0m \u001b[0;34m\u001b[0m\u001b[0m\n\u001b[1;32m    286\u001b[0m                 \u001b[0;32mif\u001b[0m \u001b[0mlen\u001b[0m\u001b[0;34m(\u001b[0m\u001b[0mpath\u001b[0m\u001b[0;34m)\u001b[0m \u001b[0;34m>\u001b[0m \u001b[0;36m0\u001b[0m\u001b[0;34m:\u001b[0m\u001b[0;34m\u001b[0m\u001b[0m\n",
      "\u001b[0;32m~/anaconda3/lib/python3.6/site-packages/openmc/universe.py\u001b[0m in \u001b[0;36mfind\u001b[0;34m(self, point)\u001b[0m\n\u001b[1;32m    173\u001b[0m         \u001b[0mp\u001b[0m \u001b[0;34m=\u001b[0m \u001b[0mnp\u001b[0m\u001b[0;34m.\u001b[0m\u001b[0masarray\u001b[0m\u001b[0;34m(\u001b[0m\u001b[0mpoint\u001b[0m\u001b[0;34m)\u001b[0m\u001b[0;34m\u001b[0m\u001b[0m\n\u001b[1;32m    174\u001b[0m         \u001b[0;32mfor\u001b[0m \u001b[0mcell\u001b[0m \u001b[0;32min\u001b[0m \u001b[0mself\u001b[0m\u001b[0;34m.\u001b[0m\u001b[0m_cells\u001b[0m\u001b[0;34m.\u001b[0m\u001b[0mvalues\u001b[0m\u001b[0;34m(\u001b[0m\u001b[0;34m)\u001b[0m\u001b[0;34m:\u001b[0m\u001b[0;34m\u001b[0m\u001b[0m\n\u001b[0;32m--> 175\u001b[0;31m             \u001b[0;32mif\u001b[0m \u001b[0mp\u001b[0m \u001b[0;32min\u001b[0m \u001b[0mcell\u001b[0m\u001b[0;34m:\u001b[0m\u001b[0;34m\u001b[0m\u001b[0m\n\u001b[0m\u001b[1;32m    176\u001b[0m                 \u001b[0;32mif\u001b[0m \u001b[0mcell\u001b[0m\u001b[0;34m.\u001b[0m\u001b[0mfill_type\u001b[0m \u001b[0;32min\u001b[0m \u001b[0;34m(\u001b[0m\u001b[0;34m'material'\u001b[0m\u001b[0;34m,\u001b[0m \u001b[0;34m'distribmat'\u001b[0m\u001b[0;34m,\u001b[0m \u001b[0;34m'void'\u001b[0m\u001b[0;34m)\u001b[0m\u001b[0;34m:\u001b[0m\u001b[0;34m\u001b[0m\u001b[0m\n\u001b[1;32m    177\u001b[0m                     \u001b[0;32mreturn\u001b[0m \u001b[0;34m[\u001b[0m\u001b[0mself\u001b[0m\u001b[0;34m,\u001b[0m \u001b[0mcell\u001b[0m\u001b[0;34m]\u001b[0m\u001b[0;34m\u001b[0m\u001b[0m\n",
      "\u001b[0;32m~/anaconda3/lib/python3.6/site-packages/openmc/cell.py\u001b[0m in \u001b[0;36m__contains__\u001b[0;34m(self, point)\u001b[0m\n\u001b[1;32m    107\u001b[0m             \u001b[0;32mreturn\u001b[0m \u001b[0;32mTrue\u001b[0m\u001b[0;34m\u001b[0m\u001b[0m\n\u001b[1;32m    108\u001b[0m         \u001b[0;32melse\u001b[0m\u001b[0;34m:\u001b[0m\u001b[0;34m\u001b[0m\u001b[0m\n\u001b[0;32m--> 109\u001b[0;31m             \u001b[0;32mreturn\u001b[0m \u001b[0mpoint\u001b[0m \u001b[0;32min\u001b[0m \u001b[0mself\u001b[0m\u001b[0;34m.\u001b[0m\u001b[0mregion\u001b[0m\u001b[0;34m\u001b[0m\u001b[0m\n\u001b[0m\u001b[1;32m    110\u001b[0m \u001b[0;34m\u001b[0m\u001b[0m\n\u001b[1;32m    111\u001b[0m     \u001b[0;32mdef\u001b[0m \u001b[0m__repr__\u001b[0m\u001b[0;34m(\u001b[0m\u001b[0mself\u001b[0m\u001b[0;34m)\u001b[0m\u001b[0;34m:\u001b[0m\u001b[0;34m\u001b[0m\u001b[0m\n",
      "\u001b[0;32m~/anaconda3/lib/python3.6/site-packages/openmc/region.py\u001b[0m in \u001b[0;36m__contains__\u001b[0;34m(self, point)\u001b[0m\n\u001b[1;32m    317\u001b[0m \u001b[0;34m\u001b[0m\u001b[0m\n\u001b[1;32m    318\u001b[0m         \"\"\"\n\u001b[0;32m--> 319\u001b[0;31m         \u001b[0;32mreturn\u001b[0m \u001b[0mall\u001b[0m\u001b[0;34m(\u001b[0m\u001b[0mpoint\u001b[0m \u001b[0;32min\u001b[0m \u001b[0mn\u001b[0m \u001b[0;32mfor\u001b[0m \u001b[0mn\u001b[0m \u001b[0;32min\u001b[0m \u001b[0mself\u001b[0m\u001b[0;34m)\u001b[0m\u001b[0;34m\u001b[0m\u001b[0m\n\u001b[0m\u001b[1;32m    320\u001b[0m \u001b[0;34m\u001b[0m\u001b[0m\n\u001b[1;32m    321\u001b[0m     \u001b[0;32mdef\u001b[0m \u001b[0m__str__\u001b[0m\u001b[0;34m(\u001b[0m\u001b[0mself\u001b[0m\u001b[0;34m)\u001b[0m\u001b[0;34m:\u001b[0m\u001b[0;34m\u001b[0m\u001b[0m\n",
      "\u001b[0;32m~/anaconda3/lib/python3.6/site-packages/openmc/region.py\u001b[0m in \u001b[0;36m<genexpr>\u001b[0;34m(.0)\u001b[0m\n\u001b[1;32m    317\u001b[0m \u001b[0;34m\u001b[0m\u001b[0m\n\u001b[1;32m    318\u001b[0m         \"\"\"\n\u001b[0;32m--> 319\u001b[0;31m         \u001b[0;32mreturn\u001b[0m \u001b[0mall\u001b[0m\u001b[0;34m(\u001b[0m\u001b[0mpoint\u001b[0m \u001b[0;32min\u001b[0m \u001b[0mn\u001b[0m \u001b[0;32mfor\u001b[0m \u001b[0mn\u001b[0m \u001b[0;32min\u001b[0m \u001b[0mself\u001b[0m\u001b[0;34m)\u001b[0m\u001b[0;34m\u001b[0m\u001b[0m\n\u001b[0m\u001b[1;32m    320\u001b[0m \u001b[0;34m\u001b[0m\u001b[0m\n\u001b[1;32m    321\u001b[0m     \u001b[0;32mdef\u001b[0m \u001b[0m__str__\u001b[0m\u001b[0;34m(\u001b[0m\u001b[0mself\u001b[0m\u001b[0;34m)\u001b[0m\u001b[0;34m:\u001b[0m\u001b[0;34m\u001b[0m\u001b[0m\n",
      "\u001b[0;32m~/anaconda3/lib/python3.6/site-packages/openmc/surface.py\u001b[0m in \u001b[0;36m__contains__\u001b[0;34m(self, point)\u001b[0m\n\u001b[1;32m   1865\u001b[0m         \"\"\"\n\u001b[1;32m   1866\u001b[0m \u001b[0;34m\u001b[0m\u001b[0m\n\u001b[0;32m-> 1867\u001b[0;31m         \u001b[0mval\u001b[0m \u001b[0;34m=\u001b[0m \u001b[0mself\u001b[0m\u001b[0;34m.\u001b[0m\u001b[0msurface\u001b[0m\u001b[0;34m.\u001b[0m\u001b[0mevaluate\u001b[0m\u001b[0;34m(\u001b[0m\u001b[0mpoint\u001b[0m\u001b[0;34m)\u001b[0m\u001b[0;34m\u001b[0m\u001b[0m\n\u001b[0m\u001b[1;32m   1868\u001b[0m         \u001b[0;32mreturn\u001b[0m \u001b[0mval\u001b[0m \u001b[0;34m>=\u001b[0m \u001b[0;36m0.\u001b[0m \u001b[0;32mif\u001b[0m \u001b[0mself\u001b[0m\u001b[0;34m.\u001b[0m\u001b[0mside\u001b[0m \u001b[0;34m==\u001b[0m \u001b[0;34m'+'\u001b[0m \u001b[0;32melse\u001b[0m \u001b[0mval\u001b[0m \u001b[0;34m<\u001b[0m \u001b[0;36m0.\u001b[0m\u001b[0;34m\u001b[0m\u001b[0m\n\u001b[1;32m   1869\u001b[0m \u001b[0;34m\u001b[0m\u001b[0m\n",
      "\u001b[0;32m~/anaconda3/lib/python3.6/site-packages/openmc/surface.py\u001b[0m in \u001b[0;36mevaluate\u001b[0;34m(self, point)\u001b[0m\n\u001b[1;32m   1625\u001b[0m         \u001b[0my\u001b[0m \u001b[0;34m=\u001b[0m \u001b[0mpoint\u001b[0m\u001b[0;34m[\u001b[0m\u001b[0;36m1\u001b[0m\u001b[0;34m]\u001b[0m \u001b[0;34m-\u001b[0m \u001b[0mself\u001b[0m\u001b[0;34m.\u001b[0m\u001b[0my0\u001b[0m\u001b[0;34m\u001b[0m\u001b[0m\n\u001b[1;32m   1626\u001b[0m         \u001b[0mz\u001b[0m \u001b[0;34m=\u001b[0m \u001b[0mpoint\u001b[0m\u001b[0;34m[\u001b[0m\u001b[0;36m2\u001b[0m\u001b[0;34m]\u001b[0m \u001b[0;34m-\u001b[0m \u001b[0mself\u001b[0m\u001b[0;34m.\u001b[0m\u001b[0mz0\u001b[0m\u001b[0;34m\u001b[0m\u001b[0m\n\u001b[0;32m-> 1627\u001b[0;31m         \u001b[0;32mreturn\u001b[0m \u001b[0mx\u001b[0m\u001b[0;34m**\u001b[0m\u001b[0;36m2\u001b[0m \u001b[0;34m+\u001b[0m \u001b[0my\u001b[0m\u001b[0;34m**\u001b[0m\u001b[0;36m2\u001b[0m \u001b[0;34m-\u001b[0m \u001b[0mself\u001b[0m\u001b[0;34m.\u001b[0m\u001b[0mr2\u001b[0m\u001b[0;34m*\u001b[0m\u001b[0mz\u001b[0m\u001b[0;34m**\u001b[0m\u001b[0;36m2\u001b[0m\u001b[0;34m\u001b[0m\u001b[0m\n\u001b[0m\u001b[1;32m   1628\u001b[0m \u001b[0;34m\u001b[0m\u001b[0m\n\u001b[1;32m   1629\u001b[0m \u001b[0;34m\u001b[0m\u001b[0m\n",
      "\u001b[0;32m~/anaconda3/lib/python3.6/site-packages/openmc/surface.py\u001b[0m in \u001b[0;36mr2\u001b[0;34m(self)\u001b[0m\n\u001b[1;32m   1377\u001b[0m     \u001b[0;34m@\u001b[0m\u001b[0mproperty\u001b[0m\u001b[0;34m\u001b[0m\u001b[0m\n\u001b[1;32m   1378\u001b[0m     \u001b[0;32mdef\u001b[0m \u001b[0mr2\u001b[0m\u001b[0;34m(\u001b[0m\u001b[0mself\u001b[0m\u001b[0;34m)\u001b[0m\u001b[0;34m:\u001b[0m\u001b[0;34m\u001b[0m\u001b[0m\n\u001b[0;32m-> 1379\u001b[0;31m         \u001b[0;32mreturn\u001b[0m \u001b[0mself\u001b[0m\u001b[0;34m.\u001b[0m\u001b[0mcoefficients\u001b[0m\u001b[0;34m[\u001b[0m\u001b[0;34m'r2'\u001b[0m\u001b[0;34m]\u001b[0m\u001b[0;34m\u001b[0m\u001b[0m\n\u001b[0m\u001b[1;32m   1380\u001b[0m \u001b[0;34m\u001b[0m\u001b[0m\n\u001b[1;32m   1381\u001b[0m     \u001b[0;34m@\u001b[0m\u001b[0mx0\u001b[0m\u001b[0;34m.\u001b[0m\u001b[0msetter\u001b[0m\u001b[0;34m\u001b[0m\u001b[0m\n",
      "\u001b[0;31mKeyError\u001b[0m: 'r2'"
     ]
    }
   ],
   "source": [
    "f_univ.plot(width=(3*hex_dis, fuel_depth+ref_depth+2), origin = (0, 0, (fuel_depth+ref_depth)/2), basis='xz')"
   ]
  },
  {
   "cell_type": "code",
   "execution_count": 97,
   "metadata": {},
   "outputs": [],
   "source": [
    "edge_plug = openmc.Universe(cells=[medge])\n",
    "#edge_plug.plot(width=(3*hex_dis, 3*hex_dis), origin = (0,0,fuel_depth/2), basis='xy')"
   ]
  },
  {
   "cell_type": "code",
   "execution_count": 98,
   "metadata": {},
   "outputs": [],
   "source": [
    "#define the outer universe\n",
    "out_reg = +f_lower_surf & -m_upper_surf & -outer_bound\n",
    "out = openmc.Cell(5, 'outer universe cell')\n",
    "out.region = out_reg\n",
    "out.fill = vac\n",
    "outer_uni = openmc.Universe(cells=[out])\n",
    "\n",
    "#create a hexagonal lattice geometry\n",
    "hexag = openmc.HexLattice()\n",
    "hexag.center = (0,0)\n",
    "hexag.pitch = [2*hex_dis]\n",
    "hexag.outer = outer_uni\n",
    "\n",
    "\n",
    "#construct the fuel cell specification\n",
    "#iterate the number of rings so to fill up disk cylinder\n",
    "rings = 0\n",
    "while 2*rings*2*hex_dis < 2*disk_outer:\n",
    "    rings=rings+1\n",
    "\n",
    "u = []\n",
    "for i in range(rings,0,-1):\n",
    "    if i == 1:\n",
    "        num = 1\n",
    "    else:\n",
    "        num = (i-1)*6\n",
    "    fill = []\n",
    "    for j in range(0,num):\n",
    "        if i == rings:\n",
    "            fill.append(edge_plug)\n",
    "        else:\n",
    "            fill.append(f_univ)\n",
    "    u.append(fill)\n",
    "\n",
    "hexag.universes = u"
   ]
  },
  {
   "cell_type": "code",
   "execution_count": 99,
   "metadata": {},
   "outputs": [
    {
     "data": {
      "image/png": "[encoded data removed]",
      "text/plain": [
       "<Figure size 432x288 with 1 Axes>"
      ]
     },
     "metadata": {
      "needs_background": "light"
     },
     "output_type": "display_data"
    }
   ],
   "source": [
    "hex_cell = openmc.Cell(name='fuel disk')\n",
    "hex_cell.fill = hexag\n",
    "\n",
    "# Create final universe\n",
    "uni = openmc.Universe(name='uni')\n",
    "uni.add_cell(hex_cell)\n",
    "#uni.region = -outer_bound & +f_lower_surf & -m_upper_surf\n",
    "\n",
    "\n",
    "uni.plot(width=(2.2*disk_outer, 2.2*disk_outer), origin = (0,0,(fuel_depth+ref_depth)/2), basis='xy', color_by='material')"
   ]
  },
  {
   "cell_type": "code",
   "execution_count": 100,
   "metadata": {
    "scrolled": true
   },
   "outputs": [
    {
     "data": {
      "image/png": "[encoded data removed]",
      "text/plain": [
       "<Figure size 432x288 with 1 Axes>"
      ]
     },
     "metadata": {
      "needs_background": "light"
     },
     "output_type": "display_data"
    }
   ],
   "source": [
    "#zoom in\n",
    "uni.plot(width=(5*hex_dis, 5*hex_dis), basis='xy', color_by='material')"
   ]
  },
  {
   "cell_type": "code",
   "execution_count": 101,
   "metadata": {},
   "outputs": [],
   "source": [
    "#create root universe\n",
    "geom = openmc.Geometry()\n",
    "geom.root_universe = uni\n",
    "\n",
    "#configure statistics geometry\n",
    "#source = openmc.stats.Box((-20, -20, 0), (20, 20, fuel_depth))\n",
    "source = openmc.stats.Point((fuel_inner+(fuel_outer-fuel_inner)/2, 0, 1))\n",
    "src = openmc.Source(space=source)\n",
    "\n",
    "#export geometry\n",
    "geom.export_to_xml()"
   ]
  },
  {
   "cell_type": "code",
   "execution_count": 102,
   "metadata": {},
   "outputs": [],
   "source": [
    "#create materials & cross sections xmls\n",
    "mats = openmc.Materials()\n",
    "mats.cross_sections = '/home/james/nndc_hdf5/cross_sections.xml' #comment this out/replace if you need to\n",
    "mats.append(fuel)\n",
    "mats += [fuel2]\n",
    "mats += [BeO]\n",
    "mats += [LiD]\n",
    "#mats += [gra]\n",
    "mats += [ZrD2]\n",
    "mats += [TiD2]\n",
    "mats += [Be]\n",
    "mats += [CeD3]\n",
    "mats += [vac]\n",
    "\n",
    "#export materials\n",
    "mats.export_to_xml()"
   ]
  },
  {
   "cell_type": "code",
   "execution_count": 103,
   "metadata": {},
   "outputs": [],
   "source": [
    "settings = openmc.Settings()\n",
    "settings.particles = 1000\n",
    "settings.batches = 20\n",
    "settings.inactive = 10\n",
    "settings.source = src\n",
    "settings.export_to_xml()"
   ]
  },
  {
   "cell_type": "code",
   "execution_count": 104,
   "metadata": {},
   "outputs": [
    {
     "name": "stderr",
     "output_type": "stream",
     "text": [
      "/home/james/anaconda3/lib/python3.6/site-packages/openmc/mixin.py:61: IDWarning: Another Tally instance already exists with id=4.\n",
      "  warn(msg, IDWarning)\n"
     ]
    }
   ],
   "source": [
    "#configure tallies\n",
    "cell_filter = openmc.CellFilter(f)\n",
    "t = openmc.Tally(4)\n",
    "t.filters = [cell_filter]\n",
    "t.scores = ['fission']\n",
    "tallies = openmc.Tallies([t])\n",
    "\n",
    "#export tallies\n",
    "tallies.export_to_xml()"
   ]
  },
  {
   "cell_type": "code",
   "execution_count": 105,
   "metadata": {
    "scrolled": false
   },
   "outputs": [
    {
     "name": "stdout",
     "output_type": "stream",
     "text": [
      "openmc: Relink `/home/james/anaconda3/bin/../lib/./libgfortran.so.4' with `/lib/x86_64-linux-gnu/librt.so.1' for IFUNC symbol `clock_gettime'\n",
      "\n",
      "                               %%%%%%%%%%%%%%%\n",
      "                          %%%%%%%%%%%%%%%%%%%%%%%%\n",
      "                       %%%%%%%%%%%%%%%%%%%%%%%%%%%%%%\n",
      "                     %%%%%%%%%%%%%%%%%%%%%%%%%%%%%%%%%%\n",
      "                   %%%%%%%%%%%%%%%%%%%%%%%%%%%%%%%%%%%%%%\n",
      "                  %%%%%%%%%%%%%%%%%%%%%%%%%%%%%%%%%%%%%%%%\n",
      "                                   %%%%%%%%%%%%%%%%%%%%%%%%\n",
      "                                    %%%%%%%%%%%%%%%%%%%%%%%%\n",
      "                ###############      %%%%%%%%%%%%%%%%%%%%%%%%\n",
      "               ##################     %%%%%%%%%%%%%%%%%%%%%%%\n",
      "               ###################     %%%%%%%%%%%%%%%%%%%%%%%\n",
      "               ####################     %%%%%%%%%%%%%%%%%%%%%%\n",
      "               #####################     %%%%%%%%%%%%%%%%%%%%%\n",
      "               ######################     %%%%%%%%%%%%%%%%%%%%\n",
      "               #######################     %%%%%%%%%%%%%%%%%%\n",
      "                #######################     %%%%%%%%%%%%%%%%%\n",
      "                ######################     %%%%%%%%%%%%%%%%%\n",
      "                 ####################     %%%%%%%%%%%%%%%%%\n",
      "                   #################     %%%%%%%%%%%%%%%%%\n",
      "                    ###############     %%%%%%%%%%%%%%%%\n",
      "                      ############     %%%%%%%%%%%%%%%\n",
      "                         ########     %%%%%%%%%%%%%%\n",
      "                                     %%%%%%%%%%%\n",
      "\n",
      "                   | The OpenMC Monte Carlo Code\n",
      "         Copyright | 2011-2018 Massachusetts Institute of Technology\n",
      "           License | http://openmc.readthedocs.io/en/latest/license.html\n",
      "           Version | 0.10.0\n",
      "          Git SHA1 | 878abce958547f97279209d47c2c4a42fd310155\n",
      "         Date/Time | 2019-02-02 13:33:27\n",
      "    OpenMP Threads | 4\n",
      "\n",
      " Reading settings XML file...\n",
      " Reading cross sections XML file...\n",
      " Reading materials XML file...\n",
      " Reading geometry XML file...\n",
      " Building neighboring cells lists for each surface...\n",
      " Reading Am242_m1 from /home/james/nndc_hdf5/Am242_m1.h5\n",
      " Reading Be9 from /home/james/nndc_hdf5/Be9.h5\n",
      " Reading O16 from /home/james/nndc_hdf5/O16.h5\n",
      " Reading Li7 from /home/james/nndc_hdf5/Li7.h5\n",
      " Reading H2 from /home/james/nndc_hdf5/H2.h5\n",
      " Reading H1 from /home/james/nndc_hdf5/H1.h5\n",
      " Reading Zr91 from /home/james/nndc_hdf5/Zr91.h5\n",
      " Reading Ti49 from /home/james/nndc_hdf5/Ti49.h5\n",
      " Reading Ti48 from /home/james/nndc_hdf5/Ti48.h5\n",
      " Reading Ti46 from /home/james/nndc_hdf5/Ti46.h5\n",
      " Reading Ti47 from /home/james/nndc_hdf5/Ti47.h5\n",
      " Reading Ti50 from /home/james/nndc_hdf5/Ti50.h5\n",
      " Reading Ce142 from /home/james/nndc_hdf5/Ce142.h5\n",
      " Reading Ce136 from /home/james/nndc_hdf5/Ce136.h5\n",
      " Reading Ce140 from /home/james/nndc_hdf5/Ce140.h5\n",
      " Reading Ce138 from /home/james/nndc_hdf5/Ce138.h5\n",
      " Reading Am241 from /home/james/nndc_hdf5/Am241.h5\n",
      " Maximum neutron transport energy: 2.00000E+07 eV for Am242_m1\n",
      " Reading tallies XML file...\n",
      " Writing summary.h5 file...\n",
      " Initializing source particles...\n",
      "\n",
      " ====================>     K EIGENVALUE SIMULATION     <====================\n",
      "\n",
      "  Bat./Gen.      k            Average k         \n",
      "  =========   ========   ====================   \n",
      " WARNING: After particle 751 crossed surface 97 it could not be located in any\n",
      "          cell and it did not leak.\n",
      " WARNING: After particle 254 crossed surface 97 it could not be located in any\n",
      "          cell and it did not leak.\n",
      " WARNING: After particle 502 crossed surface 97 it could not be located in any\n",
      "          cell and it did not leak.\n",
      " WARNING: After particle 752 crossed surface 97 it could not be located in any\n",
      "          cell and it did not leak.\n",
      " WARNING: After particle 255 crossed surface 97 it could not be located in any\n",
      "          cell and it did not leak.\n",
      " WARNING: After particle 753 crossed surface 97 it could not be located in any\n",
      "          cell and it did not leak.\n",
      " WARNING: After particle 2 crossed surface 97 it could not be located in any\n",
      "          cell and it did not leak.\n",
      " WARNING: After particle 256 crossed surface 97 it could not be located in any\n",
      "          cell and it did not leak.\n",
      " WARNING: After particle 754 crossed surface 97 it could not be located in any\n",
      "          cell and it did not leak.\n",
      " WARNING: After particle 257 crossed surface 97 it could not be located in any\n",
      "          cell and it did not leak.\n",
      " WARNING: After particle 756 crossed surface 97 it could not be located in any\n",
      "          cell and it did not leak.\n",
      " WARNING: After particle 258 crossed surface 97 it could not be located in any\n",
      "          cell and it did not leak.\n",
      " WARNING: After particle 757 crossed surface 97 it could not be located in any\n",
      "          cell and it did not leak.\n",
      " ERROR: Maximum number of lost particles has been reached.\n",
      " ERROR: STOP 1\n",
      "Maximum number of lost particles has been reached.\n",
      "STOP 1\n"
     ]
    },
    {
     "data": {
      "text/plain": [
       "1"
      ]
     },
     "execution_count": 105,
     "metadata": {},
     "output_type": "execute_result"
    }
   ],
   "source": [
    "openmc.run()"
   ]
  },
  {
   "cell_type": "code",
   "execution_count": null,
   "metadata": {},
   "outputs": [],
   "source": []
  },
  {
   "cell_type": "code",
   "execution_count": null,
   "metadata": {},
   "outputs": [],
   "source": []
  }
 ],
 "metadata": {
  "kernelspec": {
   "display_name": "Python 3",
   "language": "python",
   "name": "python3"
  },
  "language_info": {
   "codemirror_mode": {
    "name": "ipython",
    "version": 3
   },
   "file_extension": ".py",
   "mimetype": "text/x-python",
   "name": "python",
   "nbconvert_exporter": "python",
   "pygments_lexer": "ipython3",
   "version": "3.6.6"
  }
 },
 "nbformat": 4,
 "nbformat_minor": 2
}
