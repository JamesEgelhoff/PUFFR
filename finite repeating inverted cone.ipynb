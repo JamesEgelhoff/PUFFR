{
 "cells": [
  {
   "cell_type": "code",
   "execution_count": 2,
   "metadata": {},
   "outputs": [],
   "source": [
    "%matplotlib inline\n",
    "import numpy as np\n",
    "import openmc"
   ]
  },
  {
   "cell_type": "code",
   "execution_count": 3,
   "metadata": {
    "scrolled": false
   },
   "outputs": [
    {
     "name": "stdout",
     "output_type": "stream",
     "text": [
      "Material\n",
      "\tID             =\t1\n",
      "\tName           =\tAm242m\n",
      "\tTemperature    =\tNone\n",
      "\tDensity        =\t13.6 [g/cm3]\n",
      "\tS(a,b) Tables  \n",
      "\tNuclides       \n",
      "\tAm242_m1       =\t1            [ao]\n",
      "\n",
      "Material\n",
      "\tID             =\t11\n",
      "\tName           =\tAm242m less enriched\n",
      "\tTemperature    =\tNone\n",
      "\tDensity        =\t0.136 [g/cm3]\n",
      "\tS(a,b) Tables  \n",
      "\tNuclides       \n",
      "\tAm242_m1       =\t0.3          [ao]\n",
      "\tAm241          =\t0.7          [ao]\n",
      "\n",
      "Material\n",
      "\tID             =\t2\n",
      "\tName           =\tBeO\n",
      "\tTemperature    =\tNone\n",
      "\tDensity        =\t2.86 [g/cm3]\n",
      "\tS(a,b) Tables  \n",
      "\tNuclides       \n",
      "\tBe9            =\t0.5          [ao]\n",
      "\tO16            =\t0.5          [ao]\n",
      "\n",
      "Material\n",
      "\tID             =\t7\n",
      "\tName           =\tBe\n",
      "\tTemperature    =\tNone\n",
      "\tDensity        =\t1.85 [g/cm3]\n",
      "\tS(a,b) Tables  \n",
      "\tNuclides       \n",
      "\tBe9            =\t1.0          [ao]\n",
      "\n",
      "Material\n",
      "\tID             =\t10\n",
      "\tName           =\tH1\n",
      "\tTemperature    =\tNone\n",
      "\tDensity        =\t1e-06 [g/cm3]\n",
      "\tS(a,b) Tables  \n",
      "\tNuclides       \n",
      "\tH1             =\t1.0          [ao]\n",
      "\n"
     ]
    }
   ],
   "source": [
    "#create materials\n",
    "\n",
    "#fuel\n",
    "fuel = openmc.Material(1, \"Am242m\")\n",
    "fuel.add_nuclide('Am242_m1',1)\n",
    "fuel.set_density('g/cm3',13.6)\n",
    "print(fuel)\n",
    "\n",
    "#fuel with realistic enrichment  (low density to simulate dispersed particles in aerogel)\n",
    "fuel2 = openmc.Material(11, \"Am242m less enriched\")\n",
    "fuel2.add_nuclide('Am242_m1', .3)\n",
    "fuel2.add_nuclide('Am241', .7)\n",
    "fuel2.set_density('g/cm3', .136)\n",
    "print(fuel2)\n",
    "\n",
    "#moderator\n",
    "BeO = openmc.Material(2, \"BeO\")\n",
    "BeO.add_nuclide(\"Be9\", .5)\n",
    "BeO.add_nuclide(\"O16\", .5)\n",
    "BeO.set_density(\"g/cm3\", 2.86)\n",
    "print(BeO)\n",
    "\n",
    "#Be moderator\n",
    "Be = openmc.Material(7, \"Be\")\n",
    "Be.add_nuclide(\"Be9\", 1.0)\n",
    "Be.set_density(\"g/cm3\", 1.85)\n",
    "print(Be)\n",
    "\n",
    "#\"vacuum\"\n",
    "vac = openmc.Material(10, \"H1\")\n",
    "vac.add_nuclide('H1',1.0)\n",
    "vac.set_density('g/cm3',0.000001)\n",
    "print(vac)\n",
    "\n",
    "#reflector\n",
    "#may add a reflector in the future. for now just BeO moderator"
   ]
  },
  {
   "cell_type": "code",
   "execution_count": null,
   "metadata": {},
   "outputs": [],
   "source": [
    "# Outer radius of fuel\n",
    "fuel_outer = 2 #cm fuel outer radius\n",
    "fuel_thickness = .1\n",
    "fuel_inner = fuel_outer - fuel_thickness #inner radius for 2micron fuel layer\n",
    "\n",
    "# parameters for depth of various things\n",
    "fuel_depth = 30 #depth of fuel/moderator disk\n",
    "ref_depth = 5 #depth of top reflecting/moderating layer\n",
    "\n",
    "#edge length of hexagonal fuel cell\n",
    "mod_thickness = 3\n",
    "hex_dis = fuel_outer + mod_thickness\n",
    "edge = hex_dis * 2 / np.sqrt(3)\n",
    "\n",
    "#outer radius of fuel disk\n",
    "disk_outer = 70 # radius in cm"
   ]
  },
  {
   "cell_type": "code",
   "execution_count": null,
   "metadata": {},
   "outputs": [],
   "source": [
    "#specify useful geometric constants\n",
    "origin_z = fuel_depth #specify the tip of the fuel cone to be in the center of the hexagon\n",
    "theta = np.arctan(fuel_outer/fuel_depth) #half angle of the cone - useful for quadric\n",
    "sep = fuel_thickness / np.sin(theta)  #vertical separation between inner and outer fuel cone surfaces\n",
    "Ap = -fuel_depth**2 / fuel_outer**2\n",
    "\n",
    "#define a cell surface for a single fuel cylinder\n",
    "f_inner_surf = openmc.Quadric(a = Ap, b=Ap, c=1, j=-2*(origin_z - sep),\n",
    "                              k=(origin_z - sep)**2, boundary_type='transmission')\n",
    "f_outer_surf = openmc.Quadric(a = Ap, b=Ap, c=1, j=-2*origin_z,\n",
    "                              k=origin_z**2, boundary_type='transmission')\n",
    "f_lower_surf = openmc.ZPlane(z0=0, boundary_type=\"vacuum\")\n",
    "f_upper_surf = openmc.ZPlane(z0=fuel_depth, boundary_type=\"transmission\")\n",
    "m_upper_surf = openmc.ZPlane(z0=fuel_depth+ref_depth, boundary_type=\"vacuum\")\n",
    "\n",
    "outer_bound = openmc.ZCylinder(R=disk_outer+2*hex_dis, boundary_type=\"vacuum\")\n",
    "\n",
    "hex_region = openmc.get_hexagonal_prism(edge_length=edge, orientation='x', boundary_type=\"transmission\")\n",
    "vac_pin = openmc.get_hexagonal_prism(edge_length=edge, orientation='x', boundary_type=\"vacuum\")\n",
    "\n",
    "hex_mod = +f_upper_surf & -m_upper_surf & hex_region\n",
    "hex_edge = +f_lower_surf & -m_upper_surf & hex_region\n",
    "v_edge = +f_lower_surf & -m_upper_surf & vac_pin\n",
    "\n",
    "fuel_region = +f_outer_surf & -f_inner_surf & -f_upper_surf & +f_lower_surf\n",
    "mod_region = -f_outer_surf & -f_upper_surf & + f_lower_surf & hex_region | hex_mod\n",
    "vac_region = ~fuel_region&~mod_region\n",
    "\n",
    "#fill the fuel region\n",
    "f=openmc.Cell(1, 'fuel')\n",
    "f.fill=fuel2\n",
    "f.region=fuel_region\n",
    "\n",
    "#fill the moderator regions\n",
    "m = openmc.Cell(2, 'moderator region 1')\n",
    "m.fill=BeO\n",
    "m.region=mod_region\n",
    "\n",
    "medge = openmc.Cell(4, 'full plug hex')\n",
    "medge.fill = BeO\n",
    "medge.region = hex_edge\n",
    "\n",
    "vac_edge = openmc.Cell(5, 'vacuum hexagon boundary plug')\n",
    "vac_edge.fill = vac\n",
    "vac_edge.region = v_edge\n",
    "\n",
    "v = openmc.Cell(6, 'vacuum')\n",
    "v.fill = vac\n",
    "v.region = vac_region"
   ]
  },
  {
   "cell_type": "code",
   "execution_count": null,
   "metadata": {},
   "outputs": [],
   "source": [
    "#visualize the fuel geometry\n",
    "f_univ = openmc.Universe(cells=[f, m, v])\n",
    "f_univ.plot(width=(3*hex_dis, 3*hex_dis), origin = (0,0,fuel_depth/2), basis='xy')"
   ]
  },
  {
   "cell_type": "code",
   "execution_count": null,
   "metadata": {
    "scrolled": true
   },
   "outputs": [],
   "source": [
    "f_univ.plot(width=(3*hex_dis, fuel_depth+ref_depth+2), \n",
    "            origin = (0, 0, (fuel_depth+ref_depth)/2), basis='xz',\n",
    "           color_by='material')"
   ]
  },
  {
   "cell_type": "code",
   "execution_count": null,
   "metadata": {},
   "outputs": [],
   "source": [
    "edge_plug = openmc.Universe(cells=[medge])\n",
    "vac_plug = openmc.Universe(cells=[vac_edge])\n",
    "#edge_plug.plot(width=(3*hex_dis, 3*hex_dis), origin = (0,0,fuel_depth/2), basis='xy')"
   ]
  },
  {
   "cell_type": "code",
   "execution_count": null,
   "metadata": {},
   "outputs": [],
   "source": [
    "#define the outer universe\n",
    "out_reg = +f_lower_surf & -m_upper_surf & -outer_bound\n",
    "out = openmc.Cell(7, 'outer universe cell')\n",
    "out.region = out_reg\n",
    "out.fill = vac\n",
    "outer_uni = openmc.Universe(cells=[out])\n",
    "\n",
    "#create a hexagonal lattice geometry\n",
    "hexag = openmc.HexLattice()\n",
    "hexag.center = (0,0)\n",
    "hexag.pitch = [2*hex_dis]\n",
    "hexag.outer = outer_uni\n",
    "\n",
    "\n",
    "#construct the fuel cell specification\n",
    "#iterate the number of rings so to fill up disk cylinder\n",
    "rings = 0\n",
    "while 2*rings*2*hex_dis < 2*disk_outer:\n",
    "    rings=rings+1\n",
    "\n",
    "u = []\n",
    "for i in range(rings,0,-1):\n",
    "    if i == 1:\n",
    "        num = 1\n",
    "    else:\n",
    "        num = (i-1)*6\n",
    "    fill = []\n",
    "    for j in range(0,num):\n",
    "        if i == rings:\n",
    "            fill.append(vac_plug)\n",
    "        elif i==rings-1:\n",
    "            fill.append(edge_plug)\n",
    "        else:\n",
    "            fill.append(f_univ)\n",
    "    u.append(fill)\n",
    "\n",
    "hexag.universes = u"
   ]
  },
  {
   "cell_type": "code",
   "execution_count": null,
   "metadata": {},
   "outputs": [],
   "source": [
    "hex_cell = openmc.Cell(name='fuel disk')\n",
    "hex_cell.fill = hexag\n",
    "\n",
    "# Create final universe\n",
    "uni = openmc.Universe(name='uni')\n",
    "uni.add_cell(hex_cell)\n",
    "uni.region = -outer_bound & +f_lower_surf & -m_upper_surf\n",
    "\n",
    "\n",
    "uni.plot(width=(2.2*disk_outer, 2.2*disk_outer), origin = (0,0,(fuel_depth+ref_depth)/2), basis='xy', color_by='material')"
   ]
  },
  {
   "cell_type": "code",
   "execution_count": null,
   "metadata": {
    "scrolled": true
   },
   "outputs": [],
   "source": [
    "#zoom in\n",
    "uni.plot(width=(5*hex_dis, 5*hex_dis), basis='xy', color_by='material')"
   ]
  },
  {
   "cell_type": "code",
   "execution_count": null,
   "metadata": {},
   "outputs": [],
   "source": [
    "#create root universe\n",
    "geom = openmc.Geometry()\n",
    "geom.root_universe = uni\n",
    "\n",
    "#configure statistics geometry\n",
    "#source = openmc.stats.Box((-20, -20, 0), (20, 20, fuel_depth))\n",
    "source = openmc.stats.Point((fuel_inner/2+(fuel_outer-fuel_inner)/2, 0, fuel_depth/2))\n",
    "src = openmc.Source(space=source)\n",
    "\n",
    "#export geometry\n",
    "geom.export_to_xml()"
   ]
  },
  {
   "cell_type": "code",
   "execution_count": null,
   "metadata": {},
   "outputs": [],
   "source": [
    "#create materials & cross sections xmls\n",
    "mats = openmc.Materials()\n",
    "mats.cross_sections = '/home/james/nndc_hdf5/cross_sections.xml' #comment this out/replace if you need to\n",
    "mats.append(fuel)\n",
    "mats += [fuel2]\n",
    "mats += [BeO]\n",
    "mats += [Be]\n",
    "mats += [vac]\n",
    "\n",
    "#export materials\n",
    "mats.export_to_xml()"
   ]
  },
  {
   "cell_type": "code",
   "execution_count": null,
   "metadata": {},
   "outputs": [],
   "source": [
    "settings = openmc.Settings()\n",
    "settings.particles = 1000\n",
    "settings.batches = 30\n",
    "settings.inactive = 10\n",
    "settings.source = src\n",
    "settings.export_to_xml()"
   ]
  },
  {
   "cell_type": "code",
   "execution_count": null,
   "metadata": {},
   "outputs": [],
   "source": [
    "#configure tallies\n",
    "cell_filter = openmc.CellFilter(f)\n",
    "t = openmc.Tally(4)\n",
    "t.filters = [cell_filter]\n",
    "t.scores = ['fission']\n",
    "tallies = openmc.Tallies([t])\n",
    "\n",
    "#export tallies\n",
    "tallies.export_to_xml()"
   ]
  },
  {
   "cell_type": "code",
   "execution_count": null,
   "metadata": {
    "scrolled": false
   },
   "outputs": [],
   "source": [
    "openmc.run()"
   ]
  },
  {
   "cell_type": "code",
   "execution_count": null,
   "metadata": {},
   "outputs": [],
   "source": [
    "def rep_cone_mass(rings, fuel_depth, fuel_outer, edge_length, ref_depth, mod_dens) :\n",
    "    \"\"\"\n",
    "    Calculates the mass of a repeating cylinder geometry\n",
    "    \n",
    "    Inputs:\n",
    "    Rings: number of rings of fuel/moderator hexagonal prisms\n",
    "    fuel_depth: height of the fuel/moderator section\n",
    "    fuel_outer: outer radius of fuel layer\n",
    "    edge_length: edge length of hexagonal prisms\n",
    "    ref_depth: height of moderator layer\n",
    "    mod_dens: density in g/cm3 of moderating material\n",
    "    \n",
    "    Outputs:\n",
    "    mass: mass of the engine in kg\n",
    "    \"\"\"\n",
    "    \n",
    "    mod_plugs = rings * 6 #number of hexagonal prisms filled just with moderator\n",
    "    fuel_plugs = 1 #number of hexagonal prisms with moderator, fuel, & vacuum\n",
    "    for i in range(1, rings) : #determine number of hexagonal prisms with fuel\n",
    "        fuel_plugs += i*6\n",
    "        \n",
    "    modV = (fuel_depth+ref_depth)*3*np.sqrt(3)*edge_length**2 / 2 #volume of a moderator plug\n",
    "    fuelV = (ref_depth*3*np.sqrt(3)*edge_length**2 / 2) + \\\n",
    "            fuel_depth*3*np.sqrt(3)*edge_length**2 / 2 - \\\n",
    "            np.pi*fuel_outer*(fuel_outer+np.sqrt(fuel_depth**2+fuel_outer**2)) #volume of a fuel plug\n",
    "    \n",
    "    #add up all of the masses\n",
    "    mass = mod_dens * (mod_plugs*modV + fuel_plugs*fuelV) / 1000\n",
    "    \n",
    "    return mass"
   ]
  },
  {
   "cell_type": "code",
   "execution_count": null,
   "metadata": {},
   "outputs": [],
   "source": [
    "rep_cone_mass(rings, fuel_depth, fuel_outer, edge, ref_depth, 2.86)"
   ]
  },
  {
   "cell_type": "code",
   "execution_count": null,
   "metadata": {},
   "outputs": [],
   "source": []
  }
 ],
 "metadata": {
  "kernelspec": {
   "display_name": "Python 3",
   "language": "python",
   "name": "python3"
  },
  "language_info": {
   "codemirror_mode": {
    "name": "ipython",
    "version": 3
   },
   "file_extension": ".py",
   "mimetype": "text/x-python",
   "name": "python",
   "nbconvert_exporter": "python",
   "pygments_lexer": "ipython3",
   "version": "3.6.6"
  }
 },
 "nbformat": 4,
 "nbformat_minor": 2
}
