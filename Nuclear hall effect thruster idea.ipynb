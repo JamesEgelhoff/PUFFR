{
 "cells": [
  {
   "cell_type": "code",
   "execution_count": 1,
   "metadata": {},
   "outputs": [],
   "source": [
    "%matplotlib inline\n",
    "import numpy as np\n",
    "import openmc"
   ]
  },
  {
   "cell_type": "code",
   "execution_count": 6,
   "metadata": {},
   "outputs": [],
   "source": [
    "def inf_model(outer_rad, height, vac_gap, mod_depth, plate_height, ref_depth, enrich):\n",
    "    \n",
    "    #create materials\n",
    "\n",
    "    #enriched Am\n",
    "    fuel = openmc.Material(1, \"Am242m\")\n",
    "    fuel.add_nuclide('Am242_m1', enrich)\n",
    "    fuel.add_nuclide('Am241', 1-enrich)\n",
    "    fuel.set_density('g/cm3', .136) #low density (1/100th) to simulate dispersed particles\n",
    "\n",
    "    #moderator\n",
    "    BeO = openmc.Material(2, \"Be\")\n",
    "    BeO.add_nuclide(\"Be9\", .5)\n",
    "    BeO.add_nuclide('O16', .5)\n",
    "    BeO.set_density(\"g/cm3\", 2.86)\n",
    "\n",
    "    #D2 gas\n",
    "    vac = openmc.Material(4, \"H2\")\n",
    "    vac.add_nuclide('H2',1.0)\n",
    "    vac.set_density('g/cm3',1.8e-5)\n",
    "    \n",
    "    #outer_rad = 60 #cm fuel outer radius\n",
    "    fuel_depth = .1 #cm thickness of aerogel/fuel material\n",
    "    #vac_gap = 2 #cm distance between rings of moderator\n",
    "    #mod_depth = 5 #thickness of moderator rings\n",
    "    #height = 60\n",
    "    #plate_height = 5\n",
    "    core_mod_rad = mod_depth/2\n",
    "    #ref_depth = 5 #optional reflector layer\n",
    "\n",
    "    #define the layers\n",
    "    rad = core_mod_rad\n",
    "    rings = 0\n",
    "\n",
    "    #determines how many moderator/fuel/vacuum rings to include\n",
    "    while rad+vac_gap+mod_depth+2*fuel_depth < outer_rad:\n",
    "        rings=rings + 1\n",
    "        rad = rad + vac_gap + mod_depth + 2*fuel_depth\n",
    "        \n",
    "    #print('{} fuel/moderator/vacuum rings included in design'.format(rings))\n",
    "\n",
    "    #will be populated with cells\n",
    "    vac_cells = []\n",
    "    mod_cells = []\n",
    "    fuel_cells = []\n",
    "\n",
    "    #defining useful surfaces\n",
    "    floor = openmc.ZPlane(z0=0, boundary_type='vacuum')\n",
    "    mid = openmc.ZPlane(z0=height, boundary_type='transmission')\n",
    "    top = openmc.ZPlane(z0=height+plate_height, boundary_type='transmission')\n",
    "    core_bound = openmc.ZCylinder(R=core_mod_rad, boundary_type='transmission')\n",
    "    outer_bound = openmc.ZCylinder(R=outer_rad, boundary_type='transmission')\n",
    "\n",
    "    #fill the center section with moderator\n",
    "    core = -core_bound & +floor & -mid\n",
    "    core_cell = openmc.Cell(fill = BeO, region = core)\n",
    "    mod_cells.append(core_cell)\n",
    "\n",
    "    #fill the top plate with moderator\n",
    "    plate = -outer_bound & +mid & -top\n",
    "    plate_cell = openmc.Cell(fill=BeO, region=plate)\n",
    "    mod_cells.append(plate_cell)\n",
    "\n",
    "    #geometric paramters\n",
    "    add = vac_gap+mod_depth+2*fuel_depth\n",
    "    layer_rad = core_mod_rad\n",
    "\n",
    "    #loop to create the cells that make up the fuel/moderator/vacuum rings\n",
    "    for i in range(0,rings):\n",
    "\n",
    "        #define useful surfaces\n",
    "        inner = openmc.ZCylinder(R=layer_rad+add*i, boundary_type='transmission')\n",
    "        fuel_inner = openmc.ZCylinder(R=layer_rad+add*i+fuel_depth, boundary_type='transmission')\n",
    "        fuel_outer = openmc.ZCylinder(R=layer_rad+add*i+vac_gap+fuel_depth, boundary_type='transmission')\n",
    "        mod_inner = openmc.ZCylinder(R=layer_rad+add*i+vac_gap+2*fuel_depth, boundary_type='transmission')\n",
    "        if i==rings-1:\n",
    "            mod_outer = openmc.ZCylinder(R=outer_rad, boundary_type='transmission')\n",
    "        else:\n",
    "            mod_outer = openmc.ZCylinder(R=layer_rad+add*i+vac_gap+2*fuel_depth+mod_depth, boundary_type='transmission')\n",
    "\n",
    "        #define the regions\n",
    "        fuel_zone1 = +inner & -fuel_inner & +floor & -mid\n",
    "        vac_zone = +fuel_inner & -fuel_outer & +floor & -mid\n",
    "        fuel_zone2 = +fuel_outer & -mod_inner & +floor & -mid\n",
    "        mod_zone = +mod_inner & -mod_outer & +floor & -mid\n",
    "\n",
    "        #fill cells with material\n",
    "        vac_cell = openmc.Cell(fill=vac, region=vac_zone)\n",
    "        mod_cell = openmc.Cell(fill=BeO, region=mod_zone)\n",
    "        fuel_cell1 = openmc.Cell(fill=fuel, region=fuel_zone1)\n",
    "        fuel_cell2 = openmc.Cell(fill=fuel, region=fuel_zone2)\n",
    "\n",
    "        #store the cells in variables outside the for loop\n",
    "        vac_cells.append(vac_cell)\n",
    "        mod_cells.append(mod_cell)\n",
    "        fuel_cells.append(fuel_cell1)\n",
    "        fuel_cells.append(fuel_cell2)\n",
    "\n",
    "    #add reflector/moderator around it all\n",
    "    outest_bound = openmc.ZCylinder(R=outer_rad+ref_depth, boundary_type='vacuum')\n",
    "    topest = openmc.ZPlane(z0 = height+plate_height+ref_depth, boundary_type='vacuum')\n",
    "    ref_zone = +top & -topest & -outest_bound\n",
    "    ref_cell = openmc.Cell(fill=BeO, region=ref_zone)\n",
    "    ref2_zone = +floor & -top & +outer_bound & -outest_bound\n",
    "    ref2_cell = openmc.Cell(fill=BeO, region=ref2_zone)\n",
    "\n",
    "    #create the universe\n",
    "    hall_cells = vac_cells + mod_cells + fuel_cells + [ref_cell, ref2_cell]\n",
    "    uni = openmc.Universe(cells=hall_cells)\n",
    "    \n",
    "    #create root universe\n",
    "    geom = openmc.Geometry()\n",
    "    geom.root_universe = uni\n",
    "\n",
    "    #configure statistics geometry\n",
    "    #source = openmc.stats.Box((-20, -20, 0), (20, 20, fuel_depth))\n",
    "    source = openmc.stats.Point((core_mod_rad+fuel_depth/2,0,height/2))\n",
    "    src = openmc.Source(space=source)\n",
    "    \n",
    "    #create materials\n",
    "    mats = openmc.Materials()\n",
    "    mats.cross_sections = '/home/james/nndc_hdf5/cross_sections.xml' #comment this out/replace if you need to\n",
    "    mats.append(fuel)\n",
    "    mats += [BeO]\n",
    "    mats += [vac]\n",
    "    \n",
    "    #configure run settings\n",
    "    settings = openmc.Settings()\n",
    "    settings.particles = 1000\n",
    "    settings.batches = 300\n",
    "    settings.inactive = 20\n",
    "    settings.source = src\n",
    "    \n",
    "    settings.output = {'tallies': False}\n",
    "    \n",
    "    model = openmc.model.Model(geom, mats, settings)\n",
    "    \n",
    "    return model"
   ]
  },
  {
   "cell_type": "code",
   "execution_count": 7,
   "metadata": {
    "scrolled": false
   },
   "outputs": [
    {
     "name": "stderr",
     "output_type": "stream",
     "text": [
      "/home/james/anaconda3/lib/python3.6/site-packages/openmc/mixin.py:61: IDWarning: Another Material instance already exists with id=1.\n",
      "  warn(msg, IDWarning)\n",
      "/home/james/anaconda3/lib/python3.6/site-packages/openmc/mixin.py:61: IDWarning: Another Material instance already exists with id=2.\n",
      "  warn(msg, IDWarning)\n",
      "/home/james/anaconda3/lib/python3.6/site-packages/openmc/mixin.py:61: IDWarning: Another Material instance already exists with id=4.\n",
      "  warn(msg, IDWarning)\n"
     ]
    },
    {
     "ename": "AssertionError",
     "evalue": "OpenMC did not execute successfully",
     "output_type": "error",
     "traceback": [
      "\u001b[0;31m---------------------------------------------------------------------------\u001b[0m",
      "\u001b[0;31mAssertionError\u001b[0m                            Traceback (most recent call last)",
      "\u001b[0;32m<ipython-input-7-9628b2f93e62>\u001b[0m in \u001b[0;36m<module>\u001b[0;34m\u001b[0m\n\u001b[1;32m      9\u001b[0m                                                       'enrich':.3},\n\u001b[1;32m     10\u001b[0m                                                   \u001b[0mtol\u001b[0m\u001b[0;34m=\u001b[0m\u001b[0;36m1.E-2\u001b[0m\u001b[0;34m,\u001b[0m \u001b[0mbracketed_method\u001b[0m\u001b[0;34m=\u001b[0m\u001b[0;34m'bisect'\u001b[0m\u001b[0;34m,\u001b[0m\u001b[0;34m\u001b[0m\u001b[0m\n\u001b[0;32m---> 11\u001b[0;31m                                                   print_iterations=True)\n\u001b[0m\u001b[1;32m     12\u001b[0m \u001b[0;34m\u001b[0m\u001b[0m\n\u001b[1;32m     13\u001b[0m \u001b[0mprint\u001b[0m\u001b[0;34m(\u001b[0m\u001b[0;34m'Critical fuel depth: {:4.0f}'\u001b[0m\u001b[0;34m.\u001b[0m\u001b[0mformat\u001b[0m\u001b[0;34m(\u001b[0m\u001b[0mcrit\u001b[0m\u001b[0;34m)\u001b[0m\u001b[0;34m)\u001b[0m\u001b[0;34m\u001b[0m\u001b[0m\n",
      "\u001b[0;32m~/anaconda3/lib/python3.6/site-packages/openmc/search.py\u001b[0m in \u001b[0;36msearch_for_keff\u001b[0;34m(model_builder, initial_guess, target, bracket, model_args, tol, bracketed_method, print_iterations, print_output, **kwargs)\u001b[0m\n\u001b[1;32m    193\u001b[0m \u001b[0;34m\u001b[0m\u001b[0m\n\u001b[1;32m    194\u001b[0m     \u001b[0;31m# Perform the search\u001b[0m\u001b[0;34m\u001b[0m\u001b[0;34m\u001b[0m\u001b[0m\n\u001b[0;32m--> 195\u001b[0;31m     \u001b[0mzero_value\u001b[0m \u001b[0;34m=\u001b[0m \u001b[0mroot_finder\u001b[0m\u001b[0;34m(\u001b[0m\u001b[0;34m**\u001b[0m\u001b[0margs\u001b[0m\u001b[0;34m)\u001b[0m\u001b[0;34m\u001b[0m\u001b[0m\n\u001b[0m\u001b[1;32m    196\u001b[0m \u001b[0;34m\u001b[0m\u001b[0m\n\u001b[1;32m    197\u001b[0m     \u001b[0;32mreturn\u001b[0m \u001b[0mzero_value\u001b[0m\u001b[0;34m,\u001b[0m \u001b[0mguesses\u001b[0m\u001b[0;34m,\u001b[0m \u001b[0mresults\u001b[0m\u001b[0;34m\u001b[0m\u001b[0m\n",
      "\u001b[0;32m~/anaconda3/lib/python3.6/site-packages/scipy/optimize/zeros.py\u001b[0m in \u001b[0;36mbisect\u001b[0;34m(f, a, b, args, xtol, rtol, maxiter, full_output, disp)\u001b[0m\n\u001b[1;32m    285\u001b[0m     \u001b[0;32mif\u001b[0m \u001b[0mrtol\u001b[0m \u001b[0;34m<\u001b[0m \u001b[0m_rtol\u001b[0m\u001b[0;34m:\u001b[0m\u001b[0;34m\u001b[0m\u001b[0m\n\u001b[1;32m    286\u001b[0m         \u001b[0;32mraise\u001b[0m \u001b[0mValueError\u001b[0m\u001b[0;34m(\u001b[0m\u001b[0;34m\"rtol too small (%g < %g)\"\u001b[0m \u001b[0;34m%\u001b[0m \u001b[0;34m(\u001b[0m\u001b[0mrtol\u001b[0m\u001b[0;34m,\u001b[0m \u001b[0m_rtol\u001b[0m\u001b[0;34m)\u001b[0m\u001b[0;34m)\u001b[0m\u001b[0;34m\u001b[0m\u001b[0m\n\u001b[0;32m--> 287\u001b[0;31m     \u001b[0mr\u001b[0m \u001b[0;34m=\u001b[0m \u001b[0m_zeros\u001b[0m\u001b[0;34m.\u001b[0m\u001b[0m_bisect\u001b[0m\u001b[0;34m(\u001b[0m\u001b[0mf\u001b[0m\u001b[0;34m,\u001b[0m\u001b[0ma\u001b[0m\u001b[0;34m,\u001b[0m\u001b[0mb\u001b[0m\u001b[0;34m,\u001b[0m\u001b[0mxtol\u001b[0m\u001b[0;34m,\u001b[0m\u001b[0mrtol\u001b[0m\u001b[0;34m,\u001b[0m\u001b[0mmaxiter\u001b[0m\u001b[0;34m,\u001b[0m\u001b[0margs\u001b[0m\u001b[0;34m,\u001b[0m\u001b[0mfull_output\u001b[0m\u001b[0;34m,\u001b[0m\u001b[0mdisp\u001b[0m\u001b[0;34m)\u001b[0m\u001b[0;34m\u001b[0m\u001b[0m\n\u001b[0m\u001b[1;32m    288\u001b[0m     \u001b[0;32mreturn\u001b[0m \u001b[0mresults_c\u001b[0m\u001b[0;34m(\u001b[0m\u001b[0mfull_output\u001b[0m\u001b[0;34m,\u001b[0m \u001b[0mr\u001b[0m\u001b[0;34m)\u001b[0m\u001b[0;34m\u001b[0m\u001b[0m\n\u001b[1;32m    289\u001b[0m \u001b[0;34m\u001b[0m\u001b[0m\n",
      "\u001b[0;32m~/anaconda3/lib/python3.6/site-packages/openmc/search.py\u001b[0m in \u001b[0;36m_search_keff\u001b[0;34m(guess, target, model_builder, model_args, print_iterations, print_output, guesses, results)\u001b[0m\n\u001b[1;32m     52\u001b[0m \u001b[0;34m\u001b[0m\u001b[0m\n\u001b[1;32m     53\u001b[0m     \u001b[0;31m# Run the model and obtain keff\u001b[0m\u001b[0;34m\u001b[0m\u001b[0;34m\u001b[0m\u001b[0m\n\u001b[0;32m---> 54\u001b[0;31m     \u001b[0mkeff\u001b[0m \u001b[0;34m=\u001b[0m \u001b[0mmodel\u001b[0m\u001b[0;34m.\u001b[0m\u001b[0mrun\u001b[0m\u001b[0;34m(\u001b[0m\u001b[0moutput\u001b[0m\u001b[0;34m=\u001b[0m\u001b[0mprint_output\u001b[0m\u001b[0;34m)\u001b[0m\u001b[0;34m\u001b[0m\u001b[0m\n\u001b[0m\u001b[1;32m     55\u001b[0m \u001b[0;34m\u001b[0m\u001b[0m\n\u001b[1;32m     56\u001b[0m     \u001b[0;31m# Record the history\u001b[0m\u001b[0;34m\u001b[0m\u001b[0;34m\u001b[0m\u001b[0m\n",
      "\u001b[0;32m~/anaconda3/lib/python3.6/site-packages/openmc/model/model.py\u001b[0m in \u001b[0;36mrun\u001b[0;34m(self, **kwargs)\u001b[0m\n\u001b[1;32m    179\u001b[0m         \u001b[0mreturn_code\u001b[0m \u001b[0;34m=\u001b[0m \u001b[0mopenmc\u001b[0m\u001b[0;34m.\u001b[0m\u001b[0mrun\u001b[0m\u001b[0;34m(\u001b[0m\u001b[0;34m**\u001b[0m\u001b[0mkwargs\u001b[0m\u001b[0;34m)\u001b[0m\u001b[0;34m\u001b[0m\u001b[0m\n\u001b[1;32m    180\u001b[0m \u001b[0;34m\u001b[0m\u001b[0m\n\u001b[0;32m--> 181\u001b[0;31m         \u001b[0;32massert\u001b[0m \u001b[0;34m(\u001b[0m\u001b[0mreturn_code\u001b[0m \u001b[0;34m==\u001b[0m \u001b[0;36m0\u001b[0m\u001b[0;34m)\u001b[0m\u001b[0;34m,\u001b[0m \u001b[0;34m\"OpenMC did not execute successfully\"\u001b[0m\u001b[0;34m\u001b[0m\u001b[0m\n\u001b[0m\u001b[1;32m    182\u001b[0m \u001b[0;34m\u001b[0m\u001b[0m\n\u001b[1;32m    183\u001b[0m         \u001b[0mn\u001b[0m \u001b[0;34m=\u001b[0m \u001b[0mself\u001b[0m\u001b[0;34m.\u001b[0m\u001b[0msettings\u001b[0m\u001b[0;34m.\u001b[0m\u001b[0mbatches\u001b[0m\u001b[0;34m\u001b[0m\u001b[0m\n",
      "\u001b[0;31mAssertionError\u001b[0m: OpenMC did not execute successfully"
     ]
    }
   ],
   "source": [
    "# Perform the search\n",
    "crit, guesses, keffs = openmc.search_for_keff(inf_model, bracket=[55, 65],\n",
    "                                                  model_args = {\n",
    "                                                      'height':60,\n",
    "                                                      'vac_gap':2,\n",
    "                                                      'mod_depth':5,\n",
    "                                                      'plate_height':5,\n",
    "                                                      'ref_depth':5,\n",
    "                                                      'enrich':.3},\n",
    "                                                  tol=1.E-2, bracketed_method='bisect',\n",
    "                                                  print_iterations=True)\n",
    "\n",
    "print('Critical fuel depth: {:4.0f}'.format(crit))"
   ]
  },
  {
   "cell_type": "code",
   "execution_count": 8,
   "metadata": {},
   "outputs": [],
   "source": [
    "def hall_mass(outer_rad, height, vac_gap, mod_depth, mod_rad, plate_height, ref_depth, rings, mod_dens):\n",
    "    \"\"\"\n",
    "    Determines the mass of a hall thruster concept\n",
    "    \n",
    "    Inputs:\n",
    "    outer_rad: outer bound of rings (all distances are in cm)\n",
    "    vac_gap: distance across vacuum between rings\n",
    "    mod_depth: distance across moderator ring\n",
    "    mod_rad: radius of moderating center core\n",
    "    plate_height: height of reflective plate above the rings\n",
    "    ref_depth: depth of outer layer of reflector/moderator\n",
    "    rings: number of rings in the system\n",
    "    mod_dens: density of moderator in g/cm3\n",
    "    \n",
    "    Outputs:\n",
    "    engine_mass: mass in kg of system\n",
    "    \"\"\"\n",
    "    \n",
    "    #calculate some engine dimensions\n",
    "    mod_radii = [] #inner radii of moderator rings\n",
    "    first_rad = mod_rad+vac_gap\n",
    "    mod_radii.append(first_rad)\n",
    "    for i in range(1, rings+1):\n",
    "        mod_radius = first_rad+i*(mod_depth+vac_gap)\n",
    "        mod_radii.append(mod_radius)\n",
    "    \n",
    "    #calculate the volumes of the various parts\n",
    "    centerV  = np.pi * mod_rad**2 * height\n",
    "    volumes = []\n",
    "    volumes.append(centerV)\n",
    "    for r in mod_radii:\n",
    "        ringV = ((r+mod_depth)**2 - r**2) * np.pi * height\n",
    "        volumes.append(ringV)\n",
    "        \n",
    "    #calculate the plate volume\n",
    "    plateV = np.pi*(plate_height+ref_depth)*(outer_rad+ref_depth)**2\n",
    "    volumes.append(plateV)\n",
    "    \n",
    "    #calculate the volume of the outer shell of moderator\n",
    "    shellV = ((outer_rad+ref_depth)**2 - mod_radii[-1]**2)*np.pi*height\n",
    "    volumes.append(shellV)\n",
    "    \n",
    "    #add it all up\n",
    "    mass = 0\n",
    "    for v in volumes:\n",
    "        mass += v*mod_dens\n",
    "    \n",
    "    return mass"
   ]
  },
  {
   "cell_type": "code",
   "execution_count": 14,
   "metadata": {},
   "outputs": [
    {
     "name": "stdout",
     "output_type": "stream",
     "text": [
      "Thruster mass is 2476.164 kgs\n"
     ]
    }
   ],
   "source": [
    "m = hall_mass(outer_rad, height, vac_gap, mod_depth, core_mod_rad, plate_height, ref_depth, rings, 2.86)\n",
    "print('Thruster mass is {:.3f} kgs'.format(m/1000))"
   ]
  },
  {
   "cell_type": "markdown",
   "metadata": {},
   "source": [
    "The cells below can be used to experiment with the hall thruster geometry without having to run the parameter search code."
   ]
  },
  {
   "cell_type": "code",
   "execution_count": 54,
   "metadata": {},
   "outputs": [
    {
     "name": "stdout",
     "output_type": "stream",
     "text": [
      "Material\n",
      "\tID             =\t1\n",
      "\tName           =\tAm242m\n",
      "\tTemperature    =\tNone\n",
      "\tDensity        =\t0.136 [g/cm3]\n",
      "\tS(a,b) Tables  \n",
      "\tNuclides       \n",
      "\tAm242_m1       =\t0.3          [ao]\n",
      "\tAm241          =\t0.7          [ao]\n",
      "\n",
      "Material\n",
      "\tID             =\t2\n",
      "\tName           =\tBe\n",
      "\tTemperature    =\tNone\n",
      "\tDensity        =\t2.86 [g/cm3]\n",
      "\tS(a,b) Tables  \n",
      "\tNuclides       \n",
      "\tBe9            =\t0.5          [ao]\n",
      "\tO16            =\t0.5          [ao]\n",
      "\n",
      "Material\n",
      "\tID             =\t3\n",
      "\tName           =\tBe2C\n",
      "\tTemperature    =\tNone\n",
      "\tDensity        =\t1.9 [g/cm3]\n",
      "\tS(a,b) Tables  \n",
      "\tNuclides       \n",
      "\tBe9            =\t0.66         [ao]\n",
      "\tC0             =\t0.34         [ao]\n",
      "\n",
      "Material\n",
      "\tID             =\t4\n",
      "\tName           =\tH2\n",
      "\tTemperature    =\tNone\n",
      "\tDensity        =\t1.8e-05 [g/cm3]\n",
      "\tS(a,b) Tables  \n",
      "\tNuclides       \n",
      "\tH2             =\t1.0          [ao]\n",
      "\n"
     ]
    },
    {
     "name": "stderr",
     "output_type": "stream",
     "text": [
      "/home/james/anaconda3/lib/python3.6/site-packages/openmc/mixin.py:61: IDWarning: Another Material instance already exists with id=1.\n",
      "  warn(msg, IDWarning)\n",
      "/home/james/anaconda3/lib/python3.6/site-packages/openmc/mixin.py:61: IDWarning: Another Material instance already exists with id=2.\n",
      "  warn(msg, IDWarning)\n",
      "/home/james/anaconda3/lib/python3.6/site-packages/openmc/mixin.py:61: IDWarning: Another Material instance already exists with id=3.\n",
      "  warn(msg, IDWarning)\n",
      "/home/james/anaconda3/lib/python3.6/site-packages/openmc/mixin.py:61: IDWarning: Another Material instance already exists with id=4.\n",
      "  warn(msg, IDWarning)\n"
     ]
    }
   ],
   "source": [
    "#create materials\n",
    "\n",
    "#30% enriched Am\n",
    "fuel = openmc.Material(1, \"Am242m\")\n",
    "fuel.add_nuclide('Am242_m1', .3)\n",
    "fuel.add_nuclide('Am241', .7)\n",
    "fuel.set_density('g/cm3', .136) #low density to simulate dispersed particles\n",
    "print(fuel)\n",
    "\n",
    "#moderator\n",
    "BeO = openmc.Material(2, \"Be\")\n",
    "BeO.add_nuclide(\"Be9\", .5)\n",
    "BeO.add_nuclide('O16', .5)\n",
    "BeO.set_density(\"g/cm3\", 2.86)\n",
    "print(BeO)\n",
    "\n",
    "#moderator: Beryllium carbide\n",
    "Be2C = openmc.Material(3, \"Be2C\")\n",
    "Be2C.add_nuclide('Be9', .66)\n",
    "Be2C.add_nuclide('C0', .34)\n",
    "Be2C.set_density('g/cm3', 1.9)\n",
    "print(Be2C)\n",
    "\n",
    "#D2 gas\n",
    "vac = openmc.Material(4, \"H2\")\n",
    "vac.add_nuclide('H2',1.0)\n",
    "vac.set_density('g/cm3',1.8e-5)\n",
    "print(vac)"
   ]
  },
  {
   "cell_type": "code",
   "execution_count": 23,
   "metadata": {},
   "outputs": [],
   "source": [
    "outer_rad = 60 #cm fuel outer radius\n",
    "fuel_depth = .1 #cm thickness of aerogel/fuel material\n",
    "vac_gap = 2 #cm distance between rings of moderator\n",
    "mod_depth = 5 #thickness of moderator rings\n",
    "height = 60\n",
    "plate_height = 5\n",
    "core_mod_rad = mod_depth/2\n",
    "ref_depth = 5 #optional reflector layer"
   ]
  },
  {
   "cell_type": "code",
   "execution_count": 46,
   "metadata": {},
   "outputs": [
    {
     "name": "stdout",
     "output_type": "stream",
     "text": [
      "7\n"
     ]
    }
   ],
   "source": [
    "#define the layers\n",
    "rad = core_mod_rad\n",
    "rings = 0\n",
    "\n",
    "#determines how many moderator/fuel/vacuum rings to include\n",
    "while rad+vac_gap+mod_depth+2*fuel_depth < outer_rad:\n",
    "    rings=rings + 1\n",
    "    rad = rad + vac_gap + mod_depth + 2*fuel_depth\n",
    "    \n",
    "print(rings)\n",
    "\n",
    "#will be populated with cells\n",
    "vac_cells = []\n",
    "mod_cells = []\n",
    "fuel_cells = []\n",
    "\n",
    "#defining useful surfaces\n",
    "floor = openmc.ZPlane(z0=0, boundary_type='vacuum')\n",
    "mid = openmc.ZPlane(z0=height, boundary_type='transmission')\n",
    "top = openmc.ZPlane(z0=height+plate_height, boundary_type='transmission')\n",
    "core_bound = openmc.ZCylinder(R=core_mod_rad, boundary_type='transmission')\n",
    "outer_bound = openmc.ZCylinder(R=outer_rad, boundary_type='transmission')\n",
    "\n",
    "#fill the center section with moderator\n",
    "core = -core_bound & +floor & -mid\n",
    "core_cell = openmc.Cell(fill = BeO, region = core)\n",
    "mod_cells.append(core_cell)\n",
    "\n",
    "#fill the top plate with moderator\n",
    "plate = -outer_bound & +mid & -top\n",
    "plate_cell = openmc.Cell(fill=BeO, region=plate)\n",
    "mod_cells.append(plate_cell)\n",
    "\n",
    "#geometric paramters\n",
    "add = vac_gap+mod_depth+2*fuel_depth\n",
    "layer_rad = core_mod_rad\n",
    "\n",
    "#loop to create the cells that make up the fuel/moderator/vacuum rings\n",
    "for i in range(0,rings):\n",
    "    \n",
    "    #define useful surfaces\n",
    "    inner = openmc.ZCylinder(R=layer_rad+add*i, boundary_type='transmission')\n",
    "    fuel_inner = openmc.ZCylinder(R=layer_rad+add*i+fuel_depth, boundary_type='transmission')\n",
    "    fuel_outer = openmc.ZCylinder(R=layer_rad+add*i+vac_gap+fuel_depth, boundary_type='transmission')\n",
    "    mod_inner = openmc.ZCylinder(R=layer_rad+add*i+vac_gap+2*fuel_depth, boundary_type='transmission')\n",
    "    if i==rings-1:\n",
    "        mod_outer = openmc.ZCylinder(R=outer_rad, boundary_type='transmission')\n",
    "    else:\n",
    "        mod_outer = openmc.ZCylinder(R=layer_rad+add*i+vac_gap+2*fuel_depth+mod_depth, boundary_type='transmission')\n",
    "    \n",
    "    #define the regions\n",
    "    fuel_zone1 = +inner & -fuel_inner & +floor & -mid\n",
    "    vac_zone = +fuel_inner & -fuel_outer & +floor & -mid\n",
    "    fuel_zone2 = +fuel_outer & -mod_inner & +floor & -mid\n",
    "    mod_zone = +mod_inner & -mod_outer & +floor & -mid\n",
    "    \n",
    "    #fill cells with material\n",
    "    vac_cell = openmc.Cell(fill=vac, region=vac_zone)\n",
    "    mod_cell = openmc.Cell(fill=BeO, region=mod_zone)\n",
    "    fuel_cell1 = openmc.Cell(fill=fuel, region=fuel_zone1)\n",
    "    fuel_cell2 = openmc.Cell(fill=fuel, region=fuel_zone2)\n",
    "    \n",
    "    #store the cells in variables outside the for loop\n",
    "    vac_cells.append(vac_cell)\n",
    "    mod_cells.append(mod_cell)\n",
    "    fuel_cells.append(fuel_cell1)\n",
    "    fuel_cells.append(fuel_cell2)\n",
    "\n",
    "#add reflector/moderator around it all\n",
    "outest_bound = openmc.ZCylinder(R=outer_rad+ref_depth, boundary_type='vacuum')\n",
    "topest = openmc.ZPlane(z0 = height+plate_height+ref_depth, boundary_type='vacuum')\n",
    "ref_zone = +top & -topest & -outest_bound\n",
    "ref_cell = openmc.Cell(fill=BeO, region=ref_zone)\n",
    "ref2_zone = +floor & -top & +outer_bound & -outest_bound\n",
    "ref2_cell = openmc.Cell(fill=BeO, region=ref2_zone)\n",
    "\n",
    "#create the universe\n",
    "hall_cells = vac_cells + mod_cells + fuel_cells + [ref_cell, ref2_cell]\n",
    "uni = openmc.Universe(cells=hall_cells)"
   ]
  },
  {
   "cell_type": "code",
   "execution_count": 47,
   "metadata": {
    "scrolled": true
   },
   "outputs": [
    {
     "data": {
      "image/png": "[encoded data removed]",
      "text/plain": [
       "<Figure size 432x288 with 1 Axes>"
      ]
     },
     "metadata": {
      "needs_background": "light"
     },
     "output_type": "display_data"
    }
   ],
   "source": [
    "#visualize the geometry\n",
    "uni.plot(width=(2*(outer_rad+ref_depth)+5, height+plate_height+ref_depth+5), origin = (0,0,(height+plate_height+ref_depth)/2), basis='xz', color_by='material')"
   ]
  },
  {
   "cell_type": "code",
   "execution_count": 48,
   "metadata": {},
   "outputs": [
    {
     "data": {
      "image/png": "[encoded data removed]",
      "text/plain": [
       "<Figure size 432x288 with 1 Axes>"
      ]
     },
     "metadata": {
      "needs_background": "light"
     },
     "output_type": "display_data"
    }
   ],
   "source": [
    "uni.plot(width=(2*(outer_rad+ref_depth)+5, 2*(outer_rad+ref_depth)+5), origin = (0,0,height/2), basis='xy', color_by='material')"
   ]
  },
  {
   "cell_type": "code",
   "execution_count": 49,
   "metadata": {},
   "outputs": [],
   "source": [
    "#create root universe\n",
    "geom = openmc.Geometry()\n",
    "geom.root_universe = uni\n",
    "\n",
    "#configure statistics geometry\n",
    "#source = openmc.stats.Box((-20, -20, 0), (20, 20, fuel_depth))\n",
    "source = openmc.stats.Point((core_mod_rad+vac_gap/2,0,height/2))\n",
    "src = openmc.Source(space=source)\n",
    "\n",
    "#export geometry\n",
    "geom.export_to_xml()"
   ]
  },
  {
   "cell_type": "code",
   "execution_count": 50,
   "metadata": {},
   "outputs": [],
   "source": [
    "#create materials & cross sections xmls\n",
    "mats = openmc.Materials()\n",
    "mats.cross_sections = '/home/james/nndc_hdf5/cross_sections.xml' #comment this out/replace if you need to\n",
    "mats.append(fuel)\n",
    "mats += [BeO]\n",
    "mats += [vac]\n",
    "mats += [Be2C]\n",
    "\n",
    "#export materials\n",
    "mats.export_to_xml()"
   ]
  },
  {
   "cell_type": "code",
   "execution_count": 51,
   "metadata": {},
   "outputs": [],
   "source": [
    "settings = openmc.Settings()\n",
    "settings.particles = 1000\n",
    "settings.batches = 20\n",
    "settings.inactive = 10\n",
    "settings.source = src\n",
    "settings.export_to_xml()"
   ]
  },
  {
   "cell_type": "code",
   "execution_count": 52,
   "metadata": {},
   "outputs": [
    {
     "name": "stderr",
     "output_type": "stream",
     "text": [
      "/home/james/anaconda3/lib/python3.6/site-packages/openmc/mixin.py:61: IDWarning: Another Tally instance already exists with id=4.\n",
      "  warn(msg, IDWarning)\n"
     ]
    }
   ],
   "source": [
    "#configure tallies\n",
    "cell_filter = openmc.CellFilter(fuel_cells)\n",
    "t = openmc.Tally(4)\n",
    "t.filters = [cell_filter]\n",
    "t.scores = ['fission']\n",
    "tallies = openmc.Tallies([t])\n",
    "\n",
    "#export tallies\n",
    "tallies.export_to_xml()"
   ]
  },
  {
   "cell_type": "code",
   "execution_count": 53,
   "metadata": {
    "scrolled": false
   },
   "outputs": [
    {
     "name": "stdout",
     "output_type": "stream",
     "text": [
      "openmc: Relink `/home/james/anaconda3/bin/../lib/./libgfortran.so.4' with `/lib/x86_64-linux-gnu/librt.so.1' for IFUNC symbol `clock_gettime'\n",
      "\n",
      "                               %%%%%%%%%%%%%%%\n",
      "                          %%%%%%%%%%%%%%%%%%%%%%%%\n",
      "                       %%%%%%%%%%%%%%%%%%%%%%%%%%%%%%\n",
      "                     %%%%%%%%%%%%%%%%%%%%%%%%%%%%%%%%%%\n",
      "                   %%%%%%%%%%%%%%%%%%%%%%%%%%%%%%%%%%%%%%\n",
      "                  %%%%%%%%%%%%%%%%%%%%%%%%%%%%%%%%%%%%%%%%\n",
      "                                   %%%%%%%%%%%%%%%%%%%%%%%%\n",
      "                                    %%%%%%%%%%%%%%%%%%%%%%%%\n",
      "                ###############      %%%%%%%%%%%%%%%%%%%%%%%%\n",
      "               ##################     %%%%%%%%%%%%%%%%%%%%%%%\n",
      "               ###################     %%%%%%%%%%%%%%%%%%%%%%%\n",
      "               ####################     %%%%%%%%%%%%%%%%%%%%%%\n",
      "               #####################     %%%%%%%%%%%%%%%%%%%%%\n",
      "               ######################     %%%%%%%%%%%%%%%%%%%%\n",
      "               #######################     %%%%%%%%%%%%%%%%%%\n",
      "                #######################     %%%%%%%%%%%%%%%%%\n",
      "                ######################     %%%%%%%%%%%%%%%%%\n",
      "                 ####################     %%%%%%%%%%%%%%%%%\n",
      "                   #################     %%%%%%%%%%%%%%%%%\n",
      "                    ###############     %%%%%%%%%%%%%%%%\n",
      "                      ############     %%%%%%%%%%%%%%%\n",
      "                         ########     %%%%%%%%%%%%%%\n",
      "                                     %%%%%%%%%%%\n",
      "\n",
      "                   | The OpenMC Monte Carlo Code\n",
      "         Copyright | 2011-2018 Massachusetts Institute of Technology\n",
      "           License | http://openmc.readthedocs.io/en/latest/license.html\n",
      "           Version | 0.10.0\n",
      "          Git SHA1 | 878abce958547f97279209d47c2c4a42fd310155\n",
      "         Date/Time | 2019-02-17 18:00:09\n",
      "    OpenMP Threads | 4\n",
      "\n",
      " Reading settings XML file...\n",
      " Reading cross sections XML file...\n",
      " Reading materials XML file...\n",
      " Reading geometry XML file...\n",
      " Building neighboring cells lists for each surface...\n",
      " Reading Am242_m1 from /home/james/nndc_hdf5/Am242_m1.h5\n",
      " Reading Am241 from /home/james/nndc_hdf5/Am241.h5\n",
      " Reading Be9 from /home/james/nndc_hdf5/Be9.h5\n",
      " Reading O16 from /home/james/nndc_hdf5/O16.h5\n",
      " Reading C0 from /home/james/nndc_hdf5/C0.h5\n",
      " Reading H2 from /home/james/nndc_hdf5/H2.h5\n",
      " Maximum neutron transport energy: 2.00000E+07 eV for Am242_m1\n",
      " Reading tallies XML file...\n",
      " Writing summary.h5 file...\n",
      " Initializing source particles...\n",
      "\n",
      " ====================>     K EIGENVALUE SIMULATION     <====================\n",
      "\n",
      "  Bat./Gen.      k            Average k         \n",
      "  =========   ========   ====================   \n",
      "        1/1    1.56750                       \n",
      "        2/1    1.17506                       \n",
      "        3/1    1.01516                       \n",
      "        4/1    1.01663                       \n",
      "        5/1    1.05866                       \n",
      "        6/1    1.05877                       \n",
      "        7/1    1.14323                       \n",
      "        8/1    1.04103                       \n",
      "        9/1    1.19101                       \n",
      "       10/1    1.10126                       \n",
      "       11/1    1.10282                       \n",
      "       12/1    1.00671    1.05476 +/- 0.04805\n",
      "       13/1    1.08300    1.06418 +/- 0.02930\n",
      "       14/1    1.07444    1.06674 +/- 0.02087\n",
      "       15/1    1.07164    1.06772 +/- 0.01620\n",
      "       16/1    1.08078    1.06990 +/- 0.01340\n",
      "       17/1    1.06182    1.06874 +/- 0.01139\n",
      "       18/1    1.04902    1.06628 +/- 0.01017\n",
      "       19/1    0.98890    1.05768 +/- 0.01242\n",
      "       20/1    0.99460    1.05137 +/- 0.01278\n",
      " Creating state point statepoint.20.h5...\n",
      "\n",
      " =======================>     TIMING STATISTICS     <=======================\n",
      "\n",
      " Total time for initialization     =  2.1979E-01 seconds\n",
      "   Reading cross sections          =  1.4455E-01 seconds\n",
      " Total time in simulation          =  1.0964E+00 seconds\n",
      "   Time in transport only          =  1.0363E+00 seconds\n",
      "   Time in inactive batches        =  5.1433E-01 seconds\n",
      "   Time in active batches          =  5.8211E-01 seconds\n",
      "   Time synchronizing fission bank =  5.8801E-04 seconds\n",
      "     Sampling source sites         =  4.6194E-04 seconds\n",
      "     SEND/RECV source sites        =  1.0619E-04 seconds\n",
      "   Time accumulating tallies       =  1.7585E-05 seconds\n",
      " Total time for finalization       =  3.0234E-04 seconds\n",
      " Total time elapsed                =  1.3356E+00 seconds\n",
      " Calculation Rate (inactive)       =  19442.9 neutrons/second\n",
      " Calculation Rate (active)         =  17179.0 neutrons/second\n",
      "\n",
      " ============================>     RESULTS     <============================\n",
      "\n",
      " k-effective (Collision)     =  1.04329 +/-  0.01238\n",
      " k-effective (Track-length)  =  1.05137 +/-  0.01278\n",
      " k-effective (Absorption)    =  1.04473 +/-  0.01455\n",
      " Combined k-effective        =  1.04742 +/-  0.01225\n",
      " Leakage Fraction            =  0.50060 +/-  0.00581\n",
      "\n"
     ]
    },
    {
     "data": {
      "text/plain": [
       "0"
      ]
     },
     "execution_count": 53,
     "metadata": {},
     "output_type": "execute_result"
    }
   ],
   "source": [
    "openmc.run()"
   ]
  },
  {
   "cell_type": "code",
   "execution_count": null,
   "metadata": {},
   "outputs": [],
   "source": []
  },
  {
   "cell_type": "code",
   "execution_count": null,
   "metadata": {},
   "outputs": [],
   "source": []
  }
 ],
 "metadata": {
  "kernelspec": {
   "display_name": "Python 3",
   "language": "python",
   "name": "python3"
  },
  "language_info": {
   "codemirror_mode": {
    "name": "ipython",
    "version": 3
   },
   "file_extension": ".py",
   "mimetype": "text/x-python",
   "name": "python",
   "nbconvert_exporter": "python",
   "pygments_lexer": "ipython3",
   "version": "3.6.6"
  }
 },
 "nbformat": 4,
 "nbformat_minor": 2
}
