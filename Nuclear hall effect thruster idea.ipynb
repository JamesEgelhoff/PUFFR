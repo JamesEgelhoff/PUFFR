{
 "cells": [
  {
   "cell_type": "code",
   "execution_count": 1,
   "metadata": {},
   "outputs": [],
   "source": [
    "%matplotlib inline\n",
    "import numpy as np\n",
    "import openmc"
   ]
  },
  {
   "cell_type": "code",
   "execution_count": 114,
   "metadata": {},
   "outputs": [
    {
     "name": "stdout",
     "output_type": "stream",
     "text": [
      "Material\n",
      "\tID             =\t1\n",
      "\tName           =\tAm242m\n",
      "\tTemperature    =\tNone\n",
      "\tDensity        =\t0.136 [g/cm3]\n",
      "\tS(a,b) Tables  \n",
      "\tNuclides       \n",
      "\tAm242_m1       =\t0.3          [ao]\n",
      "\tAm241          =\t0.7          [ao]\n",
      "\n",
      "Material\n",
      "\tID             =\t2\n",
      "\tName           =\tBe\n",
      "\tTemperature    =\tNone\n",
      "\tDensity        =\t2.86 [g/cm3]\n",
      "\tS(a,b) Tables  \n",
      "\tNuclides       \n",
      "\tBe9            =\t0.5          [ao]\n",
      "\tO16            =\t0.5          [ao]\n",
      "\n",
      "Material\n",
      "\tID             =\t3\n",
      "\tName           =\tPb\n",
      "\tTemperature    =\tNone\n",
      "\tDensity        =\t11.34 [g/cm3]\n",
      "\tS(a,b) Tables  \n",
      "\tNuclides       \n",
      "\tPb206          =\t0.25         [ao]\n",
      "\tPb207          =\t0.25         [ao]\n",
      "\tPb208          =\t0.5          [ao]\n",
      "\n",
      "Material\n",
      "\tID             =\t4\n",
      "\tName           =\tH1\n",
      "\tTemperature    =\tNone\n",
      "\tDensity        =\t1.8e-05 [g/cm3]\n",
      "\tS(a,b) Tables  \n",
      "\tNuclides       \n",
      "\tH2             =\t1.0          [ao]\n",
      "\n"
     ]
    },
    {
     "name": "stderr",
     "output_type": "stream",
     "text": [
      "/home/james/anaconda3/lib/python3.6/site-packages/openmc/mixin.py:61: IDWarning: Another Material instance already exists with id=1.\n",
      "  warn(msg, IDWarning)\n",
      "/home/james/anaconda3/lib/python3.6/site-packages/openmc/mixin.py:61: IDWarning: Another Material instance already exists with id=2.\n",
      "  warn(msg, IDWarning)\n",
      "/home/james/anaconda3/lib/python3.6/site-packages/openmc/mixin.py:61: IDWarning: Another Material instance already exists with id=3.\n",
      "  warn(msg, IDWarning)\n",
      "/home/james/anaconda3/lib/python3.6/site-packages/openmc/mixin.py:61: IDWarning: Another Material instance already exists with id=4.\n",
      "  warn(msg, IDWarning)\n"
     ]
    }
   ],
   "source": [
    "#create materials\n",
    "\n",
    "#30% enriched Am\n",
    "fuel = openmc.Material(1, \"Am242m\")\n",
    "fuel.add_nuclide('Am242_m1', .3)\n",
    "fuel.add_nuclide('Am241', .7)\n",
    "fuel.set_density('g/cm3', .136) #low density to simulate dispersed particles\n",
    "print(fuel)\n",
    "\n",
    "#moderator\n",
    "BeO = openmc.Material(2, \"Be\")\n",
    "BeO.add_nuclide(\"Be9\", .5)\n",
    "BeO.add_nuclide('O16', .5)\n",
    "BeO.set_density(\"g/cm3\", 2.86)\n",
    "print(BeO)\n",
    "\n",
    "#reflector - ended up being better not using this\n",
    "Pb = openmc.Material(3, 'Pb')\n",
    "Pb.add_nuclide('Pb206', .25)\n",
    "Pb.add_nuclide('Pb207', .25)\n",
    "Pb.add_nuclide('Pb208', .5)\n",
    "Pb.set_density('g/cm3', 11.34)\n",
    "print(Pb)\n",
    "\n",
    "#\"D2 gas\"\n",
    "vac = openmc.Material(4, \"H1\")\n",
    "vac.add_nuclide('H2',1.0)\n",
    "vac.set_density('g/cm3',1.8e-5)\n",
    "print(vac)"
   ]
  },
  {
   "cell_type": "code",
   "execution_count": 169,
   "metadata": {},
   "outputs": [],
   "source": [
    "outer_rad = 60 #cm fuel outer radius\n",
    "fuel_depth = .1 #cm thickness of aerogel/fuel material\n",
    "vac_gap = 2 #cm distance between rings of moderator\n",
    "mod_depth = 5 #thickness of moderator rings\n",
    "height = 60\n",
    "plate_height = 5\n",
    "core_mod_rad = mod_depth/2\n",
    "ref_depth = 5 #optional reflector layer"
   ]
  },
  {
   "cell_type": "code",
   "execution_count": 170,
   "metadata": {},
   "outputs": [],
   "source": [
    "#define the layers\n",
    "rad = core_mod_rad\n",
    "rings = 0\n",
    "\n",
    "#determines how many moderator/fuel/vacuum rings to include\n",
    "while rad+vac_gap+mod_depth+2*fuel_depth < outer_rad:\n",
    "    rings=rings + 1\n",
    "    rad = rad + vac_gap + mod_depth + 2*fuel_depth\n",
    "\n",
    "#will be populated with cells\n",
    "vac_cells = []\n",
    "mod_cells = []\n",
    "fuel_cells = []\n",
    "\n",
    "#defining useful surfaces\n",
    "floor = openmc.ZPlane(z0=0, boundary_type='vacuum')\n",
    "mid = openmc.ZPlane(z0=height, boundary_type='transmission')\n",
    "top = openmc.ZPlane(z0=height+plate_height, boundary_type='transmission')\n",
    "core_bound = openmc.ZCylinder(R=core_mod_rad, boundary_type='transmission')\n",
    "outer_bound = openmc.ZCylinder(R=outer_rad, boundary_type='transmission')\n",
    "\n",
    "#fill the center section with moderator\n",
    "core = -core_bound & +floor & -mid\n",
    "core_cell = openmc.Cell(fill = BeO, region = core)\n",
    "mod_cells.append(core_cell)\n",
    "\n",
    "#fill the top plate with moderator\n",
    "plate = -outer_bound & +mid & -top\n",
    "plate_cell = openmc.Cell(fill=BeO, region=plate)\n",
    "mod_cells.append(plate_cell)\n",
    "\n",
    "#geometric paramters\n",
    "add = vac_gap+mod_depth+2*fuel_depth\n",
    "layer_rad = core_mod_rad\n",
    "\n",
    "#loop to create the cells that make up the fuel/moderator/vacuum rings\n",
    "for i in range(0,rings):\n",
    "    \n",
    "    #define useful surfaces\n",
    "    inner = openmc.ZCylinder(R=layer_rad+add*i, boundary_type='transmission')\n",
    "    fuel_inner = openmc.ZCylinder(R=layer_rad+add*i+fuel_depth, boundary_type='transmission')\n",
    "    fuel_outer = openmc.ZCylinder(R=layer_rad+add*i+vac_gap+fuel_depth, boundary_type='transmission')\n",
    "    mod_inner = openmc.ZCylinder(R=layer_rad+add*i+vac_gap+2*fuel_depth, boundary_type='transmission')\n",
    "    if i==rings-1:\n",
    "        mod_outer = openmc.ZCylinder(R=outer_rad, boundary_type='transmission')\n",
    "    else:\n",
    "        mod_outer = openmc.ZCylinder(R=layer_rad+add*i+vac_gap+2*fuel_depth+mod_depth, boundary_type='transmission')\n",
    "    \n",
    "    #define the regions\n",
    "    fuel_zone1 = +inner & -fuel_inner & +floor & -mid\n",
    "    vac_zone = +fuel_inner & -fuel_outer & +floor & -mid\n",
    "    fuel_zone2 = +fuel_outer & -mod_inner & +floor & -mid\n",
    "    mod_zone = +mod_inner & -mod_outer & +floor & -mid\n",
    "    \n",
    "    #fill cells with material\n",
    "    vac_cell = openmc.Cell(fill=vac, region=vac_zone)\n",
    "    mod_cell = openmc.Cell(fill=BeO, region=mod_zone)\n",
    "    fuel_cell1 = openmc.Cell(fill=fuel, region=fuel_zone1)\n",
    "    fuel_cell2 = openmc.Cell(fill=fuel, region=fuel_zone2)\n",
    "    \n",
    "    #store the cells in variables outside the for loop\n",
    "    vac_cells.append(vac_cell)\n",
    "    mod_cells.append(mod_cell)\n",
    "    fuel_cells.append(fuel_cell1)\n",
    "    fuel_cells.append(fuel_cell2)\n",
    "\n",
    "#add reflector/moderator around it all\n",
    "outest_bound = openmc.ZCylinder(R=outer_rad+ref_depth, boundary_type='vacuum')\n",
    "topest = openmc.ZPlane(z0 = height+plate_height+ref_depth, boundary_type='vacuum')\n",
    "ref_zone = +top & -topest & -outest_bound\n",
    "ref_cell = openmc.Cell(fill=BeO, region=ref_zone)\n",
    "ref2_zone = +floor & -top & +outer_bound & -outest_bound\n",
    "ref2_cell = openmc.Cell(fill=BeO, region=ref2_zone)\n",
    "\n",
    "#create the universe\n",
    "hall_cells = vac_cells + mod_cells + fuel_cells + [ref_cell, ref2_cell]\n",
    "uni = openmc.Universe(cells=hall_cells)"
   ]
  },
  {
   "cell_type": "code",
   "execution_count": 171,
   "metadata": {
    "scrolled": true
   },
   "outputs": [
    {
     "data": {
      "image/png": "[encoded data removed]",
      "text/plain": [
       "<Figure size 432x288 with 1 Axes>"
      ]
     },
     "metadata": {
      "needs_background": "light"
     },
     "output_type": "display_data"
    }
   ],
   "source": [
    "#visualize the geometry\n",
    "uni.plot(width=(2*(outer_rad+ref_depth)+5, height+plate_height+ref_depth+5), origin = (0,0,(height+plate_height+ref_depth)/2), basis='xz', color_by='material')"
   ]
  },
  {
   "cell_type": "code",
   "execution_count": 172,
   "metadata": {},
   "outputs": [
    {
     "data": {
      "image/png": "[encoded data removed]",
      "text/plain": [
       "<Figure size 432x288 with 1 Axes>"
      ]
     },
     "metadata": {
      "needs_background": "light"
     },
     "output_type": "display_data"
    }
   ],
   "source": [
    "uni.plot(width=(2*(outer_rad+ref_depth)+5, 2*(outer_rad+ref_depth)+5), origin = (0,0,height/2), basis='xy', color_by='material')"
   ]
  },
  {
   "cell_type": "code",
   "execution_count": 173,
   "metadata": {},
   "outputs": [],
   "source": [
    "#create root universe\n",
    "geom = openmc.Geometry()\n",
    "geom.root_universe = uni\n",
    "\n",
    "#configure statistics geometry\n",
    "#source = openmc.stats.Box((-20, -20, 0), (20, 20, fuel_depth))\n",
    "source = openmc.stats.Point((core_mod_rad+vac_gap/2,0,height/2))\n",
    "src = openmc.Source(space=source)\n",
    "\n",
    "#export geometry\n",
    "geom.export_to_xml()"
   ]
  },
  {
   "cell_type": "code",
   "execution_count": 174,
   "metadata": {},
   "outputs": [],
   "source": [
    "#create materials & cross sections xmls\n",
    "mats = openmc.Materials()\n",
    "mats.cross_sections = '/home/james/nndc_hdf5/cross_sections.xml' #comment this out/replace if you need to\n",
    "mats.append(fuel)\n",
    "mats += [BeO]\n",
    "mats += [vac]\n",
    "mats += [Pb]\n",
    "\n",
    "#export materials\n",
    "mats.export_to_xml()"
   ]
  },
  {
   "cell_type": "code",
   "execution_count": 175,
   "metadata": {},
   "outputs": [],
   "source": [
    "settings = openmc.Settings()\n",
    "settings.particles = 1000\n",
    "settings.batches = 20\n",
    "settings.inactive = 10\n",
    "settings.source = src\n",
    "settings.export_to_xml()"
   ]
  },
  {
   "cell_type": "code",
   "execution_count": 176,
   "metadata": {},
   "outputs": [
    {
     "name": "stderr",
     "output_type": "stream",
     "text": [
      "/home/james/anaconda3/lib/python3.6/site-packages/openmc/mixin.py:61: IDWarning: Another Tally instance already exists with id=4.\n",
      "  warn(msg, IDWarning)\n"
     ]
    }
   ],
   "source": [
    "#configure tallies\n",
    "cell_filter = openmc.CellFilter(fuel_cells)\n",
    "t = openmc.Tally(4)\n",
    "t.filters = [cell_filter]\n",
    "t.scores = ['fission']\n",
    "tallies = openmc.Tallies([t])\n",
    "\n",
    "#export tallies\n",
    "tallies.export_to_xml()"
   ]
  },
  {
   "cell_type": "code",
   "execution_count": 177,
   "metadata": {
    "scrolled": false
   },
   "outputs": [
    {
     "name": "stdout",
     "output_type": "stream",
     "text": [
      "openmc: Relink `/home/james/anaconda3/bin/../lib/./libgfortran.so.4' with `/lib/x86_64-linux-gnu/librt.so.1' for IFUNC symbol `clock_gettime'\n",
      "\n",
      "                               %%%%%%%%%%%%%%%\n",
      "                          %%%%%%%%%%%%%%%%%%%%%%%%\n",
      "                       %%%%%%%%%%%%%%%%%%%%%%%%%%%%%%\n",
      "                     %%%%%%%%%%%%%%%%%%%%%%%%%%%%%%%%%%\n",
      "                   %%%%%%%%%%%%%%%%%%%%%%%%%%%%%%%%%%%%%%\n",
      "                  %%%%%%%%%%%%%%%%%%%%%%%%%%%%%%%%%%%%%%%%\n",
      "                                   %%%%%%%%%%%%%%%%%%%%%%%%\n",
      "                                    %%%%%%%%%%%%%%%%%%%%%%%%\n",
      "                ###############      %%%%%%%%%%%%%%%%%%%%%%%%\n",
      "               ##################     %%%%%%%%%%%%%%%%%%%%%%%\n",
      "               ###################     %%%%%%%%%%%%%%%%%%%%%%%\n",
      "               ####################     %%%%%%%%%%%%%%%%%%%%%%\n",
      "               #####################     %%%%%%%%%%%%%%%%%%%%%\n",
      "               ######################     %%%%%%%%%%%%%%%%%%%%\n",
      "               #######################     %%%%%%%%%%%%%%%%%%\n",
      "                #######################     %%%%%%%%%%%%%%%%%\n",
      "                ######################     %%%%%%%%%%%%%%%%%\n",
      "                 ####################     %%%%%%%%%%%%%%%%%\n",
      "                   #################     %%%%%%%%%%%%%%%%%\n",
      "                    ###############     %%%%%%%%%%%%%%%%\n",
      "                      ############     %%%%%%%%%%%%%%%\n",
      "                         ########     %%%%%%%%%%%%%%\n",
      "                                     %%%%%%%%%%%\n",
      "\n",
      "                   | The OpenMC Monte Carlo Code\n",
      "         Copyright | 2011-2018 Massachusetts Institute of Technology\n",
      "           License | http://openmc.readthedocs.io/en/latest/license.html\n",
      "           Version | 0.10.0\n",
      "          Git SHA1 | 878abce958547f97279209d47c2c4a42fd310155\n",
      "         Date/Time | 2019-02-10 17:23:11\n",
      "    OpenMP Threads | 4\n",
      "\n",
      " Reading settings XML file...\n",
      " Reading cross sections XML file...\n",
      " Reading materials XML file...\n",
      " Reading geometry XML file...\n",
      " Building neighboring cells lists for each surface...\n",
      " Reading Am242_m1 from /home/james/nndc_hdf5/Am242_m1.h5\n",
      " Reading Am241 from /home/james/nndc_hdf5/Am241.h5\n",
      " Reading Be9 from /home/james/nndc_hdf5/Be9.h5\n",
      " Reading O16 from /home/james/nndc_hdf5/O16.h5\n",
      " Reading Pb206 from /home/james/nndc_hdf5/Pb206.h5\n",
      " Reading Pb207 from /home/james/nndc_hdf5/Pb207.h5\n",
      " Reading Pb208 from /home/james/nndc_hdf5/Pb208.h5\n",
      " Reading H2 from /home/james/nndc_hdf5/H2.h5\n",
      " Maximum neutron transport energy: 2.00000E+07 eV for Am242_m1\n",
      " Reading tallies XML file...\n",
      " Writing summary.h5 file...\n",
      " Initializing source particles...\n",
      "\n",
      " ====================>     K EIGENVALUE SIMULATION     <====================\n",
      "\n",
      "  Bat./Gen.      k            Average k         \n",
      "  =========   ========   ====================   \n",
      "        1/1    1.56706                       \n",
      "        2/1    1.25514                       \n",
      "        3/1    1.07791                       \n",
      "        4/1    1.02163                       \n",
      "        5/1    1.12757                       \n",
      "        6/1    1.14523                       \n",
      "        7/1    0.99387                       \n",
      "        8/1    1.03599                       \n",
      "        9/1    0.98171                       \n",
      "       10/1    1.18734                       \n",
      "       11/1    1.01699                       \n",
      "       12/1    1.13138    1.07418 +/- 0.05720\n",
      "       13/1    1.03158    1.05998 +/- 0.03595\n",
      "       14/1    0.96453    1.03612 +/- 0.03486\n",
      "       15/1    1.04280    1.03745 +/- 0.02704\n",
      "       16/1    1.05694    1.04070 +/- 0.02232\n",
      "       17/1    1.09575    1.04857 +/- 0.02043\n",
      "       18/1    1.08577    1.05322 +/- 0.01830\n",
      "       19/1    0.96549    1.04347 +/- 0.01885\n",
      "       20/1    1.04293    1.04342 +/- 0.01686\n",
      " Creating state point statepoint.20.h5...\n",
      "\n",
      " =======================>     TIMING STATISTICS     <=======================\n",
      "\n",
      " Total time for initialization     =  4.1626E-01 seconds\n",
      "   Reading cross sections          =  3.6730E-01 seconds\n",
      " Total time in simulation          =  1.1391E+00 seconds\n",
      "   Time in transport only          =  1.1037E+00 seconds\n",
      "   Time in inactive batches        =  5.1697E-01 seconds\n",
      "   Time in active batches          =  6.2216E-01 seconds\n",
      "   Time synchronizing fission bank =  5.7356E-04 seconds\n",
      "     Sampling source sites         =  4.3038E-04 seconds\n",
      "     SEND/RECV source sites        =  1.2169E-04 seconds\n",
      "   Time accumulating tallies       =  2.2373E-05 seconds\n",
      " Total time for finalization       =  2.9679E-04 seconds\n",
      " Total time elapsed                =  1.5590E+00 seconds\n",
      " Calculation Rate (inactive)       =  19343.4 neutrons/second\n",
      " Calculation Rate (active)         =  16073.0 neutrons/second\n",
      "\n",
      " ============================>     RESULTS     <============================\n",
      "\n",
      " k-effective (Collision)     =  1.05265 +/-  0.01409\n",
      " k-effective (Track-length)  =  1.04342 +/-  0.01686\n",
      " k-effective (Absorption)    =  1.04732 +/-  0.01712\n",
      " Combined k-effective        =  1.05144 +/-  0.01568\n",
      " Leakage Fraction            =  0.49650 +/-  0.00691\n",
      "\n"
     ]
    },
    {
     "data": {
      "text/plain": [
       "0"
      ]
     },
     "execution_count": 177,
     "metadata": {},
     "output_type": "execute_result"
    }
   ],
   "source": [
    "openmc.run()"
   ]
  },
  {
   "cell_type": "code",
   "execution_count": null,
   "metadata": {},
   "outputs": [],
   "source": []
  }
 ],
 "metadata": {
  "kernelspec": {
   "display_name": "Python 3",
   "language": "python",
   "name": "python3"
  },
  "language_info": {
   "codemirror_mode": {
    "name": "ipython",
    "version": 3
   },
   "file_extension": ".py",
   "mimetype": "text/x-python",
   "name": "python",
   "nbconvert_exporter": "python",
   "pygments_lexer": "ipython3",
   "version": "3.6.6"
  }
 },
 "nbformat": 4,
 "nbformat_minor": 2
}
