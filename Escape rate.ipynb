{
 "cells": [
  {
   "cell_type": "code",
   "execution_count": 1,
   "metadata": {},
   "outputs": [],
   "source": [
    "%matplotlib inline\n",
    "import openmc"
   ]
  },
  {
   "cell_type": "code",
   "execution_count": 2,
   "metadata": {},
   "outputs": [],
   "source": [
    "am=openmc.Material(1,\"am\")"
   ]
  },
  {
   "cell_type": "code",
   "execution_count": 3,
   "metadata": {},
   "outputs": [],
   "source": [
    "am.add_nuclide('Am242_m1',1)\n",
    "am.add_nuclide('Am241',0)"
   ]
  },
  {
   "cell_type": "code",
   "execution_count": 4,
   "metadata": {},
   "outputs": [
    {
     "name": "stdout",
     "output_type": "stream",
     "text": [
      "Material\n",
      "\tID             =\t1\n",
      "\tName           =\tam\n",
      "\tTemperature    =\tNone\n",
      "\tDensity        =\t12 [g/cm3]\n",
      "\tS(a,b) Tables  \n",
      "\tNuclides       \n",
      "\tAm242_m1       =\t1            [ao]\n",
      "\tAm241          =\t0            [ao]\n",
      "\n"
     ]
    }
   ],
   "source": [
    "am.set_density('g/cm3',12)\n",
    "print(am)"
   ]
  },
  {
   "cell_type": "code",
   "execution_count": 5,
   "metadata": {},
   "outputs": [],
   "source": [
    "aerogel=openmc.Material(2,\"Al2O3\")"
   ]
  },
  {
   "cell_type": "code",
   "execution_count": 6,
   "metadata": {},
   "outputs": [],
   "source": [
    "aerogel.add_nuclide('Al27',2.0)\n",
    "aerogel.add_nuclide('O16',3.0)"
   ]
  },
  {
   "cell_type": "code",
   "execution_count": 7,
   "metadata": {},
   "outputs": [],
   "source": [
    "aerogel.set_density('g/cm3',0.143)"
   ]
  },
  {
   "cell_type": "code",
   "execution_count": 8,
   "metadata": {},
   "outputs": [],
   "source": [
    "vacuummat=openmc.Material(3,\"Helium\")"
   ]
  },
  {
   "cell_type": "code",
   "execution_count": 9,
   "metadata": {},
   "outputs": [],
   "source": [
    "vacuummat.set_density('g/cm3',0.001)"
   ]
  },
  {
   "cell_type": "code",
   "execution_count": 10,
   "metadata": {},
   "outputs": [],
   "source": [
    "vacuummat.add_nuclide('He4',1.0)"
   ]
  },
  {
   "cell_type": "code",
   "execution_count": 11,
   "metadata": {},
   "outputs": [],
   "source": [
    "mats = openmc.Materials([am,aerogel,vacuummat])"
   ]
  },
  {
   "cell_type": "code",
   "execution_count": 12,
   "metadata": {},
   "outputs": [],
   "source": [
    "mats.export_to_xml()"
   ]
  },
  {
   "cell_type": "code",
   "execution_count": 13,
   "metadata": {},
   "outputs": [],
   "source": [
    "p1=openmc.ZPlane(z0=2,boundary_type='reflective')\n",
    "p2=openmc.ZPlane(z0=0,boundary_type='reflective')\n",
    "p3=openmc.YPlane(y0=0,boundary_type='vacuum')\n",
    "p4=openmc.YPlane(y0=2,boundary_type='transmission')\n",
    "p5=openmc.YPlane(y0=4,boundary_type='transmission')\n",
    "p6=openmc.YPlane(y0=6,boundary_type='transmission')\n",
    "p7=openmc.YPlane(y0=8,boundary_type='vacuum')"
   ]
  },
  {
   "cell_type": "code",
   "execution_count": 14,
   "metadata": {},
   "outputs": [],
   "source": [
    "fuel_region=-p1 & +p2 & +p3 & -p4 \n",
    "aerogel_region=-p1 & +p2 & +p5 & -p6"
   ]
  },
  {
   "cell_type": "code",
   "execution_count": 15,
   "metadata": {},
   "outputs": [],
   "source": [
    "vacuum_region1= -p1 & +p2 & +p4 & -p5\n",
    "vacuum_region2= -p1 & +p2 & +p6 & -p7"
   ]
  },
  {
   "cell_type": "code",
   "execution_count": 16,
   "metadata": {},
   "outputs": [],
   "source": [
    "fuel=openmc.Cell(1,'fuel')\n",
    "fuel.fill=am\n",
    "fuel.region=fuel_region\n",
    "\n",
    "aerogel_cell=openmc.Cell(2,'moderator')\n",
    "aerogel_cell.fill=aerogel\n",
    "aerogel_cell.region=aerogel_region\n",
    "\n",
    "vacuum1=openmc.Cell(3,'vacuum')\n",
    "vacuum1.fill=vacuummat\n",
    "vacuum1.region=vacuum_region1\n",
    "\n",
    "\n",
    "vacuum2=openmc.Cell(4,'vacuum2')\n",
    "vacuum2.fill=vacuummat\n",
    "vacuum2.region=vacuum_region2"
   ]
  },
  {
   "cell_type": "code",
   "execution_count": 17,
   "metadata": {},
   "outputs": [],
   "source": [
    "root = openmc.Universe(cells=(fuel,aerogel_cell,vacuum1,vacuum2))"
   ]
  },
  {
   "cell_type": "code",
   "execution_count": 18,
   "metadata": {},
   "outputs": [],
   "source": [
    "geom = openmc.Geometry()\n",
    "geom.root_universe = root"
   ]
  },
  {
   "cell_type": "code",
   "execution_count": 19,
   "metadata": {},
   "outputs": [],
   "source": [
    "point = openmc.stats.Point((0, 1, 1))\n",
    "src = openmc.Source(space=point)\n",
    "geom.export_to_xml()"
   ]
  },
  {
   "cell_type": "code",
   "execution_count": 20,
   "metadata": {},
   "outputs": [],
   "source": [
    "settings = openmc.Settings()\n",
    "settings.source = src\n",
    "settings.batches = 300\n",
    "settings.inactive = 10\n",
    "settings.particles = 1000\n",
    "settings.export_to_xml()"
   ]
  },
  {
   "cell_type": "code",
   "execution_count": 21,
   "metadata": {},
   "outputs": [],
   "source": [
    "cell_filter = openmc.CellFilter([fuel,vacuum1,aerogel_cell,vacuum2])\n",
    "t = openmc.Tally(1)\n",
    "t.filters = [cell_filter]\n",
    "t.scores = ['flux']\n"
   ]
  },
  {
   "cell_type": "code",
   "execution_count": 22,
   "metadata": {},
   "outputs": [],
   "source": [
    "\n",
    "tallies = openmc.Tallies([t])\n",
    "tallies.export_to_xml()"
   ]
  },
  {
   "cell_type": "code",
   "execution_count": 23,
   "metadata": {},
   "outputs": [],
   "source": [
    "plot = openmc.Plot()\n",
    "plot.basis = 'xy'\n",
    "plot.origin = (0 ,4, 1)\n",
    "plot.width = (100, 60)\n",
    "plot.pixels = (1000, 600)\n",
    "\n",
    "# Instantiate a Plots collection and export to \"plots.xml\"\n",
    "plot_file = openmc.Plots([plot])\n",
    "plot_file.export_to_xml()\n"
   ]
  },
  {
   "cell_type": "code",
   "execution_count": 24,
   "metadata": {},
   "outputs": [
    {
     "data": {
      "image/png": "[encoded data removed]",
      "text/plain": [
       "<IPython.core.display.Image object>"
      ]
     },
     "metadata": {},
     "output_type": "display_data"
    }
   ],
   "source": [
    "openmc.plot_inline(plot)"
   ]
  },
  {
   "cell_type": "code",
   "execution_count": 25,
   "metadata": {},
   "outputs": [
    {
     "name": "stdout",
     "output_type": "stream",
     "text": [
      "openmc: Relink `/home/yichengz/anaconda3/bin/../lib/./libgfortran.so.4' with `/lib/x86_64-linux-gnu/librt.so.1' for IFUNC symbol `clock_gettime'\n",
      "\n",
      "                               %%%%%%%%%%%%%%%\n",
      "                          %%%%%%%%%%%%%%%%%%%%%%%%\n",
      "                       %%%%%%%%%%%%%%%%%%%%%%%%%%%%%%\n",
      "                     %%%%%%%%%%%%%%%%%%%%%%%%%%%%%%%%%%\n",
      "                   %%%%%%%%%%%%%%%%%%%%%%%%%%%%%%%%%%%%%%\n",
      "                  %%%%%%%%%%%%%%%%%%%%%%%%%%%%%%%%%%%%%%%%\n",
      "                                   %%%%%%%%%%%%%%%%%%%%%%%%\n",
      "                                    %%%%%%%%%%%%%%%%%%%%%%%%\n",
      "                ###############      %%%%%%%%%%%%%%%%%%%%%%%%\n",
      "               ##################     %%%%%%%%%%%%%%%%%%%%%%%\n",
      "               ###################     %%%%%%%%%%%%%%%%%%%%%%%\n",
      "               ####################     %%%%%%%%%%%%%%%%%%%%%%\n",
      "               #####################     %%%%%%%%%%%%%%%%%%%%%\n",
      "               ######################     %%%%%%%%%%%%%%%%%%%%\n",
      "               #######################     %%%%%%%%%%%%%%%%%%\n",
      "                #######################     %%%%%%%%%%%%%%%%%\n",
      "                ######################     %%%%%%%%%%%%%%%%%\n",
      "                 ####################     %%%%%%%%%%%%%%%%%\n",
      "                   #################     %%%%%%%%%%%%%%%%%\n",
      "                    ###############     %%%%%%%%%%%%%%%%\n",
      "                      ############     %%%%%%%%%%%%%%%\n",
      "                         ########     %%%%%%%%%%%%%%\n",
      "                                     %%%%%%%%%%%\n",
      "\n",
      "                   | The OpenMC Monte Carlo Code\n",
      "         Copyright | 2011-2018 Massachusetts Institute of Technology\n",
      "           License | http://openmc.readthedocs.io/en/latest/license.html\n",
      "           Version | 0.10.0\n",
      "          Git SHA1 | 878abce958547f97279209d47c2c4a42fd310155\n",
      "         Date/Time | 2019-02-04 15:17:26\n",
      "    OpenMP Threads | 8\n",
      "\n",
      " Reading settings XML file...\n",
      " Reading cross sections XML file...\n",
      " Reading materials XML file...\n",
      " Reading geometry XML file...\n",
      " Building neighboring cells lists for each surface...\n",
      " Reading Am242_m1 from /home/yichengz/nndc_hdf5/Am242_m1.h5\n",
      " Reading Am241 from /home/yichengz/nndc_hdf5/Am241.h5\n",
      " Reading Al27 from /home/yichengz/nndc_hdf5/Al27.h5\n",
      " Reading O16 from /home/yichengz/nndc_hdf5/O16.h5\n",
      " Reading He4 from /home/yichengz/nndc_hdf5/He4.h5\n",
      " Maximum neutron transport energy: 2.00000E+07 eV for Am242_m1\n",
      " Reading tallies XML file...\n",
      " Writing summary.h5 file...\n",
      " Initializing source particles...\n",
      "\n",
      " ====================>     K EIGENVALUE SIMULATION     <====================\n",
      "\n",
      "  Bat./Gen.      k            Average k         \n",
      "  =========   ========   ====================   \n",
      "        1/1    0.62106                       \n",
      "        2/1    0.56322                       \n",
      "        3/1    0.57821                       \n",
      "        4/1    0.57880                       \n",
      "        5/1    0.60480                       \n",
      "        6/1    0.55960                       \n",
      "        7/1    0.57435                       \n",
      "        8/1    0.57472                       \n",
      "        9/1    0.56962                       \n",
      "       10/1    0.55035                       \n",
      "       11/1    0.58538                       \n",
      "       12/1    0.59318    0.58928 +/- 0.00390\n",
      "       13/1    0.56060    0.57972 +/- 0.00982\n",
      "       14/1    0.61982    0.58974 +/- 0.01220\n",
      "       15/1    0.61501    0.59480 +/- 0.01071\n",
      "       16/1    0.58679    0.59346 +/- 0.00885\n",
      "       17/1    0.58112    0.59170 +/- 0.00768\n",
      "       18/1    0.57269    0.58932 +/- 0.00707\n",
      "       19/1    0.59511    0.58997 +/- 0.00626\n",
      "       20/1    0.56386    0.58736 +/- 0.00618\n",
      "       21/1    0.57830    0.58653 +/- 0.00565\n",
      "       22/1    0.61908    0.58925 +/- 0.00583\n",
      "       23/1    0.59462    0.58966 +/- 0.00538\n",
      "       24/1    0.58260    0.58915 +/- 0.00500\n",
      "       25/1    0.55166    0.58665 +/- 0.00529\n",
      "       26/1    0.54348    0.58396 +/- 0.00563\n",
      "       27/1    0.58114    0.58379 +/- 0.00529\n",
      "       28/1    0.56010    0.58247 +/- 0.00516\n",
      "       29/1    0.57013    0.58183 +/- 0.00493\n",
      "       30/1    0.57264    0.58137 +/- 0.00470\n",
      "       31/1    0.60549    0.58251 +/- 0.00461\n",
      "       32/1    0.57240    0.58206 +/- 0.00442\n",
      "       33/1    0.57825    0.58189 +/- 0.00423\n",
      "       34/1    0.57355    0.58154 +/- 0.00406\n",
      "       35/1    0.58478    0.58167 +/- 0.00390\n",
      "       36/1    0.55786    0.58076 +/- 0.00386\n",
      "       37/1    0.57196    0.58043 +/- 0.00373\n",
      "       38/1    0.58200    0.58049 +/- 0.00359\n",
      "       39/1    0.58974    0.58081 +/- 0.00348\n",
      "       40/1    0.57085    0.58047 +/- 0.00338\n",
      "       41/1    0.60451    0.58125 +/- 0.00336\n",
      "       42/1    0.56015    0.58059 +/- 0.00332\n",
      "       43/1    0.57634    0.58046 +/- 0.00322\n",
      "       44/1    0.59434    0.58087 +/- 0.00315\n",
      "       45/1    0.56716    0.58048 +/- 0.00308\n",
      "       46/1    0.56898    0.58016 +/- 0.00301\n",
      "       47/1    0.58759    0.58036 +/- 0.00294\n",
      "       48/1    0.56251    0.57989 +/- 0.00290\n",
      "       49/1    0.57410    0.57974 +/- 0.00282\n",
      "       50/1    0.56640    0.57941 +/- 0.00277\n",
      "       51/1    0.57134    0.57921 +/- 0.00271\n",
      "       52/1    0.56208    0.57880 +/- 0.00268\n",
      "       53/1    0.59151    0.57910 +/- 0.00263\n",
      "       54/1    0.56103    0.57869 +/- 0.00260\n",
      "       55/1    0.59079    0.57896 +/- 0.00256\n",
      "       56/1    0.59592    0.57933 +/- 0.00253\n",
      "       57/1    0.55479    0.57880 +/- 0.00253\n",
      "       58/1    0.56316    0.57848 +/- 0.00250\n",
      "       59/1    0.55733    0.57805 +/- 0.00248\n",
      "       60/1    0.59488    0.57838 +/- 0.00246\n",
      "       61/1    0.59514    0.57871 +/- 0.00243\n",
      "       62/1    0.57300    0.57860 +/- 0.00239\n",
      "       63/1    0.54722    0.57801 +/- 0.00241\n",
      "       64/1    0.59548    0.57833 +/- 0.00239\n",
      "       65/1    0.59625    0.57866 +/- 0.00237\n",
      "       66/1    0.58839    0.57883 +/- 0.00233\n",
      "       67/1    0.59825    0.57917 +/- 0.00232\n",
      "       68/1    0.60819    0.57967 +/- 0.00233\n",
      "       69/1    0.59613    0.57995 +/- 0.00231\n",
      "       70/1    0.58159    0.57998 +/- 0.00227\n",
      "       71/1    0.56884    0.57980 +/- 0.00224\n",
      "       72/1    0.55576    0.57941 +/- 0.00224\n",
      "       73/1    0.55232    0.57898 +/- 0.00224\n",
      "       74/1    0.58851    0.57913 +/- 0.00221\n",
      "       75/1    0.58919    0.57928 +/- 0.00218\n",
      "       76/1    0.63307    0.58010 +/- 0.00230\n",
      "       77/1    0.59388    0.58030 +/- 0.00227\n",
      "       78/1    0.56305    0.58005 +/- 0.00226\n",
      "       79/1    0.56362    0.57981 +/- 0.00224\n",
      "       80/1    0.59376    0.58001 +/- 0.00221\n",
      "       81/1    0.59086    0.58016 +/- 0.00219\n",
      "       82/1    0.56652    0.57997 +/- 0.00216\n",
      "       83/1    0.60550    0.58032 +/- 0.00216\n",
      "       84/1    0.54510    0.57985 +/- 0.00219\n",
      "       85/1    0.55226    0.57948 +/- 0.00219\n",
      "       86/1    0.56149    0.57924 +/- 0.00217\n",
      "       87/1    0.56589    0.57907 +/- 0.00215\n",
      "       88/1    0.58592    0.57916 +/- 0.00212\n",
      "       89/1    0.60559    0.57949 +/- 0.00212\n",
      "       90/1    0.55167    0.57914 +/- 0.00213\n",
      "       91/1    0.56183    0.57893 +/- 0.00211\n",
      "       92/1    0.55639    0.57866 +/- 0.00210\n",
      "       93/1    0.57349    0.57859 +/- 0.00208\n",
      "       94/1    0.56725    0.57846 +/- 0.00206\n",
      "       95/1    0.60651    0.57879 +/- 0.00206\n",
      "       96/1    0.63434    0.57943 +/- 0.00214\n",
      "       97/1    0.59497    0.57961 +/- 0.00212\n",
      "       98/1    0.53882    0.57915 +/- 0.00214\n",
      "       99/1    0.54619    0.57878 +/- 0.00215\n",
      "      100/1    0.56218    0.57859 +/- 0.00214\n",
      "      101/1    0.60314    0.57886 +/- 0.00213\n",
      "      102/1    0.55642    0.57862 +/- 0.00212\n",
      "      103/1    0.58088    0.57864 +/- 0.00210\n",
      "      104/1    0.62388    0.57913 +/- 0.00213\n",
      "      105/1    0.61148    0.57947 +/- 0.00214\n",
      "      106/1    0.57276    0.57940 +/- 0.00211\n",
      "      107/1    0.58985    0.57950 +/- 0.00209\n",
      "      108/1    0.59117    0.57962 +/- 0.00208\n",
      "      109/1    0.57482    0.57958 +/- 0.00206\n",
      "      110/1    0.59773    0.57976 +/- 0.00204\n",
      "      111/1    0.56408    0.57960 +/- 0.00203\n",
      "      112/1    0.57697    0.57958 +/- 0.00201\n",
      "      113/1    0.56164    0.57940 +/- 0.00200\n",
      "      114/1    0.55827    0.57920 +/- 0.00199\n",
      "      115/1    0.58017    0.57921 +/- 0.00197\n",
      "      116/1    0.58100    0.57922 +/- 0.00195\n",
      "      117/1    0.57184    0.57916 +/- 0.00193\n",
      "      118/1    0.57232    0.57909 +/- 0.00192\n",
      "      119/1    0.54966    0.57882 +/- 0.00192\n",
      "      120/1    0.57158    0.57876 +/- 0.00190\n",
      "      121/1    0.59132    0.57887 +/- 0.00189\n",
      "      122/1    0.60221    0.57908 +/- 0.00188\n",
      "      123/1    0.58578    0.57914 +/- 0.00187\n",
      "      124/1    0.56416    0.57901 +/- 0.00186\n",
      "      125/1    0.55479    0.57880 +/- 0.00185\n",
      "      126/1    0.58928    0.57889 +/- 0.00184\n",
      "      127/1    0.60310    0.57909 +/- 0.00183\n",
      "      128/1    0.58983    0.57918 +/- 0.00182\n",
      "      129/1    0.57266    0.57913 +/- 0.00181\n",
      "      130/1    0.59635    0.57927 +/- 0.00180\n",
      "      131/1    0.57750    0.57926 +/- 0.00178\n",
      "      132/1    0.60983    0.57951 +/- 0.00178\n",
      "      133/1    0.59403    0.57963 +/- 0.00177\n",
      "      134/1    0.58246    0.57965 +/- 0.00176\n",
      "      135/1    0.57139    0.57958 +/- 0.00175\n",
      "      136/1    0.55427    0.57938 +/- 0.00174\n",
      "      137/1    0.58819    0.57945 +/- 0.00173\n",
      "      138/1    0.58400    0.57949 +/- 0.00172\n",
      "      139/1    0.58763    0.57955 +/- 0.00171\n",
      "      140/1    0.58827    0.57962 +/- 0.00169\n",
      "      141/1    0.57049    0.57955 +/- 0.00168\n",
      "      142/1    0.62227    0.57987 +/- 0.00170\n",
      "      143/1    0.61585    0.58014 +/- 0.00171\n",
      "      144/1    0.54081    0.57985 +/- 0.00172\n",
      "      145/1    0.60427    0.58003 +/- 0.00172\n",
      "      146/1    0.60095    0.58018 +/- 0.00171\n",
      "      147/1    0.57270    0.58013 +/- 0.00170\n",
      "      148/1    0.59100    0.58021 +/- 0.00169\n",
      "      149/1    0.55451    0.58002 +/- 0.00169\n",
      "      150/1    0.56739    0.57993 +/- 0.00168\n",
      "      151/1    0.57758    0.57992 +/- 0.00167\n",
      "      152/1    0.57887    0.57991 +/- 0.00166\n",
      "      153/1    0.61146    0.58013 +/- 0.00166\n",
      "      154/1    0.59196    0.58021 +/- 0.00165\n",
      "      155/1    0.57142    0.58015 +/- 0.00164\n",
      "      156/1    0.59937    0.58028 +/- 0.00163\n",
      "      157/1    0.59367    0.58037 +/- 0.00162\n",
      "      158/1    0.53837    0.58009 +/- 0.00164\n",
      "      159/1    0.59221    0.58017 +/- 0.00163\n",
      "      160/1    0.56317    0.58006 +/- 0.00162\n",
      "      161/1    0.60814    0.58024 +/- 0.00162\n",
      "      162/1    0.59067    0.58031 +/- 0.00161\n",
      "      163/1    0.58639    0.58035 +/- 0.00160\n",
      "      164/1    0.56955    0.58028 +/- 0.00159\n",
      "      165/1    0.56454    0.58018 +/- 0.00159\n",
      "      166/1    0.58494    0.58021 +/- 0.00158\n",
      "      167/1    0.58933    0.58027 +/- 0.00157\n",
      "      168/1    0.55127    0.58008 +/- 0.00157\n",
      "      169/1    0.60797    0.58026 +/- 0.00157\n",
      "      170/1    0.54031    0.58001 +/- 0.00158\n",
      "      171/1    0.54061    0.57977 +/- 0.00159\n",
      "      172/1    0.59559    0.57986 +/- 0.00158\n",
      "      173/1    0.58945    0.57992 +/- 0.00157\n",
      "      174/1    0.57008    0.57986 +/- 0.00156\n",
      "      175/1    0.58848    0.57991 +/- 0.00156\n",
      "      176/1    0.60271    0.58005 +/- 0.00155\n",
      "      177/1    0.56619    0.57997 +/- 0.00154\n",
      "      178/1    0.55870    0.57984 +/- 0.00154\n",
      "      179/1    0.57840    0.57983 +/- 0.00153\n",
      "      180/1    0.59892    0.57995 +/- 0.00153\n",
      "      181/1    0.57887    0.57994 +/- 0.00152\n",
      "      182/1    0.55768    0.57981 +/- 0.00151\n",
      "      183/1    0.54846    0.57963 +/- 0.00152\n",
      "      184/1    0.58887    0.57968 +/- 0.00151\n",
      "      185/1    0.56847    0.57962 +/- 0.00150\n",
      "      186/1    0.60084    0.57974 +/- 0.00150\n",
      "      187/1    0.55840    0.57962 +/- 0.00149\n",
      "      188/1    0.62125    0.57985 +/- 0.00150\n",
      "      189/1    0.55522    0.57971 +/- 0.00150\n",
      "      190/1    0.57728    0.57970 +/- 0.00149\n",
      "      191/1    0.57219    0.57966 +/- 0.00149\n",
      "      192/1    0.52479    0.57936 +/- 0.00151\n",
      "      193/1    0.53974    0.57914 +/- 0.00152\n",
      "      194/1    0.58480    0.57917 +/- 0.00151\n",
      "      195/1    0.59414    0.57925 +/- 0.00150\n",
      "      196/1    0.56124    0.57916 +/- 0.00150\n",
      "      197/1    0.56353    0.57907 +/- 0.00149\n",
      "      198/1    0.59533    0.57916 +/- 0.00149\n",
      "      199/1    0.59112    0.57922 +/- 0.00148\n",
      "      200/1    0.59068    0.57928 +/- 0.00147\n",
      "      201/1    0.58501    0.57931 +/- 0.00147\n",
      "      202/1    0.56549    0.57924 +/- 0.00146\n",
      "      203/1    0.58603    0.57928 +/- 0.00145\n",
      "      204/1    0.58433    0.57930 +/- 0.00144\n",
      "      205/1    0.59125    0.57936 +/- 0.00144\n",
      "      206/1    0.57875    0.57936 +/- 0.00143\n",
      "      207/1    0.57147    0.57932 +/- 0.00142\n",
      "      208/1    0.59496    0.57940 +/- 0.00142\n",
      "      209/1    0.57773    0.57939 +/- 0.00141\n",
      "      210/1    0.57790    0.57938 +/- 0.00141\n",
      "      211/1    0.60418    0.57951 +/- 0.00140\n",
      "      212/1    0.56728    0.57945 +/- 0.00140\n",
      "      213/1    0.54999    0.57930 +/- 0.00140\n",
      "      214/1    0.55128    0.57916 +/- 0.00140\n",
      "      215/1    0.54868    0.57901 +/- 0.00140\n",
      "      216/1    0.60705    0.57915 +/- 0.00140\n",
      "      217/1    0.59118    0.57921 +/- 0.00139\n",
      "      218/1    0.58272    0.57923 +/- 0.00139\n",
      "      219/1    0.56287    0.57915 +/- 0.00138\n",
      "      220/1    0.59571    0.57923 +/- 0.00138\n",
      "      221/1    0.57960    0.57923 +/- 0.00137\n",
      "      222/1    0.56151    0.57914 +/- 0.00137\n",
      "      223/1    0.59068    0.57920 +/- 0.00136\n",
      "      224/1    0.57910    0.57920 +/- 0.00136\n",
      "      225/1    0.61219    0.57935 +/- 0.00136\n",
      "      226/1    0.58048    0.57936 +/- 0.00135\n",
      "      227/1    0.57264    0.57933 +/- 0.00135\n",
      "      228/1    0.64606    0.57963 +/- 0.00137\n",
      "      229/1    0.57145    0.57959 +/- 0.00137\n",
      "      230/1    0.61380    0.57975 +/- 0.00137\n",
      "      231/1    0.59235    0.57981 +/- 0.00137\n",
      "      232/1    0.56534    0.57974 +/- 0.00136\n",
      "      233/1    0.58404    0.57976 +/- 0.00136\n",
      "      234/1    0.58241    0.57977 +/- 0.00135\n",
      "      235/1    0.57884    0.57977 +/- 0.00134\n",
      "      236/1    0.56429    0.57970 +/- 0.00134\n",
      "      237/1    0.59534    0.57977 +/- 0.00134\n",
      "      238/1    0.59798    0.57985 +/- 0.00133\n",
      "      239/1    0.57226    0.57982 +/- 0.00133\n",
      "      240/1    0.58744    0.57985 +/- 0.00132\n",
      "      241/1    0.59366    0.57991 +/- 0.00132\n",
      "      242/1    0.53758    0.57973 +/- 0.00132\n",
      "      243/1    0.56231    0.57965 +/- 0.00132\n",
      "      244/1    0.58242    0.57966 +/- 0.00131\n",
      "      245/1    0.57719    0.57965 +/- 0.00131\n"
     ]
    },
    {
     "name": "stdout",
     "output_type": "stream",
     "text": [
      "      246/1    0.56501    0.57959 +/- 0.00131\n",
      "      247/1    0.54411    0.57944 +/- 0.00131\n",
      "      248/1    0.59197    0.57949 +/- 0.00130\n",
      "      249/1    0.54982    0.57937 +/- 0.00130\n",
      "      250/1    0.57481    0.57935 +/- 0.00130\n",
      "      251/1    0.53045    0.57915 +/- 0.00131\n",
      "      252/1    0.55427    0.57905 +/- 0.00131\n",
      "      253/1    0.56937    0.57901 +/- 0.00130\n",
      "      254/1    0.59991    0.57909 +/- 0.00130\n",
      "      255/1    0.56862    0.57905 +/- 0.00130\n",
      "      256/1    0.55918    0.57897 +/- 0.00129\n",
      "      257/1    0.62097    0.57914 +/- 0.00130\n",
      "      258/1    0.60029    0.57922 +/- 0.00130\n",
      "      259/1    0.52714    0.57901 +/- 0.00131\n",
      "      260/1    0.56235    0.57895 +/- 0.00130\n",
      "      261/1    0.54579    0.57882 +/- 0.00131\n",
      "      262/1    0.53491    0.57864 +/- 0.00131\n",
      "      263/1    0.58148    0.57865 +/- 0.00131\n",
      "      264/1    0.60386    0.57875 +/- 0.00131\n",
      "      265/1    0.54829    0.57863 +/- 0.00131\n",
      "      266/1    0.58610    0.57866 +/- 0.00130\n",
      "      267/1    0.58446    0.57868 +/- 0.00130\n",
      "      268/1    0.59784    0.57876 +/- 0.00129\n",
      "      269/1    0.54821    0.57864 +/- 0.00129\n",
      "      270/1    0.58864    0.57868 +/- 0.00129\n",
      "      271/1    0.58378    0.57870 +/- 0.00129\n",
      "      272/1    0.52886    0.57851 +/- 0.00129\n",
      "      273/1    0.55718    0.57843 +/- 0.00129\n",
      "      274/1    0.59171    0.57848 +/- 0.00129\n",
      "      275/1    0.60348    0.57857 +/- 0.00129\n",
      "      276/1    0.55813    0.57849 +/- 0.00128\n",
      "      277/1    0.57579    0.57848 +/- 0.00128\n",
      "      278/1    0.59295    0.57854 +/- 0.00128\n",
      "      279/1    0.61936    0.57869 +/- 0.00128\n",
      "      280/1    0.57842    0.57869 +/- 0.00128\n",
      "      281/1    0.54491    0.57856 +/- 0.00128\n",
      "      282/1    0.57173    0.57854 +/- 0.00127\n",
      "      283/1    0.61245    0.57866 +/- 0.00127\n",
      "      284/1    0.57613    0.57865 +/- 0.00127\n",
      "      285/1    0.60350    0.57874 +/- 0.00127\n",
      "      286/1    0.59563    0.57881 +/- 0.00126\n",
      "      287/1    0.55358    0.57871 +/- 0.00126\n",
      "      288/1    0.56618    0.57867 +/- 0.00126\n",
      "      289/1    0.59010    0.57871 +/- 0.00126\n",
      "      290/1    0.56830    0.57867 +/- 0.00125\n",
      "      291/1    0.58231    0.57869 +/- 0.00125\n",
      "      292/1    0.56445    0.57864 +/- 0.00124\n",
      "      293/1    0.58062    0.57864 +/- 0.00124\n",
      "      294/1    0.55306    0.57855 +/- 0.00124\n",
      "      295/1    0.60030    0.57863 +/- 0.00124\n",
      "      296/1    0.61724    0.57876 +/- 0.00124\n",
      "      297/1    0.61354    0.57889 +/- 0.00124\n",
      "      298/1    0.58803    0.57892 +/- 0.00124\n",
      "      299/1    0.62069    0.57906 +/- 0.00124\n",
      "      300/1    0.56153    0.57900 +/- 0.00124\n",
      " Creating state point statepoint.300.h5...\n",
      "\n",
      " =======================>     TIMING STATISTICS     <=======================\n",
      "\n",
      " Total time for initialization     =  4.8815E-01 seconds\n",
      "   Reading cross sections          =  4.4961E-01 seconds\n",
      " Total time in simulation          =  3.8778E-01 seconds\n",
      "   Time in transport only          =  3.0233E-01 seconds\n",
      "   Time in inactive batches        =  8.3150E-03 seconds\n",
      "   Time in active batches          =  3.7947E-01 seconds\n",
      "   Time synchronizing fission bank =  8.7580E-03 seconds\n",
      "     Sampling source sites         =  6.2170E-03 seconds\n",
      "     SEND/RECV source sites        =  1.5080E-03 seconds\n",
      "   Time accumulating tallies       =  3.8100E-04 seconds\n",
      " Total time for finalization       =  4.4450E-03 seconds\n",
      " Total time elapsed                =  8.8418E-01 seconds\n",
      " Calculation Rate (inactive)       =  1.20265E+06 neutrons/second\n",
      " Calculation Rate (active)         =  7.64228E+05 neutrons/second\n",
      "\n",
      " ============================>     RESULTS     <============================\n",
      "\n",
      " k-effective (Collision)     =  0.57695 +/-  0.00166\n",
      " k-effective (Track-length)  =  0.57900 +/-  0.00124\n",
      " k-effective (Absorption)    =  0.57386 +/-  0.00222\n",
      " Combined k-effective        =  0.57785 +/-  0.00113\n",
      " Leakage Fraction            =  0.83410 +/-  0.00064\n",
      "\n"
     ]
    },
    {
     "data": {
      "text/plain": [
       "0"
      ]
     },
     "execution_count": 25,
     "metadata": {},
     "output_type": "execute_result"
    }
   ],
   "source": [
    "openmc.run()"
   ]
  },
  {
   "cell_type": "code",
   "execution_count": 26,
   "metadata": {},
   "outputs": [
    {
     "name": "stdout",
     "output_type": "stream",
     "text": [
      "\r\n",
      " ============================>     TALLY 1     <============================\r\n",
      "\r\n",
      " Cell 1\r\n",
      "   Total Material\r\n",
      "     Flux                                 2.80725        +/- 5.94334E-03\r\n",
      " Cell 3\r\n",
      "   Total Material\r\n",
      "     Flux                                 2.19085        +/- 1.30088E-02\r\n",
      " Cell 2\r\n",
      "   Total Material\r\n",
      "     Flux                                 2.06338        +/- 9.27509E-03\r\n",
      " Cell 4\r\n",
      "   Total Material\r\n",
      "     Flux                                 1.94733        +/- 1.13702E-02\r\n"
     ]
    }
   ],
   "source": [
    "!cat tallies.out"
   ]
  },
  {
   "cell_type": "code",
   "execution_count": null,
   "metadata": {},
   "outputs": [],
   "source": []
  }
 ],
 "metadata": {
  "kernelspec": {
   "display_name": "Python 3",
   "language": "python",
   "name": "python3"
  },
  "language_info": {
   "codemirror_mode": {
    "name": "ipython",
    "version": 3
   },
   "file_extension": ".py",
   "mimetype": "text/x-python",
   "name": "python",
   "nbconvert_exporter": "python",
   "pygments_lexer": "ipython3",
   "version": "3.6.6"
  }
 },
 "nbformat": 4,
 "nbformat_minor": 2
}
