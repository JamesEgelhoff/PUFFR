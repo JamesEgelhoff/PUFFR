{
 "cells": [
  {
   "cell_type": "code",
   "execution_count": 1,
   "metadata": {},
   "outputs": [],
   "source": [
    "%matplotlib inline\n",
    "import numpy as np\n",
    "import openmc"
   ]
  },
  {
   "cell_type": "code",
   "execution_count": 2,
   "metadata": {},
   "outputs": [
    {
     "name": "stdout",
     "output_type": "stream",
     "text": [
      "Material\n",
      "\tID             =\t1\n",
      "\tName           =\tAm242m\n",
      "\tTemperature    =\tNone\n",
      "\tDensity        =\t13.6 [g/cm3]\n",
      "\tS(a,b) Tables  \n",
      "\tNuclides       \n",
      "\tAm242_m1       =\t1            [ao]\n",
      "\n",
      "Material\n",
      "\tID             =\t2\n",
      "\tName           =\tBeO\n",
      "\tTemperature    =\tNone\n",
      "\tDensity        =\t2.86 [g/cm3]\n",
      "\tS(a,b) Tables  \n",
      "\tNuclides       \n",
      "\tBe9            =\t0.5          [ao]\n",
      "\tO16            =\t0.5          [ao]\n",
      "\n",
      "Material\n",
      "\tID             =\t3\n",
      "\tName           =\tH1\n",
      "\tTemperature    =\tNone\n",
      "\tDensity        =\t1e-06 [g/cm3]\n",
      "\tS(a,b) Tables  \n",
      "\tNuclides       \n",
      "\tH1             =\t1.0          [ao]\n",
      "\n"
     ]
    }
   ],
   "source": [
    "#create materials\n",
    "\n",
    "#fuel\n",
    "fuel = openmc.Material(1, \"Am242m\")\n",
    "fuel.add_nuclide('Am242_m1',1)\n",
    "fuel.set_density('g/cm3',13.6)\n",
    "print(fuel)\n",
    "\n",
    "#moderator\n",
    "BeO = openmc.Material(2, \"BeO\")\n",
    "BeO.add_nuclide(\"Be9\", .5)\n",
    "BeO.add_nuclide(\"O16\", .5)\n",
    "BeO.set_density(\"g/cm3\", 2.86)\n",
    "print(BeO)\n",
    "\n",
    "#\"vacuum\"\n",
    "vac = openmc.Material(3, \"H1\")\n",
    "vac.add_nuclide('H1',1.0)\n",
    "vac.set_density('g/cm3',0.000001)\n",
    "print(vac)\n",
    "\n",
    "#reflector\n",
    "#may add a reflector in the future. for now just BeO moderator"
   ]
  },
  {
   "cell_type": "code",
   "execution_count": 3,
   "metadata": {},
   "outputs": [],
   "source": [
    "# Outer radius of fuel\n",
    "fuel_outer = 1 #1 cm fuel outer radius\n",
    "fuel_thickness = 1e-3\n",
    "fuel_inner = fuel_outer - fuel_thickness #inner radius for 2micron fuel layer\n",
    "\n",
    "# parameters for depth of various things\n",
    "fuel_depth = 30 #depth of fuel/moderator disk\n",
    "ref_depth = 10 #depth of top reflecting/moderating layer\n",
    "\n",
    "#edge length of hexagonal fuel cell\n",
    "mod_thickness = 5\n",
    "hex_dis = fuel_outer + mod_thickness\n",
    "edge = hex_dis * 2 / np.sqrt(3)\n",
    "\n",
    "#outer radius of fuel disk\n",
    "disk_outer = 50 # radius in cm"
   ]
  },
  {
   "cell_type": "code",
   "execution_count": 4,
   "metadata": {},
   "outputs": [
    {
     "name": "stderr",
     "output_type": "stream",
     "text": [
      "/home/james/anaconda3/lib/python3.6/site-packages/openmc/mixin.py:61: IDWarning: Another Cell instance already exists with id=2.\n",
      "  warn(msg, IDWarning)\n",
      "/home/james/anaconda3/lib/python3.6/site-packages/openmc/mixin.py:61: IDWarning: Another Cell instance already exists with id=3.\n",
      "  warn(msg, IDWarning)\n"
     ]
    }
   ],
   "source": [
    "#define a cell surface for a single fuel cylinder\n",
    "f_inner_surf = openmc.ZCylinder(R=fuel_inner, boundary_type=\"transmission\")\n",
    "f_outer_surf = openmc.ZCylinder(R=fuel_outer, boundary_type=\"transmission\")\n",
    "f_lower_surf = openmc.ZPlane(z0=0, boundary_type=\"vacuum\")\n",
    "f_upper_surf = openmc.ZPlane(z0=fuel_depth, boundary_type=\"transmission\")\n",
    "m_upper_surf = openmc.ZPlane(z0=fuel_depth+ref_depth, boundary_type=\"vacuum\")\n",
    "\n",
    "outer_bound = openmc.ZCylinder(R=disk_outer+2*hex_dis, boundary_type=\"vacuum\")\n",
    "\n",
    "hex_region = openmc.get_hexagonal_prism(edge_length=edge, orientation='x', boundary_type=\"transmission\")\n",
    "periodic_hex = openmc.get_hexagonal_prism(edge_length=edge, orientation='x', boundary_type=\"periodic\")\n",
    "\n",
    "fuel_region = -f_outer_surf & +f_inner_surf & -f_upper_surf & +f_lower_surf\n",
    "mod_region = +f_outer_surf & -f_upper_surf & + f_lower_surf & hex_region\n",
    "vac_region = -f_inner_surf & +f_lower_surf & -f_upper_surf\n",
    "\n",
    "hex_mod = +f_upper_surf & -m_upper_surf & hex_region\n",
    "hex_edge = +f_lower_surf & -m_upper_surf & hex_region\n",
    "\n",
    "mod_region_per = +f_outer_surf & -f_upper_surf & + f_lower_surf & periodic_hex\n",
    "hex_mod_per = +f_upper_surf & -m_upper_surf & periodic_hex\n",
    "\n",
    "#fill the fuel region\n",
    "f=openmc.Cell(1, 'fuel')\n",
    "f.fill=fuel\n",
    "f.region=fuel_region\n",
    "\n",
    "#fill the moderator regions\n",
    "m = openmc.Cell(2, 'moderator region 1')\n",
    "m.fill=BeO\n",
    "m.region=mod_region\n",
    "\n",
    "m_per = openmc.Cell(2, 'moderator region 1 periodic')\n",
    "m_per.fill=BeO\n",
    "m_per.region=mod_region_per\n",
    "\n",
    "m2 = openmc.Cell(3, 'top hex moderator')\n",
    "m2.fill=BeO\n",
    "m2.region=hex_mod\n",
    "\n",
    "m2_per = openmc.Cell(3, 'top hex moderator periodic')\n",
    "m2_per.fill=BeO\n",
    "m2_per.region=hex_mod_per\n",
    "\n",
    "medge = openmc.Cell(4, 'full plug hex')\n",
    "medge.fill = BeO\n",
    "medge.region = hex_edge\n",
    "\n",
    "v = openmc.Cell(5, 'vacuum')\n",
    "v.fill = vac\n",
    "v.region = vac_region"
   ]
  },
  {
   "cell_type": "code",
   "execution_count": 5,
   "metadata": {},
   "outputs": [
    {
     "data": {
      "image/png": "[encoded data removed]",
      "text/plain": [
       "<Figure size 432x288 with 1 Axes>"
      ]
     },
     "metadata": {
      "needs_background": "light"
     },
     "output_type": "display_data"
    }
   ],
   "source": [
    "#visualize the fuel geometry\n",
    "f_univ = openmc.Universe(cells=[f, m, m2, v])\n",
    "f_univ.plot(width=(3*hex_dis, 3*hex_dis), origin = (0,0,fuel_depth/2), basis='xy')"
   ]
  },
  {
   "cell_type": "code",
   "execution_count": 6,
   "metadata": {
    "scrolled": true
   },
   "outputs": [
    {
     "data": {
      "image/png": "[encoded data removed]",
      "text/plain": [
       "<Figure size 432x288 with 1 Axes>"
      ]
     },
     "metadata": {
      "needs_background": "light"
     },
     "output_type": "display_data"
    }
   ],
   "source": [
    "f_univ.plot(width=(3*hex_dis, fuel_depth+ref_depth+2), origin = (0, 0, (fuel_depth+ref_depth)/2), basis='xz')"
   ]
  },
  {
   "cell_type": "code",
   "execution_count": 7,
   "metadata": {},
   "outputs": [],
   "source": [
    "edge_plug = openmc.Universe(cells=[medge])\n",
    "#edge_plug.plot(width=(3*hex_dis, 3*hex_dis), origin = (0,0,fuel_depth/2), basis='xy')"
   ]
  },
  {
   "cell_type": "code",
   "execution_count": 8,
   "metadata": {},
   "outputs": [],
   "source": [
    "#edge_plug.plot(width=(3*hex_dis, fuel_depth+ref_depth+2), origin = (0, 0, (fuel_depth+ref_depth)/2), basis='xz')"
   ]
  },
  {
   "cell_type": "code",
   "execution_count": 9,
   "metadata": {},
   "outputs": [
    {
     "name": "stderr",
     "output_type": "stream",
     "text": [
      "/home/james/anaconda3/lib/python3.6/site-packages/openmc/mixin.py:61: IDWarning: Another Cell instance already exists with id=5.\n",
      "  warn(msg, IDWarning)\n"
     ]
    }
   ],
   "source": [
    "#define the outer universe\n",
    "out_reg = +f_lower_surf & -m_upper_surf\n",
    "out = openmc.Cell(5, 'outer universe cell')\n",
    "out.region = out_reg\n",
    "out.fill = vac\n",
    "outer_uni = openmc.Universe(cells=[out])\n",
    "\n",
    "#create a hexagonal lattice geometry\n",
    "hexag = openmc.HexLattice()\n",
    "hexag.center = (0,0)\n",
    "hexag.pitch = [2*hex_dis]\n",
    "hexag.outer = outer_uni\n",
    "\n",
    "\n",
    "#construct the fuel cell specification\n",
    "#iterate the number of rings so to fill up disk cylinder\n",
    "rings = 0\n",
    "while 2*rings*2*hex_dis < 2*disk_outer:\n",
    "    rings=rings+1\n",
    "\n",
    "u = []\n",
    "for i in range(rings,0,-1):\n",
    "    if i == 1:\n",
    "        num = 1\n",
    "    else:\n",
    "        num = (i-1)*6\n",
    "    fill = []\n",
    "    for j in range(0,num):\n",
    "        if i == rings:\n",
    "            fill.append(edge_plug)\n",
    "        else:\n",
    "            fill.append(f_univ)\n",
    "    u.append(fill)\n",
    "\n",
    "hexag.universes = u"
   ]
  },
  {
   "cell_type": "code",
   "execution_count": null,
   "metadata": {},
   "outputs": [
    {
     "data": {
      "image/png": "[encoded data removed]",
      "text/plain": [
       "<Figure size 432x288 with 1 Axes>"
      ]
     },
     "metadata": {
      "needs_background": "light"
     },
     "output_type": "display_data"
    }
   ],
   "source": [
    "hex_cell = openmc.Cell(name='fuel disk')\n",
    "hex_cell.fill = hexag\n",
    "\n",
    "# Create final universe\n",
    "uni = openmc.Universe(name='uni')\n",
    "uni.add_cell(hex_cell)\n",
    "#uni.region = -outer_bound & +f_lower_surf & -m_upper_surf\n",
    "\n",
    "\n",
    "uni.plot(width=(2.2*disk_outer, 2.2*disk_outer), origin = (0,0,(fuel_depth+ref_depth)/2), basis='xy', color_by='material')"
   ]
  },
  {
   "cell_type": "code",
   "execution_count": null,
   "metadata": {
    "scrolled": true
   },
   "outputs": [
    {
     "data": {
      "image/png": "[encoded data removed]",
      "text/plain": [
       "<Figure size 432x288 with 1 Axes>"
      ]
     },
     "metadata": {
      "needs_background": "light"
     },
     "output_type": "display_data"
    }
   ],
   "source": [
    "#zoom in\n",
    "uni.plot(width=(5*hex_dis, 5*hex_dis), basis='xy', color_by='material')"
   ]
  },
  {
   "cell_type": "code",
   "execution_count": null,
   "metadata": {},
   "outputs": [],
   "source": [
    "uni2 = openmc.Universe(cells=[f, m_per, m2_per, v])"
   ]
  },
  {
   "cell_type": "code",
   "execution_count": null,
   "metadata": {},
   "outputs": [],
   "source": [
    "#create root universe\n",
    "geom = openmc.Geometry()\n",
    "geom.root_universe = uni2\n",
    "\n",
    "#configure statistics geometry\n",
    "#source = openmc.stats.Box((-20, -20, 0), (20, 20, fuel_depth))\n",
    "source = openmc.stats.Point((fuel_inner+(fuel_outer-fuel_inner)/2, 0, 1))\n",
    "src = openmc.Source(space=source)\n",
    "\n",
    "#export geometry\n",
    "geom.export_to_xml()"
   ]
  },
  {
   "cell_type": "code",
   "execution_count": null,
   "metadata": {},
   "outputs": [],
   "source": [
    "#create materials & cross sections xmls\n",
    "mats = openmc.Materials()\n",
    "mats.cross_sections = '/home/james/nndc_hdf5/cross_sections.xml' #comment this out/replace if you need to\n",
    "mats.append(fuel)\n",
    "mats += [BeO]\n",
    "mats += [vac]\n",
    "\n",
    "#export materials\n",
    "mats.export_to_xml()"
   ]
  },
  {
   "cell_type": "code",
   "execution_count": null,
   "metadata": {},
   "outputs": [],
   "source": [
    "settings = openmc.Settings()\n",
    "settings.particles = 1000\n",
    "settings.batches = 20\n",
    "settings.inactive = 10\n",
    "settings.source = src\n",
    "settings.export_to_xml()"
   ]
  },
  {
   "cell_type": "code",
   "execution_count": null,
   "metadata": {},
   "outputs": [],
   "source": [
    "#configure tallies\n",
    "cell_filter = openmc.CellFilter(f)\n",
    "t = openmc.Tally(4)\n",
    "t.filters = [cell_filter]\n",
    "t.scores = ['fission']\n",
    "tallies = openmc.Tallies([t])\n",
    "\n",
    "#export tallies\n",
    "tallies.export_to_xml()"
   ]
  },
  {
   "cell_type": "code",
   "execution_count": null,
   "metadata": {
    "scrolled": false
   },
   "outputs": [
    {
     "name": "stdout",
     "output_type": "stream",
     "text": [
      "openmc: Relink `/home/james/anaconda3/bin/../lib/./libgfortran.so.4' with `/lib/x86_64-linux-gnu/librt.so.1' for IFUNC symbol `clock_gettime'\n",
      "\n",
      "                               %%%%%%%%%%%%%%%\n",
      "                          %%%%%%%%%%%%%%%%%%%%%%%%\n",
      "                       %%%%%%%%%%%%%%%%%%%%%%%%%%%%%%\n",
      "                     %%%%%%%%%%%%%%%%%%%%%%%%%%%%%%%%%%\n",
      "                   %%%%%%%%%%%%%%%%%%%%%%%%%%%%%%%%%%%%%%\n",
      "                  %%%%%%%%%%%%%%%%%%%%%%%%%%%%%%%%%%%%%%%%\n",
      "                                   %%%%%%%%%%%%%%%%%%%%%%%%\n",
      "                                    %%%%%%%%%%%%%%%%%%%%%%%%\n",
      "                ###############      %%%%%%%%%%%%%%%%%%%%%%%%\n",
      "               ##################     %%%%%%%%%%%%%%%%%%%%%%%\n",
      "               ###################     %%%%%%%%%%%%%%%%%%%%%%%\n",
      "               ####################     %%%%%%%%%%%%%%%%%%%%%%\n",
      "               #####################     %%%%%%%%%%%%%%%%%%%%%\n",
      "               ######################     %%%%%%%%%%%%%%%%%%%%\n",
      "               #######################     %%%%%%%%%%%%%%%%%%\n",
      "                #######################     %%%%%%%%%%%%%%%%%\n",
      "                ######################     %%%%%%%%%%%%%%%%%\n",
      "                 ####################     %%%%%%%%%%%%%%%%%\n",
      "                   #################     %%%%%%%%%%%%%%%%%\n",
      "                    ###############     %%%%%%%%%%%%%%%%\n",
      "                      ############     %%%%%%%%%%%%%%%\n",
      "                         ########     %%%%%%%%%%%%%%\n",
      "                                     %%%%%%%%%%%\n",
      "\n",
      "                   | The OpenMC Monte Carlo Code\n",
      "         Copyright | 2011-2018 Massachusetts Institute of Technology\n",
      "           License | http://openmc.readthedocs.io/en/latest/license.html\n",
      "           Version | 0.10.0\n",
      "          Git SHA1 | 878abce958547f97279209d47c2c4a42fd310155\n",
      "         Date/Time | 2019-01-25 15:44:49\n",
      "    OpenMP Threads | 4\n",
      "\n",
      " Reading settings XML file...\n",
      " Reading cross sections XML file...\n",
      " Reading materials XML file...\n",
      " Reading geometry XML file...\n",
      " Building neighboring cells lists for each surface...\n",
      " Reading Am242_m1 from /home/james/nndc_hdf5/Am242_m1.h5\n",
      " Reading Be9 from /home/james/nndc_hdf5/Be9.h5\n",
      " Reading O16 from /home/james/nndc_hdf5/O16.h5\n",
      " Reading H1 from /home/james/nndc_hdf5/H1.h5\n",
      " Maximum neutron transport energy: 2.00000E+07 eV for Am242_m1\n",
      " Reading tallies XML file...\n",
      " Writing summary.h5 file...\n",
      " Initializing source particles...\n",
      "\n",
      " ====================>     K EIGENVALUE SIMULATION     <====================\n",
      "\n",
      "  Bat./Gen.      k            Average k         \n",
      "  =========   ========   ====================   \n",
      "        1/1    0.33034                       \n",
      " WARNING: Maximum number of sites in fission bank reached. This can result in\n",
      "          irreproducible results using different numbers of processes/threads.\n",
      " WARNING: Maximum number of sites in fission bank reached. This can result in\n",
      "          irreproducible results using different numbers of processes/threads.\n",
      " WARNING: Maximum number of sites in fission bank reached. This can result in\n",
      "          irreproducible results using different numbers of processes/threads.\n",
      " WARNING: Maximum number of sites in fission bank reached. This can result in\n",
      "          irreproducible results using different numbers of processes/threads.\n",
      " WARNING: Maximum number of sites in fission bank reached. This can result in\n",
      "          irreproducible results using different numbers of processes/threads.\n",
      " WARNING: Maximum number of sites in fission bank reached. This can result in\n",
      "          irreproducible results using different numbers of processes/threads.\n",
      " WARNING: Maximum number of sites in fission bank reached. This can result in\n",
      "          irreproducible results using different numbers of processes/threads.\n",
      " WARNING: Maximum number of sites in fission bank reached. This can result in\n",
      "          irreproducible results using different numbers of processes/threads.\n",
      " WARNING: Maximum number of sites in fission bank reached. This can result in\n",
      "          irreproducible results using different numbers of processes/threads.\n",
      " WARNING: Maximum number of sites in fission bank reached. This can result in\n",
      "          irreproducible results using different numbers of processes/threads.\n",
      " WARNING: Maximum number of sites in fission bank reached. This can result in\n",
      "          irreproducible results using different numbers of processes/threads.\n",
      " WARNING: Maximum number of sites in fission bank reached. This can result in\n",
      "          irreproducible results using different numbers of processes/threads.\n",
      " WARNING: Maximum number of sites in fission bank reached. This can result in\n",
      "          irreproducible results using different numbers of processes/threads.\n",
      " WARNING: Maximum number of sites in fission bank reached. This can result in\n",
      "          irreproducible results using different numbers of processes/threads.\n",
      " WARNING: Maximum number of sites in fission bank reached. This can result in\n",
      "          irreproducible results using different numbers of processes/threads.\n",
      " WARNING: Maximum number of sites in fission bank reached. This can result in\n",
      "          irreproducible results using different numbers of processes/threads.\n",
      " WARNING: Maximum number of sites in fission bank reached. This can result in\n",
      "          irreproducible results using different numbers of processes/threads.\n",
      " WARNING: Maximum number of sites in fission bank reached. This can result in\n",
      "          irreproducible results using different numbers of processes/threads.\n",
      " WARNING: Maximum number of sites in fission bank reached. This can result in\n",
      "          irreproducible results using different numbers of processes/threads.\n",
      " WARNING: Maximum number of sites in fission bank reached. This can result in\n",
      "          irreproducible results using different numbers of processes/threads.\n",
      " WARNING: Maximum number of sites in fission bank reached. This can result in\n",
      "          irreproducible results using different numbers of processes/threads.\n",
      " WARNING: Maximum number of sites in fission bank reached. This can result in\n",
      "          irreproducible results using different numbers of processes/threads.\n",
      " WARNING: Maximum number of sites in fission bank reached. This can result in\n",
      "          irreproducible results using different numbers of processes/threads.\n",
      "        2/1    0.98975                       \n",
      "        3/1    1.02888                       \n",
      "        4/1    1.17416                       \n",
      "        5/1    1.23208                       \n",
      "        6/1    1.05288                       \n",
      "        7/1    1.09165                       \n",
      "        8/1    1.05632                       \n",
      "        9/1    1.22913                       \n",
      "       10/1    0.99683                       \n",
      "       11/1    1.02968                       \n",
      "       12/1    0.96817    0.99893 +/- 0.03076\n",
      "       13/1    1.07571    1.02452 +/- 0.03115\n",
      "       14/1    1.10813    1.04542 +/- 0.03037\n",
      "       15/1    0.94161    1.02466 +/- 0.03137\n",
      "       16/1    1.06347    1.03113 +/- 0.02642\n",
      "       17/1    1.08206    1.03840 +/- 0.02349\n",
      "       18/1    1.00625    1.03439 +/- 0.02073\n",
      "       19/1    0.93459    1.02330 +/- 0.02138\n",
      "       20/1    1.12187    1.03315 +/- 0.02152\n",
      " Creating state point statepoint.20.h5...\n",
      "\n",
      " =======================>     TIMING STATISTICS     <=======================\n",
      "\n",
      " Total time for initialization     =  1.5514E-01 seconds\n",
      "   Reading cross sections          =  1.0904E-01 seconds\n",
      " Total time in simulation          =  1.2666E+00 seconds\n",
      "   Time in transport only          =  1.2110E+00 seconds\n",
      "   Time in inactive batches        =  6.1968E-01 seconds\n",
      "   Time in active batches          =  6.4690E-01 seconds\n",
      "   Time synchronizing fission bank =  6.1939E-04 seconds\n",
      "     Sampling source sites         =  4.8090E-04 seconds\n",
      "     SEND/RECV source sites        =  1.1772E-04 seconds\n",
      "   Time accumulating tallies       =  1.7616E-05 seconds\n",
      " Total time for finalization       =  1.4381E-04 seconds\n",
      " Total time elapsed                =  1.4249E+00 seconds\n",
      " Calculation Rate (inactive)       =  16137.5 neutrons/second\n",
      " Calculation Rate (active)         =  15458.4 neutrons/second\n",
      "\n",
      " ============================>     RESULTS     <============================\n",
      "\n",
      " k-effective (Collision)     =  1.03224 +/-  0.01387\n",
      " k-effective (Track-length)  =  1.03315 +/-  0.02152\n",
      " k-effective (Absorption)    =  1.03216 +/-  0.01426\n",
      " Combined k-effective        =  1.03232 +/-  0.01462\n",
      " Leakage Fraction            =  0.62430 +/-  0.00601\n",
      "\n",
      "\n",
      "Program received signal SIGSEGV: Segmentation fault - invalid memory reference.\n",
      "\n",
      "Backtrace for this error:\n"
     ]
    }
   ],
   "source": [
    "openmc.run()"
   ]
  },
  {
   "cell_type": "code",
   "execution_count": null,
   "metadata": {},
   "outputs": [],
   "source": []
  },
  {
   "cell_type": "code",
   "execution_count": null,
   "metadata": {},
   "outputs": [],
   "source": []
  }
 ],
 "metadata": {
  "kernelspec": {
   "display_name": "Python 3",
   "language": "python",
   "name": "python3"
  },
  "language_info": {
   "codemirror_mode": {
    "name": "ipython",
    "version": 3
   },
   "file_extension": ".py",
   "mimetype": "text/x-python",
   "name": "python",
   "nbconvert_exporter": "python",
   "pygments_lexer": "ipython3",
   "version": "3.6.6"
  }
 },
 "nbformat": 4,
 "nbformat_minor": 2
}
