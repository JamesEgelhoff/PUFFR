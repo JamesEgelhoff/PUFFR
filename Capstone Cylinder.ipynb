{
 "cells": [
  {
   "cell_type": "code",
   "execution_count": 1,
   "metadata": {},
   "outputs": [],
   "source": [
    "%matplotlib inline\n",
    "import openmc"
   ]
  },
  {
   "cell_type": "code",
   "execution_count": 2,
   "metadata": {},
   "outputs": [],
   "source": [
    "am=openmc.Material(1,\"am\")"
   ]
  },
  {
   "cell_type": "code",
   "execution_count": 3,
   "metadata": {},
   "outputs": [],
   "source": [
    "am.add_nuclide('Am242_m1',1)"
   ]
  },
  {
   "cell_type": "code",
   "execution_count": 4,
   "metadata": {},
   "outputs": [
    {
     "name": "stdout",
     "output_type": "stream",
     "text": [
      "Material\n",
      "\tID             =\t1\n",
      "\tName           =\tam\n",
      "\tTemperature    =\tNone\n",
      "\tDensity        =\t12.0 [g/cm3]\n",
      "\tS(a,b) Tables  \n",
      "\tNuclides       \n",
      "\tAm242_m1       =\t1            [ao]\n",
      "\n"
     ]
    }
   ],
   "source": [
    "am.set_density('g/cm3',12.0)\n",
    "print(am)"
   ]
  },
  {
   "cell_type": "code",
   "execution_count": 5,
   "metadata": {},
   "outputs": [],
   "source": [
    "graphite=openmc.Material(2,\"Be\")"
   ]
  },
  {
   "cell_type": "code",
   "execution_count": 6,
   "metadata": {},
   "outputs": [],
   "source": [
    "graphite.add_nuclide('Be9',1.0)"
   ]
  },
  {
   "cell_type": "code",
   "execution_count": 7,
   "metadata": {},
   "outputs": [],
   "source": [
    "graphite.set_density('g/cm3',1.85)"
   ]
  },
  {
   "cell_type": "code",
   "execution_count": 8,
   "metadata": {},
   "outputs": [],
   "source": [
    "vacuummat=openmc.Material(3,\"Helium\")"
   ]
  },
  {
   "cell_type": "code",
   "execution_count": 9,
   "metadata": {},
   "outputs": [],
   "source": [
    "vacuummat.set_density('g/cm3',0.001)"
   ]
  },
  {
   "cell_type": "code",
   "execution_count": 10,
   "metadata": {},
   "outputs": [],
   "source": [
    "vacuummat.add_nuclide('He4',1.0)"
   ]
  },
  {
   "cell_type": "code",
   "execution_count": 11,
   "metadata": {},
   "outputs": [],
   "source": [
    "mats = openmc.Materials([am,graphite,vacuummat])"
   ]
  },
  {
   "cell_type": "code",
   "execution_count": 12,
   "metadata": {},
   "outputs": [],
   "source": [
    "mats.export_to_xml()"
   ]
  },
  {
   "cell_type": "code",
   "execution_count": 13,
   "metadata": {},
   "outputs": [],
   "source": [
    "cyl1=openmc.ZCylinder(R=50)"
   ]
  },
  {
   "cell_type": "code",
   "execution_count": 14,
   "metadata": {},
   "outputs": [],
   "source": [
    "cyl2=openmc.ZCylinder(R=80,boundary_type='vacuum')"
   ]
  },
  {
   "cell_type": "code",
   "execution_count": 15,
   "metadata": {},
   "outputs": [],
   "source": [
    "p1=openmc.ZPlane(z0=0)"
   ]
  },
  {
   "cell_type": "code",
   "execution_count": 16,
   "metadata": {},
   "outputs": [],
   "source": [
    "p2=openmc.ZPlane(z0=3)"
   ]
  },
  {
   "cell_type": "code",
   "execution_count": 17,
   "metadata": {},
   "outputs": [],
   "source": [
    "p3=openmc.ZPlane(z0=5)"
   ]
  },
  {
   "cell_type": "code",
   "execution_count": 18,
   "metadata": {},
   "outputs": [],
   "source": [
    "p4=openmc.ZPlane(z0=10)"
   ]
  },
  {
   "cell_type": "code",
   "execution_count": 19,
   "metadata": {},
   "outputs": [],
   "source": [
    "fuel_region=-cyl1 & +p1 & -p2"
   ]
  },
  {
   "cell_type": "code",
   "execution_count": 20,
   "metadata": {},
   "outputs": [],
   "source": [
    "moderator_region=-cyl1 & +p3 & -p4"
   ]
  },
  {
   "cell_type": "code",
   "execution_count": 21,
   "metadata": {},
   "outputs": [],
   "source": [
    "vacuum_region=-cyl2 & +cyl1 | (+p4 & -cyl1) | (-p1 & -cyl1) | (+p2 & -p3 & -cyl1)"
   ]
  },
  {
   "cell_type": "code",
   "execution_count": 22,
   "metadata": {},
   "outputs": [],
   "source": [
    "fuel=openmc.Cell(1,'fuel')\n",
    "fuel.fill=am\n",
    "fuel.region=fuel_region\n",
    "\n",
    "moderator=openmc.Cell(2,'moderator')\n",
    "moderator.fill=graphite\n",
    "moderator.region=moderator_region\n",
    "\n",
    "vacuum=openmc.Cell(3,'vacuum')\n",
    "vacuum.fill=vacuummat\n",
    "vacuum.region=vacuum_region"
   ]
  },
  {
   "cell_type": "code",
   "execution_count": 23,
   "metadata": {},
   "outputs": [],
   "source": [
    "root = openmc.Universe(cells=(fuel,moderator,vacuum))"
   ]
  },
  {
   "cell_type": "code",
   "execution_count": 24,
   "metadata": {},
   "outputs": [],
   "source": [
    "geom = openmc.Geometry()\n",
    "geom.root_universe = root"
   ]
  },
  {
   "cell_type": "code",
   "execution_count": 25,
   "metadata": {},
   "outputs": [],
   "source": [
    "point = openmc.stats.Point((0, 0, 0.5))\n",
    "src = openmc.Source(space=point)\n",
    "geom.export_to_xml()"
   ]
  },
  {
   "cell_type": "code",
   "execution_count": 26,
   "metadata": {},
   "outputs": [],
   "source": [
    "settings = openmc.Settings()\n",
    "settings.source = src\n",
    "settings.batches = 200\n",
    "settings.inactive = 10\n",
    "settings.particles = 1000\n",
    "settings.export_to_xml()"
   ]
  },
  {
   "cell_type": "code",
   "execution_count": 27,
   "metadata": {},
   "outputs": [],
   "source": [
    "cell_filter = openmc.CellFilter(fuel)\n",
    "\n",
    "t = openmc.Tally(1)\n",
    "t.filters = [cell_filter]"
   ]
  },
  {
   "cell_type": "code",
   "execution_count": 28,
   "metadata": {},
   "outputs": [],
   "source": [
    "t.nuclides = ['Am242_m1']\n",
    "t.scores = ['total', 'fission', 'absorption', '(n,gamma)']"
   ]
  },
  {
   "cell_type": "code",
   "execution_count": 29,
   "metadata": {},
   "outputs": [],
   "source": [
    "t2=openmc.Tally(2)\n",
    "t2.filters = [cell_filter]\n",
    "t2.scores = ['flux']\n",
    "tallies = openmc.Tallies([t,t2])\n",
    "tallies.export_to_xml()"
   ]
  },
  {
   "cell_type": "code",
   "execution_count": 30,
   "metadata": {},
   "outputs": [
    {
     "name": "stdout",
     "output_type": "stream",
     "text": [
      "openmc: Relink `/home/yichengz/anaconda3/bin/../lib/./libgfortran.so.4' with `/lib/x86_64-linux-gnu/librt.so.1' for IFUNC symbol `clock_gettime'\n",
      "\n",
      "                               %%%%%%%%%%%%%%%\n",
      "                          %%%%%%%%%%%%%%%%%%%%%%%%\n",
      "                       %%%%%%%%%%%%%%%%%%%%%%%%%%%%%%\n",
      "                     %%%%%%%%%%%%%%%%%%%%%%%%%%%%%%%%%%\n",
      "                   %%%%%%%%%%%%%%%%%%%%%%%%%%%%%%%%%%%%%%\n",
      "                  %%%%%%%%%%%%%%%%%%%%%%%%%%%%%%%%%%%%%%%%\n",
      "                                   %%%%%%%%%%%%%%%%%%%%%%%%\n",
      "                                    %%%%%%%%%%%%%%%%%%%%%%%%\n",
      "                ###############      %%%%%%%%%%%%%%%%%%%%%%%%\n",
      "               ##################     %%%%%%%%%%%%%%%%%%%%%%%\n",
      "               ###################     %%%%%%%%%%%%%%%%%%%%%%%\n",
      "               ####################     %%%%%%%%%%%%%%%%%%%%%%\n",
      "               #####################     %%%%%%%%%%%%%%%%%%%%%\n",
      "               ######################     %%%%%%%%%%%%%%%%%%%%\n",
      "               #######################     %%%%%%%%%%%%%%%%%%\n",
      "                #######################     %%%%%%%%%%%%%%%%%\n",
      "                ######################     %%%%%%%%%%%%%%%%%\n",
      "                 ####################     %%%%%%%%%%%%%%%%%\n",
      "                   #################     %%%%%%%%%%%%%%%%%\n",
      "                    ###############     %%%%%%%%%%%%%%%%\n",
      "                      ############     %%%%%%%%%%%%%%%\n",
      "                         ########     %%%%%%%%%%%%%%\n",
      "                                     %%%%%%%%%%%\n",
      "\n",
      "                   | The OpenMC Monte Carlo Code\n",
      "         Copyright | 2011-2018 Massachusetts Institute of Technology\n",
      "           License | http://openmc.readthedocs.io/en/latest/license.html\n",
      "           Version | 0.10.0\n",
      "          Git SHA1 | 878abce958547f97279209d47c2c4a42fd310155\n",
      "         Date/Time | 2018-11-09 14:53:54\n",
      "    OpenMP Threads | 8\n",
      "\n",
      " Reading settings XML file...\n",
      " Reading cross sections XML file...\n",
      " Reading materials XML file...\n",
      " Reading geometry XML file...\n",
      " Building neighboring cells lists for each surface...\n",
      " Reading Am242_m1 from /home/yichengz/nndc_hdf5/Am242_m1.h5\n",
      " Reading Be9 from /home/yichengz/nndc_hdf5/Be9.h5\n",
      " Reading He4 from /home/yichengz/nndc_hdf5/He4.h5\n",
      " Maximum neutron transport energy: 2.00000E+07 eV for Am242_m1\n",
      " Reading tallies XML file...\n",
      " Writing summary.h5 file...\n",
      " Initializing source particles...\n",
      "\n",
      " ====================>     K EIGENVALUE SIMULATION     <====================\n",
      "\n",
      "  Bat./Gen.      k            Average k         \n",
      "  =========   ========   ====================   \n",
      "        1/1    0.91841                       \n",
      "        2/1    1.02687                       \n",
      "        3/1    1.03282                       \n",
      "        4/1    1.05967                       \n",
      "        5/1    1.07863                       \n",
      "        6/1    0.99999                       \n",
      "        7/1    0.99803                       \n",
      "        8/1    1.01696                       \n",
      "        9/1    0.97546                       \n",
      "       10/1    1.06051                       \n",
      "       11/1    0.99623                       \n",
      "       12/1    1.03200    1.01411 +/- 0.01788\n",
      "       13/1    0.97000    0.99941 +/- 0.01797\n",
      "       14/1    1.02440    1.00566 +/- 0.01416\n",
      "       15/1    0.99744    1.00401 +/- 0.01109\n",
      "       16/1    0.99746    1.00292 +/- 0.00912\n",
      "       17/1    1.05666    1.01060 +/- 0.01088\n",
      "       18/1    0.96410    1.00479 +/- 0.01107\n",
      "       19/1    1.02694    1.00725 +/- 0.01007\n",
      "       20/1    1.04076    1.01060 +/- 0.00961\n",
      "       21/1    1.03840    1.01313 +/- 0.00905\n",
      "       22/1    0.97795    1.01020 +/- 0.00877\n",
      "       23/1    0.97042    1.00714 +/- 0.00863\n",
      "       24/1    0.95464    1.00339 +/- 0.00882\n",
      "       25/1    1.04080    1.00588 +/- 0.00858\n",
      "       26/1    1.00751    1.00598 +/- 0.00803\n",
      "       27/1    1.02801    1.00728 +/- 0.00765\n",
      "       28/1    1.00572    1.00719 +/- 0.00722\n",
      "       29/1    0.96216    1.00482 +/- 0.00723\n",
      "       30/1    1.02407    1.00578 +/- 0.00692\n",
      "       31/1    0.98622    1.00485 +/- 0.00665\n",
      "       32/1    1.01441    1.00529 +/- 0.00636\n",
      "       33/1    1.01316    1.00563 +/- 0.00608\n",
      "       34/1    1.02214    1.00632 +/- 0.00586\n",
      "       35/1    0.98481    1.00546 +/- 0.00569\n",
      "       36/1    1.02286    1.00613 +/- 0.00551\n",
      "       37/1    1.02811    1.00694 +/- 0.00536\n",
      "       38/1    0.95284    1.00501 +/- 0.00552\n",
      "       39/1    0.97683    1.00404 +/- 0.00541\n",
      "       40/1    0.91934    1.00121 +/- 0.00594\n",
      "       41/1    1.00219    1.00124 +/- 0.00575\n",
      "       42/1    1.00598    1.00139 +/- 0.00557\n",
      "       43/1    0.98596    1.00092 +/- 0.00541\n",
      "       44/1    0.89641    0.99785 +/- 0.00609\n",
      "       45/1    0.97733    0.99726 +/- 0.00594\n",
      "       46/1    0.96910    0.99648 +/- 0.00582\n",
      "       47/1    1.04873    0.99789 +/- 0.00584\n",
      "       48/1    1.02269    0.99855 +/- 0.00572\n",
      "       49/1    0.99342    0.99842 +/- 0.00557\n",
      "       50/1    1.03860    0.99942 +/- 0.00552\n",
      "       51/1    0.98856    0.99916 +/- 0.00539\n",
      "       52/1    0.98605    0.99884 +/- 0.00527\n",
      "       53/1    0.99876    0.99884 +/- 0.00515\n",
      "       54/1    1.00870    0.99907 +/- 0.00504\n",
      "       55/1    1.01466    0.99941 +/- 0.00493\n",
      "       56/1    1.05833    1.00069 +/- 0.00499\n",
      "       57/1    1.00001    1.00068 +/- 0.00489\n",
      "       58/1    1.10954    1.00295 +/- 0.00529\n",
      "       59/1    1.00175    1.00292 +/- 0.00518\n",
      "       60/1    1.02036    1.00327 +/- 0.00509\n",
      "       61/1    0.98933    1.00300 +/- 0.00500\n",
      "       62/1    1.07070    1.00430 +/- 0.00507\n",
      "       63/1    0.97280    1.00370 +/- 0.00501\n",
      "       64/1    1.02750    1.00415 +/- 0.00494\n",
      "       65/1    0.98817    1.00385 +/- 0.00485\n",
      "       66/1    0.98606    1.00354 +/- 0.00478\n",
      "       67/1    1.04277    1.00423 +/- 0.00474\n",
      "       68/1    1.02331    1.00455 +/- 0.00467\n",
      "       69/1    1.02000    1.00482 +/- 0.00460\n",
      "       70/1    0.98418    1.00447 +/- 0.00454\n",
      "       71/1    0.97897    1.00405 +/- 0.00448\n",
      "       72/1    0.99572    1.00392 +/- 0.00441\n",
      "       73/1    0.96981    1.00338 +/- 0.00437\n",
      "       74/1    1.02444    1.00371 +/- 0.00432\n",
      "       75/1    0.92998    1.00257 +/- 0.00440\n",
      "       76/1    1.01228    1.00272 +/- 0.00433\n",
      "       77/1    0.98861    1.00251 +/- 0.00427\n",
      "       78/1    1.04856    1.00319 +/- 0.00426\n",
      "       79/1    1.00628    1.00323 +/- 0.00420\n",
      "       80/1    0.94756    1.00244 +/- 0.00422\n",
      "       81/1    1.00175    1.00243 +/- 0.00416\n",
      "       82/1    0.99734    1.00236 +/- 0.00410\n",
      "       83/1    0.97053    1.00192 +/- 0.00407\n",
      "       84/1    1.01379    1.00208 +/- 0.00401\n",
      "       85/1    0.99788    1.00202 +/- 0.00396\n",
      "       86/1    0.95985    1.00147 +/- 0.00395\n",
      "       87/1    0.99696    1.00141 +/- 0.00390\n",
      "       88/1    1.02433    1.00171 +/- 0.00386\n",
      "       89/1    0.94416    1.00098 +/- 0.00388\n",
      "       90/1    0.96012    1.00047 +/- 0.00386\n",
      "       91/1    0.97684    1.00017 +/- 0.00383\n",
      "       92/1    0.97441    0.99986 +/- 0.00379\n",
      "       93/1    1.01530    1.00005 +/- 0.00375\n",
      "       94/1    0.97814    0.99979 +/- 0.00371\n",
      "       95/1    1.00939    0.99990 +/- 0.00367\n",
      "       96/1    1.05789    1.00057 +/- 0.00369\n",
      "       97/1    0.98470    1.00039 +/- 0.00365\n",
      "       98/1    1.00218    1.00041 +/- 0.00361\n",
      "       99/1    0.95440    0.99989 +/- 0.00361\n",
      "      100/1    1.01646    1.00008 +/- 0.00357\n",
      "      101/1    0.94161    0.99943 +/- 0.00359\n",
      "      102/1    0.94908    0.99889 +/- 0.00359\n",
      "      103/1    1.00623    0.99897 +/- 0.00356\n",
      "      104/1    0.91743    0.99810 +/- 0.00362\n",
      "      105/1    0.99413    0.99806 +/- 0.00359\n",
      "      106/1    1.01483    0.99823 +/- 0.00355\n",
      "      107/1    0.99025    0.99815 +/- 0.00352\n",
      "      108/1    0.91893    0.99734 +/- 0.00357\n",
      "      109/1    0.97957    0.99716 +/- 0.00354\n",
      "      110/1    1.00302    0.99722 +/- 0.00351\n",
      "      111/1    1.05918    0.99783 +/- 0.00352\n",
      "      112/1    1.00408    0.99790 +/- 0.00349\n",
      "      113/1    0.99902    0.99791 +/- 0.00346\n",
      "      114/1    1.06174    0.99852 +/- 0.00348\n",
      "      115/1    0.96921    0.99824 +/- 0.00346\n",
      "      116/1    1.02334    0.99848 +/- 0.00343\n",
      "      117/1    1.06492    0.99910 +/- 0.00346\n",
      "      118/1    1.00118    0.99912 +/- 0.00342\n",
      "      119/1    1.07099    0.99978 +/- 0.00345\n",
      "      120/1    1.01757    0.99994 +/- 0.00343\n",
      "      121/1    0.98047    0.99976 +/- 0.00340\n",
      "      122/1    1.01920    0.99994 +/- 0.00337\n",
      "      123/1    1.04000    1.00029 +/- 0.00336\n",
      "      124/1    0.92718    0.99965 +/- 0.00339\n",
      "      125/1    1.05069    1.00009 +/- 0.00339\n",
      "      126/1    1.02170    1.00028 +/- 0.00337\n",
      "      127/1    1.01873    1.00044 +/- 0.00334\n",
      "      128/1    1.02499    1.00065 +/- 0.00332\n",
      "      129/1    1.04629    1.00103 +/- 0.00332\n",
      "      130/1    1.01986    1.00119 +/- 0.00329\n",
      "      131/1    1.04519    1.00155 +/- 0.00329\n",
      "      132/1    0.96816    1.00128 +/- 0.00327\n",
      "      133/1    1.04112    1.00160 +/- 0.00326\n",
      "      134/1    1.01760    1.00173 +/- 0.00324\n",
      "      135/1    0.97016    1.00148 +/- 0.00322\n",
      "      136/1    0.96436    1.00118 +/- 0.00321\n",
      "      137/1    0.97047    1.00094 +/- 0.00319\n",
      "      138/1    0.99798    1.00092 +/- 0.00317\n",
      "      139/1    0.98420    1.00079 +/- 0.00314\n",
      "      140/1    0.99491    1.00074 +/- 0.00312\n",
      "      141/1    1.02255    1.00091 +/- 0.00310\n",
      "      142/1    1.01872    1.00104 +/- 0.00308\n",
      "      143/1    0.94415    1.00062 +/- 0.00309\n",
      "      144/1    1.05628    1.00103 +/- 0.00309\n",
      "      145/1    1.01597    1.00114 +/- 0.00307\n",
      "      146/1    1.04117    1.00144 +/- 0.00306\n",
      "      147/1    0.98080    1.00129 +/- 0.00304\n",
      "      148/1    1.00504    1.00131 +/- 0.00302\n",
      "      149/1    1.00104    1.00131 +/- 0.00300\n",
      "      150/1    0.98778    1.00121 +/- 0.00298\n",
      "      151/1    1.00551    1.00124 +/- 0.00296\n",
      "      152/1    0.95385    1.00091 +/- 0.00296\n",
      "      153/1    1.00462    1.00094 +/- 0.00294\n",
      "      154/1    1.01548    1.00104 +/- 0.00292\n",
      "      155/1    1.02832    1.00123 +/- 0.00290\n",
      "      156/1    0.96312    1.00097 +/- 0.00290\n",
      "      157/1    1.06822    1.00142 +/- 0.00291\n",
      "      158/1    0.96261    1.00116 +/- 0.00290\n",
      "      159/1    1.01799    1.00127 +/- 0.00289\n",
      "      160/1    1.01581    1.00137 +/- 0.00287\n",
      "      161/1    1.00958    1.00142 +/- 0.00285\n",
      "      162/1    1.02248    1.00156 +/- 0.00284\n",
      "      163/1    1.03494    1.00178 +/- 0.00282\n",
      "      164/1    1.01420    1.00186 +/- 0.00281\n",
      "      165/1    1.05417    1.00220 +/- 0.00281\n",
      "      166/1    1.05084    1.00251 +/- 0.00281\n",
      "      167/1    0.96301    1.00226 +/- 0.00280\n",
      "      168/1    1.01576    1.00235 +/- 0.00279\n",
      "      169/1    1.02446    1.00248 +/- 0.00277\n",
      "      170/1    1.02291    1.00261 +/- 0.00276\n",
      "      171/1    1.01817    1.00271 +/- 0.00274\n",
      "      172/1    0.99158    1.00264 +/- 0.00273\n",
      "      173/1    1.00642    1.00266 +/- 0.00271\n",
      "      174/1    0.97482    1.00249 +/- 0.00270\n",
      "      175/1    1.01625    1.00258 +/- 0.00268\n",
      "      176/1    1.00193    1.00257 +/- 0.00267\n",
      "      177/1    1.01633    1.00266 +/- 0.00265\n",
      "      178/1    0.99157    1.00259 +/- 0.00264\n",
      "      179/1    0.95241    1.00229 +/- 0.00264\n",
      "      180/1    1.04843    1.00256 +/- 0.00264\n",
      "      181/1    1.00123    1.00256 +/- 0.00262\n",
      "      182/1    0.95362    1.00227 +/- 0.00262\n",
      "      183/1    0.90642    1.00172 +/- 0.00266\n",
      "      184/1    0.99489    1.00168 +/- 0.00265\n",
      "      185/1    0.99920    1.00166 +/- 0.00263\n",
      "      186/1    1.01854    1.00176 +/- 0.00262\n",
      "      187/1    1.00358    1.00177 +/- 0.00261\n",
      "      188/1    1.04173    1.00199 +/- 0.00260\n",
      "      189/1    1.01587    1.00207 +/- 0.00259\n",
      "      190/1    1.01659    1.00215 +/- 0.00257\n",
      "      191/1    0.96367    1.00194 +/- 0.00257\n",
      "      192/1    1.02361    1.00206 +/- 0.00256\n",
      "      193/1    1.08245    1.00250 +/- 0.00258\n",
      "      194/1    1.03537    1.00268 +/- 0.00257\n",
      "      195/1    1.02018    1.00277 +/- 0.00256\n",
      "      196/1    0.96876    1.00259 +/- 0.00255\n",
      "      197/1    0.98894    1.00252 +/- 0.00254\n",
      "      198/1    0.97570    1.00237 +/- 0.00253\n",
      "      199/1    0.98626    1.00229 +/- 0.00252\n",
      "      200/1    0.93943    1.00196 +/- 0.00253\n",
      " Creating state point statepoint.200.h5...\n",
      "\n",
      " =======================>     TIMING STATISTICS     <=======================\n",
      "\n",
      " Total time for initialization     =  9.7529E-02 seconds\n",
      "   Reading cross sections          =  6.2751E-02 seconds\n",
      " Total time in simulation          =  3.7817E-01 seconds\n",
      "   Time in transport only          =  2.9519E-01 seconds\n",
      "   Time in inactive batches        =  1.2517E-02 seconds\n",
      "   Time in active batches          =  3.6566E-01 seconds\n",
      "   Time synchronizing fission bank =  5.5140E-03 seconds\n",
      "     Sampling source sites         =  4.1290E-03 seconds\n",
      "     SEND/RECV source sites        =  9.2600E-04 seconds\n",
      "   Time accumulating tallies       =  1.9600E-04 seconds\n",
      " Total time for finalization       =  6.0940E-03 seconds\n",
      " Total time elapsed                =  4.8536E-01 seconds\n",
      " Calculation Rate (inactive)       =  7.98913E+05 neutrons/second\n",
      " Calculation Rate (active)         =  5.19615E+05 neutrons/second\n",
      "\n",
      " ============================>     RESULTS     <============================\n",
      "\n",
      " k-effective (Collision)     =  1.00136 +/-  0.00296\n",
      " k-effective (Track-length)  =  1.00196 +/-  0.00253\n",
      " k-effective (Absorption)    =  1.00059 +/-  0.00379\n",
      " Combined k-effective        =  1.00159 +/-  0.00210\n",
      " Leakage Fraction            =  0.72186 +/-  0.00118\n",
      "\n"
     ]
    },
    {
     "data": {
      "text/plain": [
       "0"
      ]
     },
     "execution_count": 30,
     "metadata": {},
     "output_type": "execute_result"
    }
   ],
   "source": [
    "openmc.run()"
   ]
  },
  {
   "cell_type": "code",
   "execution_count": 31,
   "metadata": {},
   "outputs": [
    {
     "name": "stdout",
     "output_type": "stream",
     "text": [
      "\r\n",
      " ============================>     TALLY 1     <============================\r\n",
      "\r\n",
      " Cell 1\r\n",
      "   Am242_m1\r\n",
      "     Total Reaction Rate                  1.11889        +/- 2.84113E-03\r\n",
      "     Fission Rate                         0.285530       +/- 7.34006E-04\r\n",
      "     Absorption Rate                      0.300425       +/- 7.95715E-04\r\n",
      "     (n,gamma)                            1.50616E-02    +/- 8.50713E-05\r\n",
      "\r\n",
      " ============================>     TALLY 2     <============================\r\n",
      "\r\n",
      " Cell 1\r\n",
      "   Total Material\r\n",
      "     Flux                                 4.65008        +/- 1.12553E-02\r\n"
     ]
    }
   ],
   "source": [
    "!cat tallies.out"
   ]
  },
  {
   "cell_type": "code",
   "execution_count": null,
   "metadata": {},
   "outputs": [],
   "source": []
  }
 ],
 "metadata": {
  "kernelspec": {
   "display_name": "Python 3",
   "language": "python",
   "name": "python3"
  },
  "language_info": {
   "codemirror_mode": {
    "name": "ipython",
    "version": 3
   },
   "file_extension": ".py",
   "mimetype": "text/x-python",
   "name": "python",
   "nbconvert_exporter": "python",
   "pygments_lexer": "ipython3",
   "version": "3.6.6"
  }
 },
 "nbformat": 4,
 "nbformat_minor": 2
}
