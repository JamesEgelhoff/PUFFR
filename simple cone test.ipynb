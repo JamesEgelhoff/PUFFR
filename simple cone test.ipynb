{
 "cells": [
  {
   "cell_type": "code",
   "execution_count": 2,
   "metadata": {},
   "outputs": [],
   "source": [
    "%matplotlib inline\n",
    "import numpy as np\n",
    "import openmc"
   ]
  },
  {
   "cell_type": "code",
   "execution_count": 3,
   "metadata": {},
   "outputs": [
    {
     "name": "stdout",
     "output_type": "stream",
     "text": [
      "Material\n",
      "\tID             =\t10\n",
      "\tName           =\tH1\n",
      "\tTemperature    =\tNone\n",
      "\tDensity        =\t1e-06 [g/cm3]\n",
      "\tS(a,b) Tables  \n",
      "\tNuclides       \n",
      "\tH1             =\t1.0          [ao]\n",
      "\n"
     ]
    }
   ],
   "source": [
    "#\"vacuum\"\n",
    "vac = openmc.Material(10, \"H1\")\n",
    "vac.add_nuclide('H1',1.0)\n",
    "vac.set_density('g/cm3',0.000001)\n",
    "print(vac)"
   ]
  },
  {
   "cell_type": "code",
   "execution_count": 79,
   "metadata": {},
   "outputs": [],
   "source": [
    "low = openmc.ZPlane(z0=0)\n",
    "high = openmc.ZPlane(z0=1)\n",
    "cone = openmc.Quadric(a=1,b=1, c=-1, boundary_type='transmission')"
   ]
  },
  {
   "cell_type": "code",
   "execution_count": 84,
   "metadata": {},
   "outputs": [],
   "source": [
    "region = +low & -high & -cone"
   ]
  },
  {
   "cell_type": "code",
   "execution_count": 85,
   "metadata": {},
   "outputs": [],
   "source": [
    "v = openmc.Cell(100, 'vacuum')\n",
    "v.fill = vac\n",
    "v.region = region"
   ]
  },
  {
   "cell_type": "code",
   "execution_count": 86,
   "metadata": {},
   "outputs": [
    {
     "data": {
      "image/png": "[encoded data removed]",
      "text/plain": [
       "<Figure size 432x288 with 1 Axes>"
      ]
     },
     "metadata": {
      "needs_background": "light"
     },
     "output_type": "display_data"
    }
   ],
   "source": [
    "uni = openmc.Universe(cells=[v])\n",
    "uni.plot(width=(5,5), origin=(0,0,.5), basis='xz')"
   ]
  },
  {
   "cell_type": "code",
   "execution_count": 87,
   "metadata": {},
   "outputs": [
    {
     "data": {
      "image/png": "[encoded data removed]",
      "text/plain": [
       "<Figure size 432x288 with 1 Axes>"
      ]
     },
     "metadata": {
      "needs_background": "light"
     },
     "output_type": "display_data"
    }
   ],
   "source": [
    "uni = openmc.Universe(cells=[v])\n",
    "uni.plot(width=(5,5), origin=(0,0,.5), basis='xy')"
   ]
  },
  {
   "cell_type": "code",
   "execution_count": null,
   "metadata": {},
   "outputs": [],
   "source": []
  },
  {
   "cell_type": "code",
   "execution_count": null,
   "metadata": {},
   "outputs": [],
   "source": []
  }
 ],
 "metadata": {
  "kernelspec": {
   "display_name": "Python 3",
   "language": "python",
   "name": "python3"
  },
  "language_info": {
   "codemirror_mode": {
    "name": "ipython",
    "version": 3
   },
   "file_extension": ".py",
   "mimetype": "text/x-python",
   "name": "python",
   "nbconvert_exporter": "python",
   "pygments_lexer": "ipython3",
   "version": "3.6.6"
  }
 },
 "nbformat": 4,
 "nbformat_minor": 2
}
