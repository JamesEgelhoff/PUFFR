{
 "cells": [
  {
   "cell_type": "code",
   "execution_count": 170,
   "metadata": {},
   "outputs": [],
   "source": [
    "%matplotlib inline\n",
    "import numpy as np\n",
    "import openmc"
   ]
  },
  {
   "cell_type": "code",
   "execution_count": 171,
   "metadata": {},
   "outputs": [
    {
     "name": "stdout",
     "output_type": "stream",
     "text": [
      "Material\n",
      "\tID             =\t10\n",
      "\tName           =\tH1\n",
      "\tTemperature    =\tNone\n",
      "\tDensity        =\t1e-06 [g/cm3]\n",
      "\tS(a,b) Tables  \n",
      "\tNuclides       \n",
      "\tH1             =\t1.0          [ao]\n",
      "\n"
     ]
    },
    {
     "name": "stderr",
     "output_type": "stream",
     "text": [
      "/home/james/anaconda3/lib/python3.6/site-packages/openmc/mixin.py:61: IDWarning: Another Material instance already exists with id=10.\n",
      "  warn(msg, IDWarning)\n"
     ]
    }
   ],
   "source": [
    "#\"vacuum\"\n",
    "vac = openmc.Material(10, \"H1\")\n",
    "vac.add_nuclide('H1',1.0)\n",
    "vac.set_density('g/cm3',0.000001)\n",
    "print(vac)"
   ]
  },
  {
   "cell_type": "code",
   "execution_count": 198,
   "metadata": {},
   "outputs": [],
   "source": [
    "origin_x = 0\n",
    "origin_y = 0\n",
    "origin_z = 1\n",
    "r = 1.5\n",
    "h=1\n",
    "Ap = -h**2 / r**2\n",
    "low = openmc.ZPlane(z0=0)\n",
    "high = openmc.ZPlane(z0=1)\n",
    "cone = openmc.Quadric(a=Ap,b=Ap, c=1, \n",
    "                      g=-2*origin_x, h=-2*origin_y,j=-2*origin_z,\n",
    "                      k=-origin_x**2-origin_y**2+origin_z**2,\n",
    "                      boundary_type='transmission')"
   ]
  },
  {
   "cell_type": "code",
   "execution_count": 199,
   "metadata": {},
   "outputs": [],
   "source": [
    "region = +low & -high & -cone"
   ]
  },
  {
   "cell_type": "code",
   "execution_count": 200,
   "metadata": {},
   "outputs": [],
   "source": [
    "v = openmc.Cell(100, 'vacuum')\n",
    "v.fill = vac\n",
    "v.region = region"
   ]
  },
  {
   "cell_type": "code",
   "execution_count": 201,
   "metadata": {},
   "outputs": [
    {
     "data": {
      "image/png": "[encoded data removed]",
      "text/plain": [
       "<Figure size 432x288 with 1 Axes>"
      ]
     },
     "metadata": {
      "needs_background": "light"
     },
     "output_type": "display_data"
    }
   ],
   "source": [
    "uni = openmc.Universe(cells=[v])\n",
    "uni.plot(width=(5,5), origin=(0,0,.5), basis='xz')"
   ]
  },
  {
   "cell_type": "code",
   "execution_count": 202,
   "metadata": {},
   "outputs": [
    {
     "data": {
      "image/png": "[encoded data removed]",
      "text/plain": [
       "<Figure size 432x288 with 1 Axes>"
      ]
     },
     "metadata": {
      "needs_background": "light"
     },
     "output_type": "display_data"
    }
   ],
   "source": [
    "uni = openmc.Universe(cells=[v])\n",
    "uni.plot(width=(5,5), origin=(0,0,.5), basis='xy')"
   ]
  },
  {
   "cell_type": "code",
   "execution_count": null,
   "metadata": {},
   "outputs": [],
   "source": []
  },
  {
   "cell_type": "code",
   "execution_count": null,
   "metadata": {},
   "outputs": [],
   "source": []
  }
 ],
 "metadata": {
  "kernelspec": {
   "display_name": "Python 3",
   "language": "python",
   "name": "python3"
  },
  "language_info": {
   "codemirror_mode": {
    "name": "ipython",
    "version": 3
   },
   "file_extension": ".py",
   "mimetype": "text/x-python",
   "name": "python",
   "nbconvert_exporter": "python",
   "pygments_lexer": "ipython3",
   "version": "3.6.6"
  }
 },
 "nbformat": 4,
 "nbformat_minor": 2
}
