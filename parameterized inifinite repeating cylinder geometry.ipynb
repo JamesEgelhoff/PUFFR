{
 "cells": [
  {
   "cell_type": "code",
   "execution_count": 12,
   "metadata": {},
   "outputs": [],
   "source": [
    "%matplotlib inline\n",
    "import numpy as np\n",
    "import openmc\n",
    "import openmc.model"
   ]
  },
  {
   "cell_type": "code",
   "execution_count": 15,
   "metadata": {},
   "outputs": [],
   "source": [
    "def inf_model(fuel_depth, ref_depth, fuel_thickness, cyl_rad, mod_thickness):\n",
    "    \n",
    "    #fuel\n",
    "    fuel = openmc.Material(name=\"Am242m\")\n",
    "    fuel.add_nuclide('Am242_m1',1)\n",
    "    fuel.set_density('g/cm3',13.6)\n",
    "    \n",
    "    #Be moderator\n",
    "    Be = openmc.Material(name=\"Be\")\n",
    "    Be.add_nuclide(\"Be9\", 1.0)\n",
    "    Be.set_density(\"g/cm3\", 1.85)\n",
    "    \n",
    "    #\"vacuum\"\n",
    "    vac = openmc.Material(name=\"H1\")\n",
    "    vac.add_nuclide('H1',1.0)\n",
    "    vac.set_density('g/cm3',0.000001)\n",
    "    \n",
    "    # Outer radius of fuel\n",
    "    cyl_inner = cyl_rad - fuel_thickness #inner radius for 2micron fuel layer\n",
    "\n",
    "    #edge length of hexagonal fuel cell\n",
    "    hex_dis = cyl_rad + mod_thickness\n",
    "    edge = hex_dis * 2 / np.sqrt(3)\n",
    "\n",
    "    #outer radius of fuel disk\n",
    "    disk_outer = 50 # radius in cm\n",
    "    \n",
    "    #define a cell surface for a single fuel cylinder\n",
    "    f_inner_surf = openmc.ZCylinder(R=cyl_rad-fuel_thickness, boundary_type=\"transmission\")\n",
    "    f_outer_surf = openmc.ZCylinder(R=cyl_rad, boundary_type=\"transmission\")\n",
    "    f_lower_surf = openmc.ZPlane(z0=0, boundary_type=\"vacuum\")\n",
    "    f_upper_surf = openmc.ZPlane(z0=fuel_depth, boundary_type=\"transmission\")\n",
    "    m_upper_surf = openmc.ZPlane(z0=fuel_depth+ref_depth, boundary_type=\"vacuum\")\n",
    "    periodic_hex = openmc.get_hexagonal_prism(edge_length=edge, orientation='x', boundary_type=\"periodic\")\n",
    "\n",
    "    fuel_region = -f_outer_surf & +f_inner_surf & -f_upper_surf & +f_lower_surf\n",
    "    vac_region = -f_inner_surf & +f_lower_surf & -f_upper_surf\n",
    "    mod_region_per = (+f_outer_surf & -f_upper_surf & + f_lower_surf & periodic_hex) | (+f_upper_surf & -m_upper_surf & periodic_hex)\n",
    "\n",
    "    #fill regions with materials\n",
    "    f=openmc.Cell(1, 'fuel')\n",
    "    f.fill=fuel\n",
    "    f.region=fuel_region\n",
    "    \n",
    "    m_per = openmc.Cell(2, 'moderator region with periodic outer bounds')\n",
    "    m_per.fill=Be\n",
    "    m_per.region=mod_region_per\n",
    "\n",
    "    v = openmc.Cell(5, 'vacuum')\n",
    "    v.fill = vac\n",
    "    v.region = vac_region\n",
    "    \n",
    "    #create a root universe\n",
    "    uni = openmc.Universe(cells=[f, m_per, v])\n",
    "    \n",
    "    #create root universe\n",
    "    geom = openmc.Geometry()\n",
    "    geom.root_universe = uni\n",
    "\n",
    "    #configure statistics geometry\n",
    "    #source = openmc.stats.Box((-20, -20, 0), (20, 20, fuel_depth))\n",
    "    source = openmc.stats.Point((cyl_inner+fuel_thickness/2, 0, fuel_depth/2))\n",
    "    src = openmc.Source(space=source)\n",
    "    \n",
    "    #create materials\n",
    "    mats = openmc.Materials()\n",
    "    mats.cross_sections = '/home/james/nndc_hdf5/cross_sections.xml' #comment this out/replace if you need to\n",
    "    mats.append(fuel)\n",
    "    mats += [Be]\n",
    "    mats += [vac]\n",
    "    \n",
    "    #configure run settings\n",
    "    settings = openmc.Settings()\n",
    "    settings.particles = 1000\n",
    "    settings.batches = 300\n",
    "    settings.inactive = 20\n",
    "    settings.source = src\n",
    "    \n",
    "    settings.output = {'tallies': False}\n",
    "    \n",
    "    model = openmc.model.Model(geom, mats, settings)\n",
    "    \n",
    "    return model"
   ]
  },
  {
   "cell_type": "code",
   "execution_count": null,
   "metadata": {
    "scrolled": false
   },
   "outputs": [
    {
     "name": "stderr",
     "output_type": "stream",
     "text": [
      "/home/james/anaconda3/lib/python3.6/site-packages/openmc/mixin.py:61: IDWarning: Another Cell instance already exists with id=1.\n",
      "  warn(msg, IDWarning)\n",
      "/home/james/anaconda3/lib/python3.6/site-packages/openmc/mixin.py:61: IDWarning: Another Cell instance already exists with id=2.\n",
      "  warn(msg, IDWarning)\n",
      "/home/james/anaconda3/lib/python3.6/site-packages/openmc/mixin.py:61: IDWarning: Another Cell instance already exists with id=5.\n",
      "  warn(msg, IDWarning)\n"
     ]
    },
    {
     "name": "stdout",
     "output_type": "stream",
     "text": [
      "Iteration: 1; Guess of 2.50e+01 produced a keff of 0.79949 +/- 0.00257\n"
     ]
    },
    {
     "name": "stderr",
     "output_type": "stream",
     "text": [
      "/home/james/anaconda3/lib/python3.6/site-packages/openmc/mixin.py:61: IDWarning: Another Cell instance already exists with id=1.\n",
      "  warn(msg, IDWarning)\n",
      "/home/james/anaconda3/lib/python3.6/site-packages/openmc/mixin.py:61: IDWarning: Another Cell instance already exists with id=2.\n",
      "  warn(msg, IDWarning)\n",
      "/home/james/anaconda3/lib/python3.6/site-packages/openmc/mixin.py:61: IDWarning: Another Cell instance already exists with id=5.\n",
      "  warn(msg, IDWarning)\n"
     ]
    },
    {
     "name": "stdout",
     "output_type": "stream",
     "text": [
      "Iteration: 2; Guess of 3.50e+01 produced a keff of 1.18179 +/- 0.00284\n"
     ]
    },
    {
     "name": "stderr",
     "output_type": "stream",
     "text": [
      "/home/james/anaconda3/lib/python3.6/site-packages/openmc/mixin.py:61: IDWarning: Another Cell instance already exists with id=1.\n",
      "  warn(msg, IDWarning)\n",
      "/home/james/anaconda3/lib/python3.6/site-packages/openmc/mixin.py:61: IDWarning: Another Cell instance already exists with id=2.\n",
      "  warn(msg, IDWarning)\n",
      "/home/james/anaconda3/lib/python3.6/site-packages/openmc/mixin.py:61: IDWarning: Another Cell instance already exists with id=5.\n",
      "  warn(msg, IDWarning)\n"
     ]
    },
    {
     "name": "stdout",
     "output_type": "stream",
     "text": [
      "Iteration: 3; Guess of 3.00e+01 produced a keff of 1.00767 +/- 0.00282\n"
     ]
    },
    {
     "name": "stderr",
     "output_type": "stream",
     "text": [
      "/home/james/anaconda3/lib/python3.6/site-packages/openmc/mixin.py:61: IDWarning: Another Cell instance already exists with id=1.\n",
      "  warn(msg, IDWarning)\n",
      "/home/james/anaconda3/lib/python3.6/site-packages/openmc/mixin.py:61: IDWarning: Another Cell instance already exists with id=2.\n",
      "  warn(msg, IDWarning)\n",
      "/home/james/anaconda3/lib/python3.6/site-packages/openmc/mixin.py:61: IDWarning: Another Cell instance already exists with id=5.\n",
      "  warn(msg, IDWarning)\n"
     ]
    }
   ],
   "source": [
    "# Perform the search\n",
    "crit, guesses, keffs = openmc.search_for_keff(inf_model, bracket=[25., 35.],\n",
    "                                                  model_args = {\n",
    "                                                      'ref_depth':10,\n",
    "                                                      'fuel_thickness':1e-3,\n",
    "                                                      'cyl_rad':1,\n",
    "                                                      'mod_thickness':6},\n",
    "                                                  tol=1.E-2, bracketed_method='bisect',\n",
    "                                                  print_iterations=True)\n",
    "\n",
    "print('Critical fuel depth: {:4.0f}'.format(crit))"
   ]
  },
  {
   "cell_type": "code",
   "execution_count": null,
   "metadata": {},
   "outputs": [],
   "source": []
  },
  {
   "cell_type": "code",
   "execution_count": null,
   "metadata": {},
   "outputs": [],
   "source": []
  }
 ],
 "metadata": {
  "kernelspec": {
   "display_name": "Python 3",
   "language": "python",
   "name": "python3"
  },
  "language_info": {
   "codemirror_mode": {
    "name": "ipython",
    "version": 3
   },
   "file_extension": ".py",
   "mimetype": "text/x-python",
   "name": "python",
   "nbconvert_exporter": "python",
   "pygments_lexer": "ipython3",
   "version": "3.6.6"
  }
 },
 "nbformat": 4,
 "nbformat_minor": 2
}
